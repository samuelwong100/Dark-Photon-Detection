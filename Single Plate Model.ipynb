{
 "cells": [
  {
   "cell_type": "code",
   "execution_count": 2,
   "metadata": {},
   "outputs": [],
   "source": [
    "from sympy import symbols,sqrt,exp,diff,sinh,coth,simplify,solve_poly_system, solve,log,cosh"
   ]
  },
  {
   "cell_type": "code",
   "execution_count": 3,
   "metadata": {},
   "outputs": [],
   "source": [
    "x,A,m,t,c1,c2 = symbols(\"x A m_{\\gamma'} t c_1 c_2\")"
   ]
  },
  {
   "cell_type": "code",
   "execution_count": 4,
   "metadata": {},
   "outputs": [
    {
     "data": {
      "text/latex": [
       "$\\displaystyle \\sqrt{c_{1}} c_{2} m_{\\gamma'} + \\sqrt{c_{1}} m_{\\gamma'} t$"
      ],
      "text/plain": [
       "sqrt(c_1)*c_2*m_{\\gamma'} + sqrt(c_1)*m_{\\gamma'}*t"
      ]
     },
     "execution_count": 4,
     "metadata": {},
     "output_type": "execute_result"
    }
   ],
   "source": [
    "u = sqrt(c1)*m*t+sqrt(c1)*c2*m\n",
    "u"
   ]
  },
  {
   "cell_type": "code",
   "execution_count": 5,
   "metadata": {},
   "outputs": [
    {
     "data": {
      "text/latex": [
       "$\\displaystyle \\frac{\\log{\\left(- \\frac{A \\left(\\cosh{\\left(\\sqrt{c_{1}} c_{2} m_{\\gamma'} + \\sqrt{c_{1}} m_{\\gamma'} t \\right)} - 1\\right)}{c_{1} m_{\\gamma'}} \\right)}}{m_{\\gamma'}}$"
      ],
      "text/plain": [
       "log(-A*(cosh(sqrt(c_1)*c_2*m_{\\gamma'} + sqrt(c_1)*m_{\\gamma'}*t) - 1)/(c_1*m_{\\gamma'}))/m_{\\gamma'}"
      ]
     },
     "execution_count": 5,
     "metadata": {},
     "output_type": "execute_result"
    }
   ],
   "source": [
    "x=(1/m)*log((-A/(c1*m))*(cosh(u)-1))\n",
    "xw"
   ]
  },
  {
   "cell_type": "code",
   "execution_count": 6,
   "metadata": {},
   "outputs": [
    {
     "data": {
      "text/latex": [
       "$\\displaystyle - \\frac{c_{1} m_{\\gamma'}}{\\cosh{\\left(\\sqrt{c_{1}} m_{\\gamma'} \\left(c_{2} + t\\right) \\right)} - 1}$"
      ],
      "text/plain": [
       "-c_1*m_{\\gamma'}/(cosh(sqrt(c_1)*m_{\\gamma'}*(c_2 + t)) - 1)"
      ]
     },
     "execution_count": 6,
     "metadata": {},
     "output_type": "execute_result"
    }
   ],
   "source": [
    "simplify(diff(x,t,2))"
   ]
  },
  {
   "cell_type": "code",
   "execution_count": 7,
   "metadata": {},
   "outputs": [
    {
     "data": {
      "text/latex": [
       "$\\displaystyle - \\frac{c_{1} m_{\\gamma'}}{\\cosh{\\left(\\sqrt{c_{1}} c_{2} m_{\\gamma'} + \\sqrt{c_{1}} m_{\\gamma'} t \\right)} - 1}$"
      ],
      "text/plain": [
       "-c_1*m_{\\gamma'}/(cosh(sqrt(c_1)*c_2*m_{\\gamma'} + sqrt(c_1)*m_{\\gamma'}*t) - 1)"
      ]
     },
     "execution_count": 7,
     "metadata": {},
     "output_type": "execute_result"
    }
   ],
   "source": [
    "A*exp(-m*x)"
   ]
  },
  {
   "cell_type": "code",
   "execution_count": 8,
   "metadata": {},
   "outputs": [
    {
     "data": {
      "text/latex": [
       "$\\displaystyle \\frac{\\sqrt{c_{1}} \\sinh{\\left(\\sqrt{c_{1}} m_{\\gamma'} \\left(c_{2} + t\\right) \\right)}}{\\cosh{\\left(\\sqrt{c_{1}} m_{\\gamma'} \\left(c_{2} + t\\right) \\right)} - 1}$"
      ],
      "text/plain": [
       "sqrt(c_1)*sinh(sqrt(c_1)*m_{\\gamma'}*(c_2 + t))/(cosh(sqrt(c_1)*m_{\\gamma'}*(c_2 + t)) - 1)"
      ]
     },
     "execution_count": 8,
     "metadata": {},
     "output_type": "execute_result"
    }
   ],
   "source": [
    "simplify(diff(x,t))"
   ]
  },
  {
   "cell_type": "code",
   "execution_count": 10,
   "metadata": {},
   "outputs": [
    {
     "data": {
      "text/latex": [
       "$\\displaystyle 0$"
      ],
      "text/plain": [
       "0"
      ]
     },
     "execution_count": 10,
     "metadata": {},
     "output_type": "execute_result"
    }
   ],
   "source": [
    "simplify(diff(x,t,2)-A*exp(-m*x))"
   ]
  },
  {
   "cell_type": "code",
   "execution_count": null,
   "metadata": {},
   "outputs": [],
   "source": []
  }
 ],
 "metadata": {
  "kernelspec": {
   "display_name": "Python 3",
   "language": "python",
   "name": "python3"
  },
  "language_info": {
   "codemirror_mode": {
    "name": "ipython",
    "version": 3
   },
   "file_extension": ".py",
   "mimetype": "text/x-python",
   "name": "python",
   "nbconvert_exporter": "python",
   "pygments_lexer": "ipython3",
   "version": "3.7.6"
  }
 },
 "nbformat": 4,
 "nbformat_minor": 4
}
