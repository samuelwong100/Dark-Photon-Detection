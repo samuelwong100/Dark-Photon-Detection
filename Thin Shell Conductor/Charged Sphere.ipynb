{
 "cells": [
  {
   "cell_type": "code",
   "execution_count": 29,
   "metadata": {},
   "outputs": [],
   "source": [
    "import numpy as np"
   ]
  },
  {
   "cell_type": "code",
   "execution_count": 30,
   "metadata": {},
   "outputs": [
    {
     "name": "stdout",
     "output_type": "stream",
     "text": [
      "Populating the interactive namespace from numpy and matplotlib\n"
     ]
    }
   ],
   "source": [
    "%pylab inline"
   ]
  },
  {
   "cell_type": "code",
   "execution_count": 31,
   "metadata": {},
   "outputs": [],
   "source": [
    "R = 1\n",
    "m = 0.5\n",
    "epsilon = 0.1\n",
    "Q = 1000\n",
    "r = np.linspace(0,2*R,1000)"
   ]
  },
  {
   "cell_type": "code",
   "execution_count": 32,
   "metadata": {},
   "outputs": [],
   "source": [
    "coeff = (epsilon*Q)/(8*np.pi*R)\n",
    "\n",
    "def Vin(r,R):\n",
    "    return coeff*((np.exp(m*r)-np.exp(-m*r))/(m*r))*(np.exp(-m*R)/R)\n",
    "\n",
    "def Vout(r,R):\n",
    "    return coeff*((np.exp(m*R)-np.exp(-m*R))/(m*R))*(np.exp(-m*r)/r)\n",
    "\n",
    "def V_singlevalue(r,R):\n",
    "    if r<R:\n",
    "        return Vin(r,R)\n",
    "    else:\n",
    "        return Vout(r,R)"
   ]
  },
  {
   "cell_type": "code",
   "execution_count": 33,
   "metadata": {},
   "outputs": [],
   "source": [
    "Vfunc = np.vectorize(V_singlevalue)"
   ]
  },
  {
   "cell_type": "code",
   "execution_count": 34,
   "metadata": {},
   "outputs": [
    {
     "name": "stderr",
     "output_type": "stream",
     "text": [
      "C:\\Users\\samue\\anaconda3\\lib\\site-packages\\ipykernel_launcher.py:4: RuntimeWarning: invalid value encountered in double_scalars\n",
      "  after removing the cwd from sys.path.\n"
     ]
    },
    {
     "data": {
      "image/png": "[encoded data removed]",
      "text/plain": [
       "<Figure size 432x288 with 1 Axes>"
      ]
     },
     "metadata": {
      "needs_background": "light"
     },
     "output_type": "display_data"
    }
   ],
   "source": [
    "plt.plot(r,Vfunc(r,R))\n",
    "plt.xlabel(\"r\")\n",
    "plt.ylabel(\"V'\")\n",
    "plt.title(\"Sphere\")\n",
    "plt.savefig(\"Sphere Dark Photon\")"
   ]
  },
  {
   "cell_type": "code",
   "execution_count": null,
   "metadata": {},
   "outputs": [],
   "source": []
  },
  {
   "cell_type": "code",
   "execution_count": null,
   "metadata": {},
   "outputs": [],
   "source": []
  }
 ],
 "metadata": {
  "kernelspec": {
   "display_name": "Python 3",
   "language": "python",
   "name": "python3"
  },
  "language_info": {
   "codemirror_mode": {
    "name": "ipython",
    "version": 3
   },
   "file_extension": ".py",
   "mimetype": "text/x-python",
   "name": "python",
   "nbconvert_exporter": "python",
   "pygments_lexer": "ipython3",
   "version": "3.7.6"
  }
 },
 "nbformat": 4,
 "nbformat_minor": 4
}
