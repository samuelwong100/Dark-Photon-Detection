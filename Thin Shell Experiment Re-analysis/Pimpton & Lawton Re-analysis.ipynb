{
 "cells": [
  {
   "cell_type": "code",
   "execution_count": 439,
   "metadata": {},
   "outputs": [
    {
     "name": "stdout",
     "output_type": "stream",
     "text": [
      "Populating the interactive namespace from numpy and matplotlib\n"
     ]
    }
   ],
   "source": [
    "import numpy as np\n",
    "%pylab inline"
   ]
  },
  {
   "cell_type": "code",
   "execution_count": 440,
   "metadata": {},
   "outputs": [],
   "source": [
    "ft_to_ev_inverse = 1544855.50049\n",
    "v_sense = 10**(-6)\n",
    "V0 = 3000\n",
    "R1 = 2 * ft_to_ev_inverse\n",
    "R2 = 2.5 * ft_to_ev_inverse\n",
    "R1_unconverted = 2\n",
    "R2_unconverted = 2.5"
   ]
  },
  {
   "cell_type": "code",
   "execution_count": 441,
   "metadata": {},
   "outputs": [],
   "source": [
    "def Delta_V(epsilon,m):\n",
    "    param = (epsilon**2)/m\n",
    "    numerator = R1_unconverted*np.sinh(m*R2) - R2_unconverted*np.sinh(m*R1)\n",
    "    denominator = R1_unconverted*R2*np.exp(m*R2) + param*R1_unconverted*np.sinh(m*R2)\n",
    "    return V0*param*numerator/denominator"
   ]
  },
  {
   "cell_type": "code",
   "execution_count": 442,
   "metadata": {},
   "outputs": [],
   "source": [
    "number_of_epsilon = 2000\n",
    "number_of_m = 2000"
   ]
  },
  {
   "cell_type": "code",
   "execution_count": 443,
   "metadata": {},
   "outputs": [],
   "source": [
    "epsilon_list = np.logspace(-10,0,number_of_epsilon) #this is the base 10 exponent range"
   ]
  },
  {
   "cell_type": "code",
   "execution_count": 444,
   "metadata": {},
   "outputs": [],
   "source": [
    "m_list = np.logspace(-13,-4,number_of_m)"
   ]
  },
  {
   "cell_type": "code",
   "execution_count": 445,
   "metadata": {},
   "outputs": [],
   "source": [
    "Delta_V_evaluated = np.zeros(shape=(number_of_epsilon,number_of_m))\n",
    "for (i,m) in enumerate(m_list):\n",
    "    for (j,epsilon) in enumerate(epsilon_list):\n",
    "        Delta_V_evaluated[i][j] = Delta_V(epsilon,m)"
   ]
  },
  {
   "cell_type": "code",
   "execution_count": 446,
   "metadata": {},
   "outputs": [],
   "source": [
    "#check whether the potential difference is larger than v_sensitivity. If so, already eliminated by experiment\n",
    "#if still smaller, then it's still possible\n",
    "Delta_V_possible = Delta_V_evaluated<v_sense"
   ]
  },
  {
   "cell_type": "code",
   "execution_count": 447,
   "metadata": {},
   "outputs": [
    {
     "data": {
      "image/png": "[encoded data removed]",
      "text/plain": [
       "<Figure size 432x288 with 1 Axes>"
      ]
     },
     "metadata": {
      "needs_background": "light"
     },
     "output_type": "display_data"
    }
   ],
   "source": [
    "plt.pcolormesh(m_list,epsilon_list,Delta_V_possible.T,cmap=\"gray\") #always plot the transpose with colormesh\n",
    "plt.xscale(\"log\")\n",
    "plt.yscale(\"log\")\n",
    "plt.ylabel('$\\epsilon$')\n",
    "plt.xlabel('m (eV)')\n",
    "plt.title(\"Plimpton & Lawton\")\n",
    "plt.savefig(\"Plimpton & Lawton.png\",dpi=300)"
   ]
  },
  {
   "cell_type": "code",
   "execution_count": null,
   "metadata": {},
   "outputs": [],
   "source": []
  },
  {
   "cell_type": "code",
   "execution_count": null,
   "metadata": {},
   "outputs": [],
   "source": []
  }
 ],
 "metadata": {
  "kernelspec": {
   "display_name": "Python 3",
   "language": "python",
   "name": "python3"
  },
  "language_info": {
   "codemirror_mode": {
    "name": "ipython",
    "version": 3
   },
   "file_extension": ".py",
   "mimetype": "text/x-python",
   "name": "python",
   "nbconvert_exporter": "python",
   "pygments_lexer": "ipython3",
   "version": "3.7.6"
  }
 },
 "nbformat": 4,
 "nbformat_minor": 4
}
