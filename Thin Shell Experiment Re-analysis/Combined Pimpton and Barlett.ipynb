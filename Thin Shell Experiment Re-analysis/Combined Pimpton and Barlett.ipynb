{
 "cells": [
  {
   "cell_type": "code",
   "execution_count": 8,
   "metadata": {},
   "outputs": [
    {
     "name": "stdout",
     "output_type": "stream",
     "text": [
      "Populating the interactive namespace from numpy and matplotlib\n"
     ]
    }
   ],
   "source": [
    "import numpy as np\n",
    "%pylab inline"
   ]
  },
  {
   "cell_type": "code",
   "execution_count": 9,
   "metadata": {},
   "outputs": [],
   "source": [
    "class Experiment():\n",
    "    def __init__(self,unit_to_ev_inverse,v_sense,V0,R1_unconverted,R2_unconverted):\n",
    "        self.unit_to_ev_inverse = unit_to_ev_inverse\n",
    "        self.v_sense = v_sense\n",
    "        self.V0 = V0\n",
    "        self.R1_unconverted = R1_unconverted\n",
    "        self.R2_unconverted = R2_unconverted\n",
    "        self.R1 = self.R1_unconverted * self.unit_to_ev_inverse\n",
    "        self.R2 = self.R2_unconverted * self.unit_to_ev_inverse\n",
    "\n",
    "    def Delta_V(self,epsilon,m):\n",
    "        param = (epsilon**2)/m\n",
    "        numerator = self.R1_unconverted*np.sinh(m*self.R2) - self.R2_unconverted*np.sinh(m*self.R1)\n",
    "        denominator = self.R1_unconverted*self.R2*np.exp(m*self.R2) + param*self.R1_unconverted*np.sinh(m*self.R2)\n",
    "        return self.V0*param*numerator/denominator\n",
    "    \n",
    "    def evaluate_Delta_V(self,epsilon_list,m_list):\n",
    "        number_of_epsilon=np.size(epsilon_list)\n",
    "        number_of_m = np.size(m_list)\n",
    "        Delta_V_evaluated = np.zeros(shape=(number_of_epsilon,number_of_m))\n",
    "        for (i,m) in enumerate(m_list):\n",
    "            for (j,epsilon) in enumerate(epsilon_list):\n",
    "                Delta_V_evaluated[i][j] = self.Delta_V(epsilon,m)\n",
    "        return Delta_V_evaluated\n",
    "    \n",
    "    def get_Delta_V_possible(self,epsilon_list,m_list):\n",
    "        Delta_V_evaluated = self.evaluate_Delta_V(epsilon_list,m_list)\n",
    "        Delta_V_possible = (Delta_V_evaluated < self.v_sense)\n",
    "        return Delta_V_possible"
   ]
  },
  {
   "cell_type": "code",
   "execution_count": 10,
   "metadata": {},
   "outputs": [],
   "source": [
    "Pimpton = Experiment(unit_to_ev_inverse=1544855.50049, v_sense=10**(-6), V0=3000, R1_unconverted=2, R2_unconverted=2.5)\n",
    "Bartlett = Experiment(unit_to_ev_inverse=50684, v_sense=0.3*(10**-9), V0= 40000, R1_unconverted=38, R2_unconverted=46)"
   ]
  },
  {
   "cell_type": "code",
   "execution_count": 11,
   "metadata": {},
   "outputs": [],
   "source": [
    "number_of_epsilon = 2000\n",
    "number_of_m = 2000\n",
    "epsilon_list = np.logspace(-10,2,number_of_epsilon) #this is the base 10 exponent range\n",
    "m_list = np.logspace(-13,-4,number_of_m)"
   ]
  },
  {
   "cell_type": "code",
   "execution_count": 12,
   "metadata": {},
   "outputs": [],
   "source": [
    "Pimpton_possible = Pimpton.get_Delta_V_possible(epsilon_list,m_list)"
   ]
  },
  {
   "cell_type": "code",
   "execution_count": 13,
   "metadata": {},
   "outputs": [],
   "source": [
    "Bartlett_possible = Bartlett.get_Delta_V_possible(epsilon_list,m_list)"
   ]
  },
  {
   "cell_type": "code",
   "execution_count": 14,
   "metadata": {},
   "outputs": [
    {
     "data": {
      "image/png": "[encoded data removed]",
      "text/plain": [
       "<Figure size 432x288 with 1 Axes>"
      ]
     },
     "metadata": {
      "needs_background": "light"
     },
     "output_type": "display_data"
    }
   ],
   "source": [
    "plt.figure()\n",
    "plt.pcolormesh(m_list,epsilon_list,Bartlett_possible.T.astype(int)+Pimpton_possible.T.astype(int))\n",
    "#always need to plot transpose with color mesh\n",
    "#convert boolean to 0 and 1 using astype\n",
    "#when we add the two, value 0 = constrained by both, value 1 = constrained by 1 experiment\n",
    "plt.xscale(\"log\")\n",
    "plt.yscale(\"log\")\n",
    "plt.ylabel('$\\epsilon$')\n",
    "plt.xlabel('m (eV)')\n",
    "plt.title(\"PL & BGL Constraints\")\n",
    "plt.savefig(\"PL & BGL Constraints.png\",dpi=500)"
   ]
  },
  {
   "cell_type": "code",
   "execution_count": 19,
   "metadata": {},
   "outputs": [
    {
     "data": {
      "image/png": "[encoded data removed]",
      "text/plain": [
       "<Figure size 432x288 with 1 Axes>"
      ]
     },
     "metadata": {
      "needs_background": "light"
     },
     "output_type": "display_data"
    }
   ],
   "source": [
    "Bartlett_cm = Experiment(unit_to_ev_inverse=1, v_sense=0.3*(10**-9), V0= 40000, R1_unconverted=38, R2_unconverted=46)\n",
    "number_of_epsilon = 2000\n",
    "number_of_m = 2000\n",
    "epsilon_list = np.logspace(-10,2,number_of_epsilon) #this is the base 10 exponent range\n",
    "m_list = np.logspace(-9,1,number_of_m)\n",
    "Bartlett_possible = Bartlett_cm.get_Delta_V_possible(epsilon_list,m_list)\n",
    "plt.figure()\n",
    "plt.pcolormesh(m_list,epsilon_list,Bartlett_possible.T.astype(int))\n",
    "plt.xscale(\"log\")\n",
    "plt.yscale(\"log\")\n",
    "plt.ylabel('$\\epsilon$')\n",
    "plt.xlabel('m (cm^{-1})')\n",
    "plt.title(\"BGL Constraints (cm)\")\n",
    "plt.savefig(\"BGL Constraints (cm).png\",dpi=500)"
   ]
  },
  {
   "cell_type": "code",
   "execution_count": null,
   "metadata": {},
   "outputs": [],
   "source": []
  },
  {
   "cell_type": "code",
   "execution_count": 58,
   "metadata": {},
   "outputs": [],
   "source": [
    "B = Bartlett"
   ]
  },
  {
   "cell_type": "code",
   "execution_count": 75,
   "metadata": {},
   "outputs": [],
   "source": [
    "def epsilon(m):\n",
    "    #v_ratio = B.v_sense/B.V0\n",
    "    v_ratio = 1\n",
    "    B.R1_unconverted =1\n",
    "    B.R2_unconverted=1\n",
    "    numerator = (v_ratio*B.R1_unconverted*B.R2_unconverted*e**(m*B.R2_unconverted)*m)\n",
    "    denominator = (B.R1_unconverted*np.sinh(m*B.R2_unconverted)-B.R2*np.sinh(m*B.R1_unconverted) - v_ratio*B.R1_unconverted*np.sinh(m*B.R2_unconverted))\n",
    "    return np.sqrt(numerator/denominator)"
   ]
  },
  {
   "cell_type": "code",
   "execution_count": 77,
   "metadata": {},
   "outputs": [
    {
     "name": "stderr",
     "output_type": "stream",
     "text": [
      "C:\\Users\\samue\\anaconda3\\lib\\site-packages\\ipykernel_launcher.py:8: RuntimeWarning: invalid value encountered in sqrt\n",
      "  \n"
     ]
    },
    {
     "data": {
      "image/png": "[encoded data removed]",
      "text/plain": [
       "<Figure size 432x288 with 1 Axes>"
      ]
     },
     "metadata": {
      "needs_background": "light"
     },
     "output_type": "display_data"
    }
   ],
   "source": [
    "m_list = np.logspace(0,1,number_of_m)\n",
    "plt.plot(m_list,epsilon(m_list))\n",
    "#plt.plot(m_list,0.0000001*m_list**2)\n",
    "plt.xscale(\"log\")\n",
    "plt.yscale(\"log\")"
   ]
  },
  {
   "cell_type": "code",
   "execution_count": 40,
   "metadata": {},
   "outputs": [
    {
     "data": {
      "text/plain": [
       "100000.0"
      ]
     },
     "execution_count": 40,
     "metadata": {},
     "output_type": "execute_result"
    }
   ],
   "source": [
    "m_list[-1]"
   ]
  },
  {
   "cell_type": "code",
   "execution_count": 68,
   "metadata": {},
   "outputs": [
    {
     "name": "stderr",
     "output_type": "stream",
     "text": [
      "C:\\Users\\samue\\anaconda3\\lib\\site-packages\\ipykernel_launcher.py:6: RuntimeWarning: divide by zero encountered in double_scalars\n",
      "  \n"
     ]
    },
    {
     "data": {
      "text/plain": [
       "inf"
      ]
     },
     "execution_count": 68,
     "metadata": {},
     "output_type": "execute_result"
    }
   ],
   "source": [
    "epsilon(10)"
   ]
  },
  {
   "cell_type": "code",
   "execution_count": 70,
   "metadata": {},
   "outputs": [
    {
     "data": {
      "text/plain": [
       "2.6881171418161212e+43"
      ]
     },
     "execution_count": 70,
     "metadata": {},
     "output_type": "execute_result"
    }
   ],
   "source": [
    "e**(100)"
   ]
  },
  {
   "cell_type": "code",
   "execution_count": 91,
   "metadata": {},
   "outputs": [],
   "source": [
    "def f(m):\n",
    "    numerator = e**(m)*m\n",
    "    denominator = - np.sinh(m)\n",
    "    return np.sqrt(numerator/denominator)"
   ]
  },
  {
   "cell_type": "code",
   "execution_count": 92,
   "metadata": {},
   "outputs": [
    {
     "name": "stdout",
     "output_type": "stream",
     "text": [
      "2.718281828459045\n"
     ]
    },
    {
     "name": "stderr",
     "output_type": "stream",
     "text": [
      "C:\\Users\\samue\\anaconda3\\lib\\site-packages\\ipykernel_launcher.py:5: RuntimeWarning: invalid value encountered in sqrt\n",
      "  \"\"\"\n"
     ]
    },
    {
     "data": {
      "text/plain": [
       "nan"
      ]
     },
     "execution_count": 92,
     "metadata": {},
     "output_type": "execute_result"
    }
   ],
   "source": [
    "f(1)"
   ]
  },
  {
   "cell_type": "code",
   "execution_count": 94,
   "metadata": {},
   "outputs": [
    {
     "data": {
      "text/plain": [
       "2.718281828459045"
      ]
     },
     "execution_count": 94,
     "metadata": {},
     "output_type": "execute_result"
    }
   ],
   "source": [
    "e**(1)*1"
   ]
  },
  {
   "cell_type": "code",
   "execution_count": 95,
   "metadata": {},
   "outputs": [
    {
     "data": {
      "text/plain": [
       "1.1752011936438014"
      ]
     },
     "execution_count": 95,
     "metadata": {},
     "output_type": "execute_result"
    }
   ],
   "source": [
    "np.sinh(1)"
   ]
  },
  {
   "cell_type": "code",
   "execution_count": 96,
   "metadata": {},
   "outputs": [
    {
     "data": {
      "text/plain": [
       "2.3130352854993315"
      ]
     },
     "execution_count": 96,
     "metadata": {},
     "output_type": "execute_result"
    }
   ],
   "source": [
    "e**(1)*1/np.sinh(1)"
   ]
  },
  {
   "cell_type": "code",
   "execution_count": 125,
   "metadata": {},
   "outputs": [],
   "source": [
    "R1 = 1\n",
    "R2 = 3\n",
    "def g(m):\n",
    "    return R1*np.sinh(R2*m) - R2*np.sinh(R1*m)"
   ]
  },
  {
   "cell_type": "code",
   "execution_count": 126,
   "metadata": {},
   "outputs": [
    {
     "data": {
      "image/png": "[encoded data removed]",
      "text/plain": [
       "<Figure size 432x288 with 1 Axes>"
      ]
     },
     "metadata": {
      "needs_background": "light"
     },
     "output_type": "display_data"
    }
   ],
   "source": [
    "m_list = np.logspace(-4,1,number_of_m)\n",
    "plt.plot(m_list,g(m_list))\n",
    "plt.xscale('log')\n",
    "plt.yscale('log')"
   ]
  },
  {
   "cell_type": "code",
   "execution_count": 135,
   "metadata": {},
   "outputs": [
    {
     "data": {
      "text/plain": [
       "0.3333333288888889"
      ]
     },
     "execution_count": 135,
     "metadata": {},
     "output_type": "execute_result"
    }
   ],
   "source": [
    "m=0.0001\n",
    "np.sinh(R1*m)/np.sinh(R2*m)"
   ]
  },
  {
   "cell_type": "code",
   "execution_count": 128,
   "metadata": {},
   "outputs": [
    {
     "data": {
      "text/plain": [
       "1"
      ]
     },
     "execution_count": 128,
     "metadata": {},
     "output_type": "execute_result"
    }
   ],
   "source": [
    "R1"
   ]
  },
  {
   "cell_type": "code",
   "execution_count": 129,
   "metadata": {},
   "outputs": [
    {
     "data": {
      "text/plain": [
       "3"
      ]
     },
     "execution_count": 129,
     "metadata": {},
     "output_type": "execute_result"
    }
   ],
   "source": [
    "R2"
   ]
  },
  {
   "cell_type": "code",
   "execution_count": 130,
   "metadata": {},
   "outputs": [
    {
     "data": {
      "text/plain": [
       "0.0040200433876105834"
      ]
     },
     "execution_count": 130,
     "metadata": {},
     "output_type": "execute_result"
    }
   ],
   "source": [
    "g(0.1)"
   ]
  },
  {
   "cell_type": "code",
   "execution_count": 131,
   "metadata": {},
   "outputs": [
    {
     "data": {
      "text/plain": [
       "0.30452029344714265"
      ]
     },
     "execution_count": 131,
     "metadata": {},
     "output_type": "execute_result"
    }
   ],
   "source": [
    "R1*np.sinh(R2*m)"
   ]
  },
  {
   "cell_type": "code",
   "execution_count": 132,
   "metadata": {},
   "outputs": [
    {
     "data": {
      "text/plain": [
       "0.30050025005953207"
      ]
     },
     "execution_count": 132,
     "metadata": {},
     "output_type": "execute_result"
    }
   ],
   "source": [
    "R2*np.sinh(R1*m)"
   ]
  },
  {
   "cell_type": "code",
   "execution_count": null,
   "metadata": {},
   "outputs": [],
   "source": []
  }
 ],
 "metadata": {
  "kernelspec": {
   "display_name": "Python 3",
   "language": "python",
   "name": "python3"
  },
  "language_info": {
   "codemirror_mode": {
    "name": "ipython",
    "version": 3
   },
   "file_extension": ".py",
   "mimetype": "text/x-python",
   "name": "python",
   "nbconvert_exporter": "python",
   "pygments_lexer": "ipython3",
   "version": "3.7.6"
  }
 },
 "nbformat": 4,
 "nbformat_minor": 4
}
