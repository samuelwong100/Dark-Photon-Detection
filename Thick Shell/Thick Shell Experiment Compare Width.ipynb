{
 "cells": [
  {
   "cell_type": "code",
   "execution_count": 1,
   "metadata": {},
   "outputs": [],
   "source": [
    "from Thick_Shell_Class import Dark_Photon_Thick_Shell\n",
    "from Thick_Shell_Class import s2app_func"
   ]
  },
  {
   "cell_type": "code",
   "execution_count": 2,
   "metadata": {},
   "outputs": [
    {
     "name": "stdout",
     "output_type": "stream",
     "text": [
      "Populating the interactive namespace from numpy and matplotlib\n"
     ]
    }
   ],
   "source": [
    "import numpy as np\n",
    "%pylab inline"
   ]
  },
  {
   "cell_type": "code",
   "execution_count": 3,
   "metadata": {},
   "outputs": [],
   "source": [
    "number_of_epsilon = 300\n",
    "number_of_m = 300\n",
    "epsilon_list = np.logspace(-10,0,number_of_epsilon) #this is the base 10 exponent range\n",
    "m_list = np.logspace(-11,-4.5,number_of_m)"
   ]
  },
  {
   "cell_type": "code",
   "execution_count": 4,
   "metadata": {},
   "outputs": [],
   "source": [
    "ft_to_ev_inverse = 1544855.50049\n",
    "v_sense = 10**(-6)\n",
    "Vapp = 3000\n",
    "R0 = 2 * ft_to_ev_inverse\n",
    "R1 = 2.5 * ft_to_ev_inverse"
   ]
  },
  {
   "cell_type": "code",
   "execution_count": 5,
   "metadata": {},
   "outputs": [],
   "source": [
    "def Delta_V(epsilon,m,R2):\n",
    "    s2app = s2app_func(epsilon,m,R1,R2,Vapp)\n",
    "    DPTS = Dark_Photon_Thick_Shell(epsilon,m,R1,R2,s2app,fast=True)\n",
    "    return Vapp - DPTS.Vpp(R0)"
   ]
  },
  {
   "cell_type": "code",
   "execution_count": 6,
   "metadata": {},
   "outputs": [],
   "source": [
    "def get_constraint(thickness_in_cm):\n",
    "    R2 = (2.5 + thickness_in_cm * 0.0328084) * ft_to_ev_inverse \n",
    "    Delta_V_evaluated = np.zeros(shape=(number_of_epsilon,number_of_m))\n",
    "    for (i,m) in enumerate(m_list):\n",
    "        for (j,epsilon) in enumerate(epsilon_list):\n",
    "            Delta_V_evaluated[i][j] = Delta_V(epsilon,m,R2)\n",
    "    constraint = (Delta_V_evaluated<v_sense)\n",
    "    return constraint"
   ]
  },
  {
   "cell_type": "code",
   "execution_count": 7,
   "metadata": {},
   "outputs": [],
   "source": [
    "constraint_1cm = get_constraint(1)"
   ]
  },
  {
   "cell_type": "code",
   "execution_count": 8,
   "metadata": {},
   "outputs": [],
   "source": [
    "constraint_10cm = get_constraint(10)"
   ]
  },
  {
   "cell_type": "code",
   "execution_count": 9,
   "metadata": {},
   "outputs": [],
   "source": [
    "constraint_20cm = get_constraint(20)"
   ]
  },
  {
   "cell_type": "code",
   "execution_count": 10,
   "metadata": {},
   "outputs": [],
   "source": [
    "constraint_30cm = get_constraint(30)"
   ]
  },
  {
   "cell_type": "code",
   "execution_count": 11,
   "metadata": {},
   "outputs": [
    {
     "name": "stderr",
     "output_type": "stream",
     "text": [
      "<string>:2: RuntimeWarning: overflow encountered in double_scalars\n",
      "<string>:2: RuntimeWarning: invalid value encountered in double_scalars\n",
      "<string>:2: RuntimeWarning: overflow encountered in double_scalars\n",
      "C:\\Users\\samue\\anaconda3\\lib\\site-packages\\ipykernel_launcher.py:7: RuntimeWarning: invalid value encountered in less\n",
      "  import sys\n"
     ]
    }
   ],
   "source": [
    "constraint_40cm = get_constraint(40)"
   ]
  },
  {
   "cell_type": "code",
   "execution_count": 17,
   "metadata": {},
   "outputs": [
    {
     "data": {
      "image/png": "[encoded data removed]",
      "text/plain": [
       "<Figure size 432x288 with 1 Axes>"
      ]
     },
     "metadata": {
      "needs_background": "light"
     },
     "output_type": "display_data"
    }
   ],
   "source": [
    "plt.pcolormesh(m_list,epsilon_list,constraint_1cm.T.astype(int)+constraint_10cm.T.astype(int)\n",
    "               +constraint_20cm.T.astype(int)+constraint_30cm.T.astype(int)+constraint_40cm.T.astype(int),cmap='Set1')\n",
    "#always plot the transpose with colormesh\n",
    "#plt.colorbar()\n",
    "plt.xscale(\"log\")\n",
    "plt.yscale(\"log\")\n",
    "plt.ylabel('$\\epsilon$')\n",
    "plt.xlabel('m (eV)')\n",
    "plt.title(\"Plimpton & Lawton Width Comparison\")\n",
    "plt.savefig(\"Plimpton & Lawton Width Comparison.png\",dpi=300)"
   ]
  },
  {
   "cell_type": "code",
   "execution_count": null,
   "metadata": {},
   "outputs": [],
   "source": []
  },
  {
   "cell_type": "code",
   "execution_count": null,
   "metadata": {},
   "outputs": [],
   "source": []
  },
  {
   "cell_type": "code",
   "execution_count": null,
   "metadata": {},
   "outputs": [],
   "source": []
  }
 ],
 "metadata": {
  "kernelspec": {
   "display_name": "Python 3",
   "language": "python",
   "name": "python3"
  },
  "language_info": {
   "codemirror_mode": {
    "name": "ipython",
    "version": 3
   },
   "file_extension": ".py",
   "mimetype": "text/x-python",
   "name": "python",
   "nbconvert_exporter": "python",
   "pygments_lexer": "ipython3",
   "version": "3.7.6"
  }
 },
 "nbformat": 4,
 "nbformat_minor": 4
}
