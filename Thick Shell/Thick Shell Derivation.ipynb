{
 "cells": [
  {
   "cell_type": "code",
   "execution_count": 1,
   "metadata": {},
   "outputs": [],
   "source": [
    "from sympy import symbols,sqrt,exp,diff,sinh,coth,simplify,factor,solve_poly_system, solve,collect,lambdify"
   ]
  },
  {
   "cell_type": "code",
   "execution_count": 2,
   "metadata": {},
   "outputs": [],
   "source": [
    "R1, R2, s1, s2, V, Vprime, epsilon, m, mb, r = symbols(\"R_1 R_2 \\sigma_1 \\sigma_2 V V' \\epsilon m_{\\gamma'} \\pmb{m} r\")\n",
    "b3, b4, c4, b1, b2, c3 = symbols(\"b_3 b_4 c_4 b_1 b_2 c_3\")"
   ]
  },
  {
   "cell_type": "code",
   "execution_count": 3,
   "metadata": {},
   "outputs": [],
   "source": [
    "def DeltaDiff(fabove,fbelow,point):\n",
    "    return (diff(fabove,r)-diff(fbelow,r)).subs(r,point)"
   ]
  },
  {
   "cell_type": "code",
   "execution_count": 4,
   "metadata": {},
   "outputs": [],
   "source": [
    "def laplacian(f):\n",
    "    return diff(diff(f,r),r) + (2/r)*diff(f,r)"
   ]
  },
  {
   "cell_type": "markdown",
   "metadata": {},
   "source": [
    "# 1. Finding V' in terms of $\\sigma_1$ and $\\sigma_2$ using derivative discontinuity"
   ]
  },
  {
   "cell_type": "markdown",
   "metadata": {},
   "source": [
    "## General Solution of V'"
   ]
  },
  {
   "cell_type": "markdown",
   "metadata": {},
   "source": [
    "The expression for dark photon in inner space, bulk, and outside are given by a generic expression with 4 constants b1 to b4."
   ]
  },
  {
   "cell_type": "code",
   "execution_count": 5,
   "metadata": {},
   "outputs": [
    {
     "data": {
      "text/latex": [
       "$\\displaystyle \\frac{2 b_{1} \\sinh{\\left(m_{\\gamma'} r \\right)}}{m_{\\gamma'} r}$"
      ],
      "text/plain": [
       "2*b_1*sinh(m_{\\gamma'}*r)/(m_{\\gamma'}*r)"
      ]
     },
     "execution_count": 5,
     "metadata": {},
     "output_type": "execute_result"
    }
   ],
   "source": [
    "Vprimein = b1*2*sinh(m*r)/(m*r)\n",
    "Vprimein"
   ]
  },
  {
   "cell_type": "code",
   "execution_count": 6,
   "metadata": {},
   "outputs": [
    {
     "data": {
      "text/latex": [
       "$\\displaystyle \\frac{b_{4} e^{- \\pmb{m} r}}{r} + \\frac{b_{3} e^{\\pmb{m} r}}{\\pmb{m} r}$"
      ],
      "text/plain": [
       "b_4*exp(-\\pmb{m}*r)/r + b_3*exp(\\pmb{m}*r)/(\\pmb{m}*r)"
      ]
     },
     "execution_count": 6,
     "metadata": {},
     "output_type": "execute_result"
    }
   ],
   "source": [
    "Vprime = b3*exp(mb*r)/(mb*r)+b4*exp(-mb*r)/r\n",
    "Vprime"
   ]
  },
  {
   "cell_type": "code",
   "execution_count": 7,
   "metadata": {},
   "outputs": [
    {
     "data": {
      "text/latex": [
       "$\\displaystyle \\frac{b_{2} e^{- m_{\\gamma'} r}}{m_{\\gamma'} r}$"
      ],
      "text/plain": [
       "b_2*exp(-m_{\\gamma'}*r)/(m_{\\gamma'}*r)"
      ]
     },
     "execution_count": 7,
     "metadata": {},
     "output_type": "execute_result"
    }
   ],
   "source": [
    "Vprimeout = b2*exp(-m*r)/(m*r)\n",
    "Vprimeout"
   ]
  },
  {
   "cell_type": "markdown",
   "metadata": {},
   "source": [
    "We know from before, by continuity, value of b1 and b2 in terms of b3 and b4."
   ]
  },
  {
   "cell_type": "code",
   "execution_count": 8,
   "metadata": {},
   "outputs": [
    {
     "data": {
      "text/latex": [
       "$\\displaystyle \\frac{m_{\\gamma'} \\left(b_{4} e^{- R_{1} \\pmb{m}} + \\frac{b_{3} e^{R_{1} \\pmb{m}}}{\\pmb{m}}\\right)}{2 \\sinh{\\left(R_{1} m_{\\gamma'} \\right)}}$"
      ],
      "text/plain": [
       "m_{\\gamma'}*(b_4*exp(-R_1*\\pmb{m}) + b_3*exp(R_1*\\pmb{m})/\\pmb{m})/(2*sinh(R_1*m_{\\gamma'}))"
      ]
     },
     "execution_count": 8,
     "metadata": {},
     "output_type": "execute_result"
    }
   ],
   "source": [
    "b1_express = (m/(2*sinh(m*R1)))*(b3*exp(mb*R1)/mb + b4*exp(-mb*R1))\n",
    "b1_express"
   ]
  },
  {
   "cell_type": "code",
   "execution_count": 9,
   "metadata": {},
   "outputs": [
    {
     "data": {
      "text/latex": [
       "$\\displaystyle m_{\\gamma'} \\left(b_{4} e^{- R_{2} \\pmb{m}} + \\frac{b_{3} e^{R_{2} \\pmb{m}}}{\\pmb{m}}\\right) e^{R_{2} m_{\\gamma'}}$"
      ],
      "text/plain": [
       "m_{\\gamma'}*(b_4*exp(-R_2*\\pmb{m}) + b_3*exp(R_2*\\pmb{m})/\\pmb{m})*exp(R_2*m_{\\gamma'})"
      ]
     },
     "execution_count": 9,
     "metadata": {},
     "output_type": "execute_result"
    }
   ],
   "source": [
    "b2_express = m*exp(m*R2)*(b3*exp(mb*R2)/mb+b4*exp(-mb*R2))\n",
    "b2_express"
   ]
  },
  {
   "cell_type": "markdown",
   "metadata": {},
   "source": [
    "We check that the reduced equation of motion are satisfied."
   ]
  },
  {
   "cell_type": "code",
   "execution_count": 10,
   "metadata": {},
   "outputs": [
    {
     "data": {
      "text/latex": [
       "$\\displaystyle 0$"
      ],
      "text/plain": [
       "0"
      ]
     },
     "execution_count": 10,
     "metadata": {},
     "output_type": "execute_result"
    }
   ],
   "source": [
    "simplify(laplacian(Vprimein) - m**2*Vprimein) "
   ]
  },
  {
   "cell_type": "code",
   "execution_count": 11,
   "metadata": {},
   "outputs": [
    {
     "data": {
      "text/latex": [
       "$\\displaystyle 0$"
      ],
      "text/plain": [
       "0"
      ]
     },
     "execution_count": 11,
     "metadata": {},
     "output_type": "execute_result"
    }
   ],
   "source": [
    "simplify(laplacian(Vprime)-mb**2*Vprime)"
   ]
  },
  {
   "cell_type": "code",
   "execution_count": 12,
   "metadata": {},
   "outputs": [
    {
     "data": {
      "text/latex": [
       "$\\displaystyle 0$"
      ],
      "text/plain": [
       "0"
      ]
     },
     "execution_count": 12,
     "metadata": {},
     "output_type": "execute_result"
    }
   ],
   "source": [
    "simplify(laplacian(Vprimeout) - m**2*Vprimeout)"
   ]
  },
  {
   "cell_type": "markdown",
   "metadata": {},
   "source": [
    "We also check the continuity of V'"
   ]
  },
  {
   "cell_type": "code",
   "execution_count": 13,
   "metadata": {},
   "outputs": [
    {
     "data": {
      "text/latex": [
       "$\\displaystyle 0$"
      ],
      "text/plain": [
       "0"
      ]
     },
     "execution_count": 13,
     "metadata": {},
     "output_type": "execute_result"
    }
   ],
   "source": [
    "simplify(Vprime.subs([(r,R1),(b1,b1_express)]) - Vprimein.subs([(r,R1),(b1,b1_express)]))"
   ]
  },
  {
   "cell_type": "code",
   "execution_count": 14,
   "metadata": {},
   "outputs": [
    {
     "data": {
      "text/latex": [
       "$\\displaystyle 0$"
      ],
      "text/plain": [
       "0"
      ]
     },
     "execution_count": 14,
     "metadata": {},
     "output_type": "execute_result"
    }
   ],
   "source": [
    "simplify(Vprimeout.subs([(r,R2),(b2,b2_express)]) - Vprime.subs([(r,R2),(b2,b2_express)]))"
   ]
  },
  {
   "cell_type": "markdown",
   "metadata": {},
   "source": [
    "## Applying discontinuity at $R_1$"
   ]
  },
  {
   "cell_type": "markdown",
   "metadata": {},
   "source": [
    "We apply $\\Delta \\frac{dV'}{dr}(R1) = - \\epsilon \\sigma_1$"
   ]
  },
  {
   "cell_type": "code",
   "execution_count": 15,
   "metadata": {},
   "outputs": [
    {
     "data": {
      "text/latex": [
       "$\\displaystyle - \\frac{\\pmb{m} b_{4} e^{- R_{1} \\pmb{m}}}{R_{1}} - \\frac{2 b_{1} \\cosh{\\left(R_{1} m_{\\gamma'} \\right)}}{R_{1}} + \\frac{b_{3} e^{R_{1} \\pmb{m}}}{R_{1}} + \\frac{2 b_{1} \\sinh{\\left(R_{1} m_{\\gamma'} \\right)}}{R_{1}^{2} m_{\\gamma'}} - \\frac{b_{4} e^{- R_{1} \\pmb{m}}}{R_{1}^{2}} - \\frac{b_{3} e^{R_{1} \\pmb{m}}}{R_{1}^{2} \\pmb{m}}$"
      ],
      "text/plain": [
       "-\\pmb{m}*b_4*exp(-R_1*\\pmb{m})/R_1 - 2*b_1*cosh(R_1*m_{\\gamma'})/R_1 + b_3*exp(R_1*\\pmb{m})/R_1 + 2*b_1*sinh(R_1*m_{\\gamma'})/(R_1**2*m_{\\gamma'}) - b_4*exp(-R_1*\\pmb{m})/R_1**2 - b_3*exp(R_1*\\pmb{m})/(R_1**2*\\pmb{m})"
      ]
     },
     "execution_count": 15,
     "metadata": {},
     "output_type": "execute_result"
    }
   ],
   "source": [
    "DeltaDiff(Vprime,Vprimein,R1)"
   ]
  },
  {
   "cell_type": "markdown",
   "metadata": {},
   "source": [
    "The above expression is equal to $-\\epsilon \\sigma_1$. So we note that the below expression (equation 1) is zero"
   ]
  },
  {
   "cell_type": "code",
   "execution_count": 16,
   "metadata": {},
   "outputs": [
    {
     "data": {
      "text/latex": [
       "$\\displaystyle \\epsilon \\sigma_1 - \\frac{\\pmb{m} b_{4} e^{- R_{1} \\pmb{m}}}{R_{1}} - \\frac{2 b_{1} \\cosh{\\left(R_{1} m_{\\gamma'} \\right)}}{R_{1}} + \\frac{b_{3} e^{R_{1} \\pmb{m}}}{R_{1}} + \\frac{2 b_{1} \\sinh{\\left(R_{1} m_{\\gamma'} \\right)}}{R_{1}^{2} m_{\\gamma'}} - \\frac{b_{4} e^{- R_{1} \\pmb{m}}}{R_{1}^{2}} - \\frac{b_{3} e^{R_{1} \\pmb{m}}}{R_{1}^{2} \\pmb{m}}$"
      ],
      "text/plain": [
       "\\epsilon*\\sigma_1 - \\pmb{m}*b_4*exp(-R_1*\\pmb{m})/R_1 - 2*b_1*cosh(R_1*m_{\\gamma'})/R_1 + b_3*exp(R_1*\\pmb{m})/R_1 + 2*b_1*sinh(R_1*m_{\\gamma'})/(R_1**2*m_{\\gamma'}) - b_4*exp(-R_1*\\pmb{m})/R_1**2 - b_3*exp(R_1*\\pmb{m})/(R_1**2*\\pmb{m})"
      ]
     },
     "execution_count": 16,
     "metadata": {},
     "output_type": "execute_result"
    }
   ],
   "source": [
    "equation1 = DeltaDiff(Vprime,Vprimein,R1)+epsilon*s1\n",
    "equation1"
   ]
  },
  {
   "cell_type": "markdown",
   "metadata": {},
   "source": [
    "We might as well substitude b1 to get everything in terms of b3 and b4."
   ]
  },
  {
   "cell_type": "code",
   "execution_count": 17,
   "metadata": {},
   "outputs": [
    {
     "data": {
      "text/latex": [
       "$\\displaystyle \\epsilon \\sigma_1 - \\frac{\\pmb{m} b_{4} e^{- R_{1} \\pmb{m}}}{R_{1}} + \\frac{b_{3} e^{R_{1} \\pmb{m}}}{R_{1}} - \\frac{b_{4} m_{\\gamma'} e^{- R_{1} \\pmb{m}}}{R_{1} \\tanh{\\left(R_{1} m_{\\gamma'} \\right)}} - \\frac{b_{3} m_{\\gamma'} e^{R_{1} \\pmb{m}}}{R_{1} \\pmb{m} \\tanh{\\left(R_{1} m_{\\gamma'} \\right)}}$"
      ],
      "text/plain": [
       "\\epsilon*\\sigma_1 - \\pmb{m}*b_4*exp(-R_1*\\pmb{m})/R_1 + b_3*exp(R_1*\\pmb{m})/R_1 - b_4*m_{\\gamma'}*exp(-R_1*\\pmb{m})/(R_1*tanh(R_1*m_{\\gamma'})) - b_3*m_{\\gamma'}*exp(R_1*\\pmb{m})/(R_1*\\pmb{m}*tanh(R_1*m_{\\gamma'}))"
      ]
     },
     "execution_count": 17,
     "metadata": {},
     "output_type": "execute_result"
    }
   ],
   "source": [
    "equation1 = simplify(equation1.subs(b1,b1_express))\n",
    "equation1"
   ]
  },
  {
   "cell_type": "markdown",
   "metadata": {},
   "source": [
    "## Applying discontinuity at $R_2$"
   ]
  },
  {
   "cell_type": "code",
   "execution_count": 18,
   "metadata": {},
   "outputs": [
    {
     "data": {
      "text/latex": [
       "$\\displaystyle \\frac{\\pmb{m} b_{4} e^{- R_{2} \\pmb{m}}}{R_{2}} - \\frac{b_{2} e^{- R_{2} m_{\\gamma'}}}{R_{2}} - \\frac{b_{3} e^{R_{2} \\pmb{m}}}{R_{2}} - \\frac{b_{2} e^{- R_{2} m_{\\gamma'}}}{R_{2}^{2} m_{\\gamma'}} + \\frac{b_{4} e^{- R_{2} \\pmb{m}}}{R_{2}^{2}} + \\frac{b_{3} e^{R_{2} \\pmb{m}}}{R_{2}^{2} \\pmb{m}}$"
      ],
      "text/plain": [
       "\\pmb{m}*b_4*exp(-R_2*\\pmb{m})/R_2 - b_2*exp(-R_2*m_{\\gamma'})/R_2 - b_3*exp(R_2*\\pmb{m})/R_2 - b_2*exp(-R_2*m_{\\gamma'})/(R_2**2*m_{\\gamma'}) + b_4*exp(-R_2*\\pmb{m})/R_2**2 + b_3*exp(R_2*\\pmb{m})/(R_2**2*\\pmb{m})"
      ]
     },
     "execution_count": 18,
     "metadata": {},
     "output_type": "execute_result"
    }
   ],
   "source": [
    "DeltaDiff(Vprimeout,Vprime,R2)"
   ]
  },
  {
   "cell_type": "markdown",
   "metadata": {},
   "source": [
    "The above expression is equal to $-\\epsilon \\sigma_2$. So we note that the below expression (equation 2) is zero"
   ]
  },
  {
   "cell_type": "code",
   "execution_count": 19,
   "metadata": {},
   "outputs": [
    {
     "data": {
      "text/latex": [
       "$\\displaystyle \\epsilon \\sigma_2 + \\frac{\\pmb{m} b_{4} e^{- R_{2} \\pmb{m}}}{R_{2}} - \\frac{b_{2} e^{- R_{2} m_{\\gamma'}}}{R_{2}} - \\frac{b_{3} e^{R_{2} \\pmb{m}}}{R_{2}} - \\frac{b_{2} e^{- R_{2} m_{\\gamma'}}}{R_{2}^{2} m_{\\gamma'}} + \\frac{b_{4} e^{- R_{2} \\pmb{m}}}{R_{2}^{2}} + \\frac{b_{3} e^{R_{2} \\pmb{m}}}{R_{2}^{2} \\pmb{m}}$"
      ],
      "text/plain": [
       "\\epsilon*\\sigma_2 + \\pmb{m}*b_4*exp(-R_2*\\pmb{m})/R_2 - b_2*exp(-R_2*m_{\\gamma'})/R_2 - b_3*exp(R_2*\\pmb{m})/R_2 - b_2*exp(-R_2*m_{\\gamma'})/(R_2**2*m_{\\gamma'}) + b_4*exp(-R_2*\\pmb{m})/R_2**2 + b_3*exp(R_2*\\pmb{m})/(R_2**2*\\pmb{m})"
      ]
     },
     "execution_count": 19,
     "metadata": {},
     "output_type": "execute_result"
    }
   ],
   "source": [
    "equation2 = DeltaDiff(Vprimeout,Vprime,R2)+epsilon*s2\n",
    "equation2"
   ]
  },
  {
   "cell_type": "markdown",
   "metadata": {},
   "source": [
    "Substituting b2 to get everything in terms of b3 and b4"
   ]
  },
  {
   "cell_type": "code",
   "execution_count": 20,
   "metadata": {},
   "outputs": [
    {
     "data": {
      "text/latex": [
       "$\\displaystyle \\epsilon \\sigma_2 + \\frac{\\pmb{m} b_{4} e^{- R_{2} \\pmb{m}}}{R_{2}} - \\frac{b_{3} e^{R_{2} \\pmb{m}}}{R_{2}} - \\frac{b_{4} m_{\\gamma'} e^{- R_{2} \\pmb{m}}}{R_{2}} - \\frac{b_{3} m_{\\gamma'} e^{R_{2} \\pmb{m}}}{R_{2} \\pmb{m}}$"
      ],
      "text/plain": [
       "\\epsilon*\\sigma_2 + \\pmb{m}*b_4*exp(-R_2*\\pmb{m})/R_2 - b_3*exp(R_2*\\pmb{m})/R_2 - b_4*m_{\\gamma'}*exp(-R_2*\\pmb{m})/R_2 - b_3*m_{\\gamma'}*exp(R_2*\\pmb{m})/(R_2*\\pmb{m})"
      ]
     },
     "execution_count": 20,
     "metadata": {},
     "output_type": "execute_result"
    }
   ],
   "source": [
    "equation2 = simplify(equation2.subs(b2,b2_express))\n",
    "equation2"
   ]
  },
  {
   "cell_type": "markdown",
   "metadata": {},
   "source": [
    "## Solving for $b_3$ and $b_4$"
   ]
  },
  {
   "cell_type": "markdown",
   "metadata": {},
   "source": [
    "I want to solve equation 1 and equation 2 for b3 and b4 in terms of $\\sigma_1$ and $\\sigma_2$."
   ]
  },
  {
   "cell_type": "code",
   "execution_count": 21,
   "metadata": {},
   "outputs": [],
   "source": [
    "solution = solve_poly_system([equation1,equation2],b3,b4)"
   ]
  },
  {
   "cell_type": "code",
   "execution_count": 22,
   "metadata": {},
   "outputs": [
    {
     "data": {
      "text/plain": [
       "[(\\epsilon*\\pmb{m}*(R_1*\\pmb{m}*\\sigma_1*exp(R_1*\\pmb{m})*tanh(R_1*m_{\\gamma'}) - R_1*\\sigma_1*m_{\\gamma'}*exp(R_1*\\pmb{m})*tanh(R_1*m_{\\gamma'}) + R_2*\\pmb{m}*\\sigma_2*exp(R_2*\\pmb{m})*tanh(R_1*m_{\\gamma'}) + R_2*\\sigma_2*m_{\\gamma'}*exp(R_2*\\pmb{m}))/(-\\pmb{m}**2*exp(2*R_1*\\pmb{m})*tanh(R_1*m_{\\gamma'}) + \\pmb{m}**2*exp(2*R_2*\\pmb{m})*tanh(R_1*m_{\\gamma'}) + \\pmb{m}*m_{\\gamma'}*exp(2*R_1*\\pmb{m})*tanh(R_1*m_{\\gamma'}) + \\pmb{m}*m_{\\gamma'}*exp(2*R_1*\\pmb{m}) + \\pmb{m}*m_{\\gamma'}*exp(2*R_2*\\pmb{m})*tanh(R_1*m_{\\gamma'}) + \\pmb{m}*m_{\\gamma'}*exp(2*R_2*\\pmb{m}) - m_{\\gamma'}**2*exp(2*R_1*\\pmb{m}) + m_{\\gamma'}**2*exp(2*R_2*\\pmb{m})),\n",
       "  \\epsilon*(R_1*\\pmb{m}*\\sigma_1*exp(R_2*\\pmb{m})*tanh(R_1*m_{\\gamma'}) + R_1*\\sigma_1*m_{\\gamma'}*exp(R_2*\\pmb{m})*tanh(R_1*m_{\\gamma'}) + R_2*\\pmb{m}*\\sigma_2*exp(R_1*\\pmb{m})*tanh(R_1*m_{\\gamma'}) - R_2*\\sigma_2*m_{\\gamma'}*exp(R_1*\\pmb{m}))*exp(\\pmb{m}*(R_1 + R_2))/(-\\pmb{m}**2*exp(2*R_1*\\pmb{m})*tanh(R_1*m_{\\gamma'}) + \\pmb{m}**2*exp(2*R_2*\\pmb{m})*tanh(R_1*m_{\\gamma'}) + \\pmb{m}*m_{\\gamma'}*exp(2*R_1*\\pmb{m})*tanh(R_1*m_{\\gamma'}) + \\pmb{m}*m_{\\gamma'}*exp(2*R_1*\\pmb{m}) + \\pmb{m}*m_{\\gamma'}*exp(2*R_2*\\pmb{m})*tanh(R_1*m_{\\gamma'}) + \\pmb{m}*m_{\\gamma'}*exp(2*R_2*\\pmb{m}) - m_{\\gamma'}**2*exp(2*R_1*\\pmb{m}) + m_{\\gamma'}**2*exp(2*R_2*\\pmb{m})))]"
      ]
     },
     "execution_count": 22,
     "metadata": {},
     "output_type": "execute_result"
    }
   ],
   "source": [
    "solution"
   ]
  },
  {
   "cell_type": "markdown",
   "metadata": {},
   "source": [
    "Since there is only one solution, this is a list of length 1"
   ]
  },
  {
   "cell_type": "code",
   "execution_count": 23,
   "metadata": {},
   "outputs": [],
   "source": [
    "solution = solution[0]"
   ]
  },
  {
   "cell_type": "code",
   "execution_count": 24,
   "metadata": {},
   "outputs": [
    {
     "data": {
      "text/plain": [
       "(\\epsilon*\\pmb{m}*(R_1*\\pmb{m}*\\sigma_1*exp(R_1*\\pmb{m})*tanh(R_1*m_{\\gamma'}) - R_1*\\sigma_1*m_{\\gamma'}*exp(R_1*\\pmb{m})*tanh(R_1*m_{\\gamma'}) + R_2*\\pmb{m}*\\sigma_2*exp(R_2*\\pmb{m})*tanh(R_1*m_{\\gamma'}) + R_2*\\sigma_2*m_{\\gamma'}*exp(R_2*\\pmb{m}))/(-\\pmb{m}**2*exp(2*R_1*\\pmb{m})*tanh(R_1*m_{\\gamma'}) + \\pmb{m}**2*exp(2*R_2*\\pmb{m})*tanh(R_1*m_{\\gamma'}) + \\pmb{m}*m_{\\gamma'}*exp(2*R_1*\\pmb{m})*tanh(R_1*m_{\\gamma'}) + \\pmb{m}*m_{\\gamma'}*exp(2*R_1*\\pmb{m}) + \\pmb{m}*m_{\\gamma'}*exp(2*R_2*\\pmb{m})*tanh(R_1*m_{\\gamma'}) + \\pmb{m}*m_{\\gamma'}*exp(2*R_2*\\pmb{m}) - m_{\\gamma'}**2*exp(2*R_1*\\pmb{m}) + m_{\\gamma'}**2*exp(2*R_2*\\pmb{m})),\n",
       " \\epsilon*(R_1*\\pmb{m}*\\sigma_1*exp(R_2*\\pmb{m})*tanh(R_1*m_{\\gamma'}) + R_1*\\sigma_1*m_{\\gamma'}*exp(R_2*\\pmb{m})*tanh(R_1*m_{\\gamma'}) + R_2*\\pmb{m}*\\sigma_2*exp(R_1*\\pmb{m})*tanh(R_1*m_{\\gamma'}) - R_2*\\sigma_2*m_{\\gamma'}*exp(R_1*\\pmb{m}))*exp(\\pmb{m}*(R_1 + R_2))/(-\\pmb{m}**2*exp(2*R_1*\\pmb{m})*tanh(R_1*m_{\\gamma'}) + \\pmb{m}**2*exp(2*R_2*\\pmb{m})*tanh(R_1*m_{\\gamma'}) + \\pmb{m}*m_{\\gamma'}*exp(2*R_1*\\pmb{m})*tanh(R_1*m_{\\gamma'}) + \\pmb{m}*m_{\\gamma'}*exp(2*R_1*\\pmb{m}) + \\pmb{m}*m_{\\gamma'}*exp(2*R_2*\\pmb{m})*tanh(R_1*m_{\\gamma'}) + \\pmb{m}*m_{\\gamma'}*exp(2*R_2*\\pmb{m}) - m_{\\gamma'}**2*exp(2*R_1*\\pmb{m}) + m_{\\gamma'}**2*exp(2*R_2*\\pmb{m})))"
      ]
     },
     "execution_count": 24,
     "metadata": {},
     "output_type": "execute_result"
    }
   ],
   "source": [
    "solution"
   ]
  },
  {
   "cell_type": "markdown",
   "metadata": {},
   "source": [
    "So the solution for b3 is"
   ]
  },
  {
   "cell_type": "code",
   "execution_count": 25,
   "metadata": {},
   "outputs": [
    {
     "data": {
      "text/latex": [
       "$\\displaystyle \\frac{\\epsilon \\pmb{m} \\left(R_{1} \\pmb{m} \\sigma_1 e^{R_{1} \\pmb{m}} \\tanh{\\left(R_{1} m_{\\gamma'} \\right)} - R_{1} \\sigma_1 m_{\\gamma'} e^{R_{1} \\pmb{m}} \\tanh{\\left(R_{1} m_{\\gamma'} \\right)} + R_{2} \\pmb{m} \\sigma_2 e^{R_{2} \\pmb{m}} \\tanh{\\left(R_{1} m_{\\gamma'} \\right)} + R_{2} \\sigma_2 m_{\\gamma'} e^{R_{2} \\pmb{m}}\\right)}{- \\pmb{m}^{2} e^{2 R_{1} \\pmb{m}} \\tanh{\\left(R_{1} m_{\\gamma'} \\right)} + \\pmb{m}^{2} e^{2 R_{2} \\pmb{m}} \\tanh{\\left(R_{1} m_{\\gamma'} \\right)} + \\pmb{m} m_{\\gamma'} e^{2 R_{1} \\pmb{m}} \\tanh{\\left(R_{1} m_{\\gamma'} \\right)} + \\pmb{m} m_{\\gamma'} e^{2 R_{1} \\pmb{m}} + \\pmb{m} m_{\\gamma'} e^{2 R_{2} \\pmb{m}} \\tanh{\\left(R_{1} m_{\\gamma'} \\right)} + \\pmb{m} m_{\\gamma'} e^{2 R_{2} \\pmb{m}} - m_{\\gamma'}^{2} e^{2 R_{1} \\pmb{m}} + m_{\\gamma'}^{2} e^{2 R_{2} \\pmb{m}}}$"
      ],
      "text/plain": [
       "\\epsilon*\\pmb{m}*(R_1*\\pmb{m}*\\sigma_1*exp(R_1*\\pmb{m})*tanh(R_1*m_{\\gamma'}) - R_1*\\sigma_1*m_{\\gamma'}*exp(R_1*\\pmb{m})*tanh(R_1*m_{\\gamma'}) + R_2*\\pmb{m}*\\sigma_2*exp(R_2*\\pmb{m})*tanh(R_1*m_{\\gamma'}) + R_2*\\sigma_2*m_{\\gamma'}*exp(R_2*\\pmb{m}))/(-\\pmb{m}**2*exp(2*R_1*\\pmb{m})*tanh(R_1*m_{\\gamma'}) + \\pmb{m}**2*exp(2*R_2*\\pmb{m})*tanh(R_1*m_{\\gamma'}) + \\pmb{m}*m_{\\gamma'}*exp(2*R_1*\\pmb{m})*tanh(R_1*m_{\\gamma'}) + \\pmb{m}*m_{\\gamma'}*exp(2*R_1*\\pmb{m}) + \\pmb{m}*m_{\\gamma'}*exp(2*R_2*\\pmb{m})*tanh(R_1*m_{\\gamma'}) + \\pmb{m}*m_{\\gamma'}*exp(2*R_2*\\pmb{m}) - m_{\\gamma'}**2*exp(2*R_1*\\pmb{m}) + m_{\\gamma'}**2*exp(2*R_2*\\pmb{m}))"
      ]
     },
     "execution_count": 25,
     "metadata": {},
     "output_type": "execute_result"
    }
   ],
   "source": [
    "b3_express = simplify(solution[0])\n",
    "b3_express"
   ]
  },
  {
   "cell_type": "markdown",
   "metadata": {},
   "source": [
    "Factoring out $\\sigma_1$ and $\\sigma_2$"
   ]
  },
  {
   "cell_type": "code",
   "execution_count": 26,
   "metadata": {},
   "outputs": [
    {
     "data": {
      "text/latex": [
       "$\\displaystyle \\frac{\\epsilon \\pmb{m} \\left(R_{1} \\sigma_1 \\left(\\pmb{m} - m_{\\gamma'}\\right) e^{R_{1} \\pmb{m}} \\tanh{\\left(R_{1} m_{\\gamma'} \\right)} + R_{2} \\sigma_2 \\left(\\pmb{m} \\tanh{\\left(R_{1} m_{\\gamma'} \\right)} + m_{\\gamma'}\\right) e^{R_{2} \\pmb{m}}\\right)}{- \\pmb{m}^{2} e^{2 R_{1} \\pmb{m}} \\tanh{\\left(R_{1} m_{\\gamma'} \\right)} + \\pmb{m}^{2} e^{2 R_{2} \\pmb{m}} \\tanh{\\left(R_{1} m_{\\gamma'} \\right)} + \\pmb{m} m_{\\gamma'} e^{2 R_{1} \\pmb{m}} \\tanh{\\left(R_{1} m_{\\gamma'} \\right)} + \\pmb{m} m_{\\gamma'} e^{2 R_{1} \\pmb{m}} + \\pmb{m} m_{\\gamma'} e^{2 R_{2} \\pmb{m}} \\tanh{\\left(R_{1} m_{\\gamma'} \\right)} + \\pmb{m} m_{\\gamma'} e^{2 R_{2} \\pmb{m}} - m_{\\gamma'}^{2} e^{2 R_{1} \\pmb{m}} + m_{\\gamma'}^{2} e^{2 R_{2} \\pmb{m}}}$"
      ],
      "text/plain": [
       "\\epsilon*\\pmb{m}*(R_1*\\sigma_1*(\\pmb{m} - m_{\\gamma'})*exp(R_1*\\pmb{m})*tanh(R_1*m_{\\gamma'}) + R_2*\\sigma_2*(\\pmb{m}*tanh(R_1*m_{\\gamma'}) + m_{\\gamma'})*exp(R_2*\\pmb{m}))/(-\\pmb{m}**2*exp(2*R_1*\\pmb{m})*tanh(R_1*m_{\\gamma'}) + \\pmb{m}**2*exp(2*R_2*\\pmb{m})*tanh(R_1*m_{\\gamma'}) + \\pmb{m}*m_{\\gamma'}*exp(2*R_1*\\pmb{m})*tanh(R_1*m_{\\gamma'}) + \\pmb{m}*m_{\\gamma'}*exp(2*R_1*\\pmb{m}) + \\pmb{m}*m_{\\gamma'}*exp(2*R_2*\\pmb{m})*tanh(R_1*m_{\\gamma'}) + \\pmb{m}*m_{\\gamma'}*exp(2*R_2*\\pmb{m}) - m_{\\gamma'}**2*exp(2*R_1*\\pmb{m}) + m_{\\gamma'}**2*exp(2*R_2*\\pmb{m}))"
      ]
     },
     "execution_count": 26,
     "metadata": {},
     "output_type": "execute_result"
    }
   ],
   "source": [
    "b3_express = simplify(b3_express.factor(s1,s2))\n",
    "b3_express"
   ]
  },
  {
   "cell_type": "code",
   "execution_count": 27,
   "metadata": {},
   "outputs": [
    {
     "data": {
      "text/latex": [
       "$\\displaystyle \\frac{\\epsilon \\left(R_{1} \\pmb{m} \\sigma_1 e^{R_{2} \\pmb{m}} \\tanh{\\left(R_{1} m_{\\gamma'} \\right)} + R_{1} \\sigma_1 m_{\\gamma'} e^{R_{2} \\pmb{m}} \\tanh{\\left(R_{1} m_{\\gamma'} \\right)} + R_{2} \\pmb{m} \\sigma_2 e^{R_{1} \\pmb{m}} \\tanh{\\left(R_{1} m_{\\gamma'} \\right)} - R_{2} \\sigma_2 m_{\\gamma'} e^{R_{1} \\pmb{m}}\\right) e^{\\pmb{m} \\left(R_{1} + R_{2}\\right)}}{- \\pmb{m}^{2} e^{2 R_{1} \\pmb{m}} \\tanh{\\left(R_{1} m_{\\gamma'} \\right)} + \\pmb{m}^{2} e^{2 R_{2} \\pmb{m}} \\tanh{\\left(R_{1} m_{\\gamma'} \\right)} + \\pmb{m} m_{\\gamma'} e^{2 R_{1} \\pmb{m}} \\tanh{\\left(R_{1} m_{\\gamma'} \\right)} + \\pmb{m} m_{\\gamma'} e^{2 R_{1} \\pmb{m}} + \\pmb{m} m_{\\gamma'} e^{2 R_{2} \\pmb{m}} \\tanh{\\left(R_{1} m_{\\gamma'} \\right)} + \\pmb{m} m_{\\gamma'} e^{2 R_{2} \\pmb{m}} - m_{\\gamma'}^{2} e^{2 R_{1} \\pmb{m}} + m_{\\gamma'}^{2} e^{2 R_{2} \\pmb{m}}}$"
      ],
      "text/plain": [
       "\\epsilon*(R_1*\\pmb{m}*\\sigma_1*exp(R_2*\\pmb{m})*tanh(R_1*m_{\\gamma'}) + R_1*\\sigma_1*m_{\\gamma'}*exp(R_2*\\pmb{m})*tanh(R_1*m_{\\gamma'}) + R_2*\\pmb{m}*\\sigma_2*exp(R_1*\\pmb{m})*tanh(R_1*m_{\\gamma'}) - R_2*\\sigma_2*m_{\\gamma'}*exp(R_1*\\pmb{m}))*exp(\\pmb{m}*(R_1 + R_2))/(-\\pmb{m}**2*exp(2*R_1*\\pmb{m})*tanh(R_1*m_{\\gamma'}) + \\pmb{m}**2*exp(2*R_2*\\pmb{m})*tanh(R_1*m_{\\gamma'}) + \\pmb{m}*m_{\\gamma'}*exp(2*R_1*\\pmb{m})*tanh(R_1*m_{\\gamma'}) + \\pmb{m}*m_{\\gamma'}*exp(2*R_1*\\pmb{m}) + \\pmb{m}*m_{\\gamma'}*exp(2*R_2*\\pmb{m})*tanh(R_1*m_{\\gamma'}) + \\pmb{m}*m_{\\gamma'}*exp(2*R_2*\\pmb{m}) - m_{\\gamma'}**2*exp(2*R_1*\\pmb{m}) + m_{\\gamma'}**2*exp(2*R_2*\\pmb{m}))"
      ]
     },
     "execution_count": 27,
     "metadata": {},
     "output_type": "execute_result"
    }
   ],
   "source": [
    "b4_express = simplify(solution[1])\n",
    "b4_express"
   ]
  },
  {
   "cell_type": "code",
   "execution_count": 28,
   "metadata": {},
   "outputs": [
    {
     "data": {
      "text/latex": [
       "$\\displaystyle \\frac{\\epsilon \\left(R_{1} \\sigma_1 \\left(\\pmb{m} + m_{\\gamma'}\\right) e^{R_{2} \\pmb{m}} \\tanh{\\left(R_{1} m_{\\gamma'} \\right)} + R_{2} \\sigma_2 \\left(\\pmb{m} \\tanh{\\left(R_{1} m_{\\gamma'} \\right)} - m_{\\gamma'}\\right) e^{R_{1} \\pmb{m}}\\right) e^{\\pmb{m} \\left(R_{1} + R_{2}\\right)}}{- \\pmb{m}^{2} e^{2 R_{1} \\pmb{m}} \\tanh{\\left(R_{1} m_{\\gamma'} \\right)} + \\pmb{m}^{2} e^{2 R_{2} \\pmb{m}} \\tanh{\\left(R_{1} m_{\\gamma'} \\right)} + \\pmb{m} m_{\\gamma'} e^{2 R_{1} \\pmb{m}} \\tanh{\\left(R_{1} m_{\\gamma'} \\right)} + \\pmb{m} m_{\\gamma'} e^{2 R_{1} \\pmb{m}} + \\pmb{m} m_{\\gamma'} e^{2 R_{2} \\pmb{m}} \\tanh{\\left(R_{1} m_{\\gamma'} \\right)} + \\pmb{m} m_{\\gamma'} e^{2 R_{2} \\pmb{m}} - m_{\\gamma'}^{2} e^{2 R_{1} \\pmb{m}} + m_{\\gamma'}^{2} e^{2 R_{2} \\pmb{m}}}$"
      ],
      "text/plain": [
       "\\epsilon*(R_1*\\sigma_1*(\\pmb{m} + m_{\\gamma'})*exp(R_2*\\pmb{m})*tanh(R_1*m_{\\gamma'}) + R_2*\\sigma_2*(\\pmb{m}*tanh(R_1*m_{\\gamma'}) - m_{\\gamma'})*exp(R_1*\\pmb{m}))*exp(\\pmb{m}*(R_1 + R_2))/(-\\pmb{m}**2*exp(2*R_1*\\pmb{m})*tanh(R_1*m_{\\gamma'}) + \\pmb{m}**2*exp(2*R_2*\\pmb{m})*tanh(R_1*m_{\\gamma'}) + \\pmb{m}*m_{\\gamma'}*exp(2*R_1*\\pmb{m})*tanh(R_1*m_{\\gamma'}) + \\pmb{m}*m_{\\gamma'}*exp(2*R_1*\\pmb{m}) + \\pmb{m}*m_{\\gamma'}*exp(2*R_2*\\pmb{m})*tanh(R_1*m_{\\gamma'}) + \\pmb{m}*m_{\\gamma'}*exp(2*R_2*\\pmb{m}) - m_{\\gamma'}**2*exp(2*R_1*\\pmb{m}) + m_{\\gamma'}**2*exp(2*R_2*\\pmb{m}))"
      ]
     },
     "execution_count": 28,
     "metadata": {},
     "output_type": "execute_result"
    }
   ],
   "source": [
    "b4_express = simplify(b4_express.factor(s1,s2))\n",
    "b4_express"
   ]
  },
  {
   "cell_type": "markdown",
   "metadata": {},
   "source": [
    "Check the 2 equations are solved."
   ]
  },
  {
   "cell_type": "code",
   "execution_count": 29,
   "metadata": {},
   "outputs": [
    {
     "data": {
      "text/latex": [
       "$\\displaystyle 0$"
      ],
      "text/plain": [
       "0"
      ]
     },
     "execution_count": 29,
     "metadata": {},
     "output_type": "execute_result"
    }
   ],
   "source": [
    "simplify(equation1.subs([(b3,b3_express),(b4,b4_express)]))"
   ]
  },
  {
   "cell_type": "code",
   "execution_count": 30,
   "metadata": {},
   "outputs": [
    {
     "data": {
      "text/latex": [
       "$\\displaystyle 0$"
      ],
      "text/plain": [
       "0"
      ]
     },
     "execution_count": 30,
     "metadata": {},
     "output_type": "execute_result"
    }
   ],
   "source": [
    "simplify(equation2.subs([(b3,b3_express),(b4,b4_express)]))"
   ]
  },
  {
   "cell_type": "code",
   "execution_count": 31,
   "metadata": {},
   "outputs": [
    {
     "data": {
      "text/latex": [
       "$\\displaystyle - \\epsilon \\sigma_1$"
      ],
      "text/plain": [
       "-\\epsilon*\\sigma_1"
      ]
     },
     "execution_count": 31,
     "metadata": {},
     "output_type": "execute_result"
    }
   ],
   "source": [
    "simplify(DeltaDiff(Vprime,Vprimein,R1).subs([(b1,b1_express),(b3,b3_express),(b4,b4_express)]))"
   ]
  },
  {
   "cell_type": "code",
   "execution_count": 32,
   "metadata": {},
   "outputs": [
    {
     "data": {
      "text/latex": [
       "$\\displaystyle - \\epsilon \\sigma_2$"
      ],
      "text/plain": [
       "-\\epsilon*\\sigma_2"
      ]
     },
     "execution_count": 32,
     "metadata": {},
     "output_type": "execute_result"
    }
   ],
   "source": [
    "simplify(DeltaDiff(Vprimeout,Vprime,R2).subs([(b2,b2_express),(b3,b3_express),(b4,b4_express)]))"
   ]
  },
  {
   "cell_type": "markdown",
   "metadata": {},
   "source": [
    "# 2. Finding V in terms of $\\sigma_1$ and $\\sigma_2$ using derivative discontinuity"
   ]
  },
  {
   "cell_type": "markdown",
   "metadata": {},
   "source": [
    "## General solution of V"
   ]
  },
  {
   "cell_type": "markdown",
   "metadata": {},
   "source": [
    "The general form of V is given by"
   ]
  },
  {
   "cell_type": "code",
   "execution_count": 33,
   "metadata": {},
   "outputs": [
    {
     "data": {
      "text/latex": [
       "$\\displaystyle c_{4} - \\frac{\\epsilon b_{4} e^{- R_{1} \\pmb{m}}}{R_{1}} - \\frac{\\epsilon b_{3} e^{R_{1} \\pmb{m}}}{R_{1} \\pmb{m}} + \\frac{c_{3}}{R_{1}}$"
      ],
      "text/plain": [
       "c_4 - \\epsilon*b_4*exp(-R_1*\\pmb{m})/R_1 - \\epsilon*b_3*exp(R_1*\\pmb{m})/(R_1*\\pmb{m}) + c_3/R_1"
      ]
     },
     "execution_count": 33,
     "metadata": {},
     "output_type": "execute_result"
    }
   ],
   "source": [
    "Vin = -epsilon*b3*exp(mb*R1)/(mb*R1) - epsilon*b4*exp(-mb*R1)/R1 + c4 + c3/R1\n",
    "Vin"
   ]
  },
  {
   "cell_type": "code",
   "execution_count": 34,
   "metadata": {},
   "outputs": [
    {
     "data": {
      "text/latex": [
       "$\\displaystyle - \\frac{\\epsilon b_{4} e^{- \\pmb{m} r}}{r} - \\frac{\\epsilon b_{3} e^{\\pmb{m} r}}{\\pmb{m} r} + \\frac{c_{3}}{r} + c_{4}$"
      ],
      "text/plain": [
       "-\\epsilon*b_4*exp(-\\pmb{m}*r)/r - \\epsilon*b_3*exp(\\pmb{m}*r)/(\\pmb{m}*r) + c_3/r + c_4"
      ]
     },
     "execution_count": 34,
     "metadata": {},
     "output_type": "execute_result"
    }
   ],
   "source": [
    "V = -epsilon*b3*exp(mb*r)/(mb*r) - epsilon*b4*exp(-mb*r)/r+c4 + c3/r\n",
    "V"
   ]
  },
  {
   "cell_type": "code",
   "execution_count": 35,
   "metadata": {},
   "outputs": [
    {
     "data": {
      "text/latex": [
       "$\\displaystyle \\frac{R_{2} c_{4} - \\epsilon b_{4} e^{- R_{2} \\pmb{m}} - \\frac{\\epsilon b_{3} e^{R_{2} \\pmb{m}}}{\\pmb{m}} + c_{3}}{r}$"
      ],
      "text/plain": [
       "(R_2*c_4 - \\epsilon*b_4*exp(-R_2*\\pmb{m}) - \\epsilon*b_3*exp(R_2*\\pmb{m})/\\pmb{m} + c_3)/r"
      ]
     },
     "execution_count": 35,
     "metadata": {},
     "output_type": "execute_result"
    }
   ],
   "source": [
    "Vout = (-epsilon*b3*exp(mb*R2)/mb - epsilon*b4*exp(-mb*R2) + c4*R2 + c3)/r\n",
    "Vout"
   ]
  },
  {
   "cell_type": "markdown",
   "metadata": {},
   "source": [
    "We check that the reduced equation of motions are satisfied."
   ]
  },
  {
   "cell_type": "code",
   "execution_count": 36,
   "metadata": {},
   "outputs": [
    {
     "data": {
      "text/latex": [
       "$\\displaystyle 0$"
      ],
      "text/plain": [
       "0"
      ]
     },
     "execution_count": 36,
     "metadata": {},
     "output_type": "execute_result"
    }
   ],
   "source": [
    "simplify(laplacian(Vin))"
   ]
  },
  {
   "cell_type": "code",
   "execution_count": 37,
   "metadata": {},
   "outputs": [
    {
     "data": {
      "text/latex": [
       "$\\displaystyle 0$"
      ],
      "text/plain": [
       "0"
      ]
     },
     "execution_count": 37,
     "metadata": {},
     "output_type": "execute_result"
    }
   ],
   "source": [
    "simplify(laplacian(V)+epsilon*mb**2*Vprime)"
   ]
  },
  {
   "cell_type": "code",
   "execution_count": 38,
   "metadata": {},
   "outputs": [
    {
     "data": {
      "text/latex": [
       "$\\displaystyle 0$"
      ],
      "text/plain": [
       "0"
      ]
     },
     "execution_count": 38,
     "metadata": {},
     "output_type": "execute_result"
    }
   ],
   "source": [
    "simplify(laplacian(Vout))"
   ]
  },
  {
   "cell_type": "markdown",
   "metadata": {},
   "source": [
    "We also check V is continuous"
   ]
  },
  {
   "cell_type": "code",
   "execution_count": 39,
   "metadata": {},
   "outputs": [
    {
     "data": {
      "text/latex": [
       "$\\displaystyle 0$"
      ],
      "text/plain": [
       "0"
      ]
     },
     "execution_count": 39,
     "metadata": {},
     "output_type": "execute_result"
    }
   ],
   "source": [
    "simplify(V.subs(r,R1) - Vin.subs(r,R1))"
   ]
  },
  {
   "cell_type": "code",
   "execution_count": 40,
   "metadata": {},
   "outputs": [
    {
     "data": {
      "text/latex": [
       "$\\displaystyle 0$"
      ],
      "text/plain": [
       "0"
      ]
     },
     "execution_count": 40,
     "metadata": {},
     "output_type": "execute_result"
    }
   ],
   "source": [
    "simplify(Vout.subs(r,R2) - V.subs(r,R2))"
   ]
  },
  {
   "cell_type": "markdown",
   "metadata": {},
   "source": [
    "## Apply Conductor Equation to Eliminate $c_3$"
   ]
  },
  {
   "cell_type": "markdown",
   "metadata": {},
   "source": [
    "The below equation must be 0 by conductor equation."
   ]
  },
  {
   "cell_type": "code",
   "execution_count": 41,
   "metadata": {},
   "outputs": [
    {
     "data": {
      "text/latex": [
       "$\\displaystyle - \\frac{c_{3}}{r^{2}}$"
      ],
      "text/plain": [
       "-c_3/r**2"
      ]
     },
     "execution_count": 41,
     "metadata": {},
     "output_type": "execute_result"
    }
   ],
   "source": [
    "conductor_equation = simplify(diff(V,r) + epsilon*diff(Vprime,r))\n",
    "conductor_equation"
   ]
  },
  {
   "cell_type": "markdown",
   "metadata": {},
   "source": [
    "This implies $c_3 = 0$. Hence, we modify the general solution of V to:"
   ]
  },
  {
   "cell_type": "code",
   "execution_count": 42,
   "metadata": {},
   "outputs": [
    {
     "data": {
      "text/latex": [
       "$\\displaystyle c_{4} - \\frac{\\epsilon b_{4} e^{- R_{1} \\pmb{m}}}{R_{1}} - \\frac{\\epsilon b_{3} e^{R_{1} \\pmb{m}}}{R_{1} \\pmb{m}}$"
      ],
      "text/plain": [
       "c_4 - \\epsilon*b_4*exp(-R_1*\\pmb{m})/R_1 - \\epsilon*b_3*exp(R_1*\\pmb{m})/(R_1*\\pmb{m})"
      ]
     },
     "execution_count": 42,
     "metadata": {},
     "output_type": "execute_result"
    }
   ],
   "source": [
    "Vin = Vin.subs(c3,0)\n",
    "Vin"
   ]
  },
  {
   "cell_type": "code",
   "execution_count": 43,
   "metadata": {},
   "outputs": [
    {
     "data": {
      "text/latex": [
       "$\\displaystyle - \\frac{\\epsilon b_{4} e^{- \\pmb{m} r}}{r} - \\frac{\\epsilon b_{3} e^{\\pmb{m} r}}{\\pmb{m} r} + c_{4}$"
      ],
      "text/plain": [
       "-\\epsilon*b_4*exp(-\\pmb{m}*r)/r - \\epsilon*b_3*exp(\\pmb{m}*r)/(\\pmb{m}*r) + c_4"
      ]
     },
     "execution_count": 43,
     "metadata": {},
     "output_type": "execute_result"
    }
   ],
   "source": [
    "V = V.subs(c3,0)\n",
    "V"
   ]
  },
  {
   "cell_type": "code",
   "execution_count": 44,
   "metadata": {},
   "outputs": [
    {
     "data": {
      "text/latex": [
       "$\\displaystyle \\frac{R_{2} c_{4} - \\epsilon b_{4} e^{- R_{2} \\pmb{m}} - \\frac{\\epsilon b_{3} e^{R_{2} \\pmb{m}}}{\\pmb{m}}}{r}$"
      ],
      "text/plain": [
       "(R_2*c_4 - \\epsilon*b_4*exp(-R_2*\\pmb{m}) - \\epsilon*b_3*exp(R_2*\\pmb{m})/\\pmb{m})/r"
      ]
     },
     "execution_count": 44,
     "metadata": {},
     "output_type": "execute_result"
    }
   ],
   "source": [
    "Vout = Vout.subs(c3,0)\n",
    "Vout"
   ]
  },
  {
   "cell_type": "markdown",
   "metadata": {},
   "source": [
    "## Applying Discontinuity at R1 to Solve for $\\sigma_1$ in terms of $\\sigma_2$"
   ]
  },
  {
   "cell_type": "markdown",
   "metadata": {},
   "source": [
    "Physically, there can only be one parameter describing the charge. We can solve for $\\sigma_1$ by applying discontinuity of V at R1:\n",
    "$$ \\Delta \\frac{dV}{dr} = - \\sigma $$"
   ]
  },
  {
   "cell_type": "code",
   "execution_count": 45,
   "metadata": {},
   "outputs": [
    {
     "data": {
      "text/latex": [
       "$\\displaystyle \\frac{\\epsilon \\left(R_{1} \\pmb{m}^{2} b_{4} - R_{1} \\pmb{m} b_{3} e^{2 R_{1} \\pmb{m}} + \\pmb{m} b_{4} + b_{3} e^{2 R_{1} \\pmb{m}}\\right) e^{- R_{1} \\pmb{m}}}{R_{1}^{2} \\pmb{m}}$"
      ],
      "text/plain": [
       "\\epsilon*(R_1*\\pmb{m}**2*b_4 - R_1*\\pmb{m}*b_3*exp(2*R_1*\\pmb{m}) + \\pmb{m}*b_4 + b_3*exp(2*R_1*\\pmb{m}))*exp(-R_1*\\pmb{m})/(R_1**2*\\pmb{m})"
      ]
     },
     "execution_count": 45,
     "metadata": {},
     "output_type": "execute_result"
    }
   ],
   "source": [
    "deltaVR1=simplify(DeltaDiff(V,Vin,R1))\n",
    "deltaVR1"
   ]
  },
  {
   "cell_type": "markdown",
   "metadata": {},
   "source": [
    "So the following equation must be 0"
   ]
  },
  {
   "cell_type": "code",
   "execution_count": 46,
   "metadata": {},
   "outputs": [
    {
     "data": {
      "text/latex": [
       "$\\displaystyle \\sigma_1 + \\frac{\\epsilon \\pmb{m} b_{4} e^{- R_{1} \\pmb{m}}}{R_{1}} - \\frac{\\epsilon b_{3} e^{R_{1} \\pmb{m}}}{R_{1}} + \\frac{\\epsilon b_{4} e^{- R_{1} \\pmb{m}}}{R_{1}^{2}} + \\frac{\\epsilon b_{3} e^{R_{1} \\pmb{m}}}{R_{1}^{2} \\pmb{m}}$"
      ],
      "text/plain": [
       "\\sigma_1 + \\epsilon*\\pmb{m}*b_4*exp(-R_1*\\pmb{m})/R_1 - \\epsilon*b_3*exp(R_1*\\pmb{m})/R_1 + \\epsilon*b_4*exp(-R_1*\\pmb{m})/R_1**2 + \\epsilon*b_3*exp(R_1*\\pmb{m})/(R_1**2*\\pmb{m})"
      ]
     },
     "execution_count": 46,
     "metadata": {},
     "output_type": "execute_result"
    }
   ],
   "source": [
    "equation3 = simplify(deltaVR1 + s1)\n",
    "equation3"
   ]
  },
  {
   "cell_type": "markdown",
   "metadata": {},
   "source": [
    "We can directly solve for $b_3$ in terms of $b_4$"
   ]
  },
  {
   "cell_type": "code",
   "execution_count": 47,
   "metadata": {},
   "outputs": [
    {
     "data": {
      "text/latex": [
       "$\\displaystyle \\frac{\\pmb{m} \\left(R_{1}^{2} \\sigma_1 e^{R_{1} \\pmb{m}} + R_{1} \\epsilon \\pmb{m} b_{4} + \\epsilon b_{4}\\right) e^{- 2 R_{1} \\pmb{m}}}{\\epsilon \\left(R_{1} \\pmb{m} - 1\\right)}$"
      ],
      "text/plain": [
       "\\pmb{m}*(R_1**2*\\sigma_1*exp(R_1*\\pmb{m}) + R_1*\\epsilon*\\pmb{m}*b_4 + \\epsilon*b_4)*exp(-2*R_1*\\pmb{m})/(\\epsilon*(R_1*\\pmb{m} - 1))"
      ]
     },
     "execution_count": 47,
     "metadata": {},
     "output_type": "execute_result"
    }
   ],
   "source": [
    "b3_express_in_b4 = simplify(solve(equation3,b3)[0])\n",
    "b3_express_in_b4"
   ]
  },
  {
   "cell_type": "markdown",
   "metadata": {},
   "source": [
    "We can also substitute our original expressions for b3 and b4 in terms of $\\sigma_1$ and $\\sigma_2$ into equation 3, so that we can solve for $\\sigma_1$ in terms of $\\sigma_2$. In other words, this discontinuity shows us that $\\sigma_1$ is given by $\\sigma_2$."
   ]
  },
  {
   "cell_type": "code",
   "execution_count": 48,
   "metadata": {},
   "outputs": [],
   "source": [
    "equation3 = equation3.subs([(b3,b3_express),(b4,b4_express)])"
   ]
  },
  {
   "cell_type": "code",
   "execution_count": 49,
   "metadata": {},
   "outputs": [
    {
     "data": {
      "text/latex": [
       "$\\displaystyle \\frac{2 R_{2} \\epsilon^{2} \\pmb{m} \\sigma_2 \\left(R_{1} m_{\\gamma'} e^{2 R_{1} m_{\\gamma'}} + R_{1} m_{\\gamma'} - e^{2 R_{1} m_{\\gamma'}} + 1\\right) e^{\\pmb{m} \\left(R_{1} + R_{2}\\right)}}{R_{1} \\left(R_{1} \\epsilon^{2} \\pmb{m}^{2} e^{2 R_{1} \\pmb{m}} - R_{1} \\epsilon^{2} \\pmb{m}^{2} e^{2 R_{1} \\left(\\pmb{m} + m_{\\gamma'}\\right)} - R_{1} \\epsilon^{2} \\pmb{m}^{2} e^{2 R_{2} \\pmb{m}} + R_{1} \\epsilon^{2} \\pmb{m}^{2} e^{2 R_{1} m_{\\gamma'} + 2 R_{2} \\pmb{m}} - R_{1} \\epsilon^{2} \\pmb{m} m_{\\gamma'} e^{2 R_{1} \\pmb{m}} + R_{1} \\epsilon^{2} \\pmb{m} m_{\\gamma'} e^{2 R_{1} \\left(\\pmb{m} + m_{\\gamma'}\\right)} - R_{1} \\epsilon^{2} \\pmb{m} m_{\\gamma'} e^{2 R_{2} \\pmb{m}} + R_{1} \\epsilon^{2} \\pmb{m} m_{\\gamma'} e^{2 R_{1} m_{\\gamma'} + 2 R_{2} \\pmb{m}} + R_{1} \\pmb{m}^{2} e^{2 R_{1} \\pmb{m}} - R_{1} \\pmb{m}^{2} e^{2 R_{1} \\left(\\pmb{m} + m_{\\gamma'}\\right)} - R_{1} \\pmb{m}^{2} e^{2 R_{2} \\pmb{m}} + R_{1} \\pmb{m}^{2} e^{2 R_{1} m_{\\gamma'} + 2 R_{2} \\pmb{m}} + 2 R_{1} \\pmb{m} m_{\\gamma'} e^{2 R_{1} \\left(\\pmb{m} + m_{\\gamma'}\\right)} + 2 R_{1} \\pmb{m} m_{\\gamma'} e^{2 R_{1} m_{\\gamma'} + 2 R_{2} \\pmb{m}} - R_{1} m_{\\gamma'}^{2} e^{2 R_{1} \\pmb{m}} - R_{1} m_{\\gamma'}^{2} e^{2 R_{1} \\left(\\pmb{m} + m_{\\gamma'}\\right)} + R_{1} m_{\\gamma'}^{2} e^{2 R_{2} \\pmb{m}} + R_{1} m_{\\gamma'}^{2} e^{2 R_{1} m_{\\gamma'} + 2 R_{2} \\pmb{m}} - \\epsilon^{2} \\pmb{m} e^{2 R_{1} \\pmb{m}} + \\epsilon^{2} \\pmb{m} e^{2 R_{1} \\left(\\pmb{m} + m_{\\gamma'}\\right)} - \\epsilon^{2} \\pmb{m} e^{2 R_{2} \\pmb{m}} + \\epsilon^{2} \\pmb{m} e^{2 R_{1} m_{\\gamma'} + 2 R_{2} \\pmb{m}} + \\epsilon^{2} m_{\\gamma'} e^{2 R_{1} \\pmb{m}} - \\epsilon^{2} m_{\\gamma'} e^{2 R_{1} \\left(\\pmb{m} + m_{\\gamma'}\\right)} - \\epsilon^{2} m_{\\gamma'} e^{2 R_{2} \\pmb{m}} + \\epsilon^{2} m_{\\gamma'} e^{2 R_{1} m_{\\gamma'} + 2 R_{2} \\pmb{m}}\\right)}$"
      ],
      "text/plain": [
       "2*R_2*\\epsilon**2*\\pmb{m}*\\sigma_2*(R_1*m_{\\gamma'}*exp(2*R_1*m_{\\gamma'}) + R_1*m_{\\gamma'} - exp(2*R_1*m_{\\gamma'}) + 1)*exp(\\pmb{m}*(R_1 + R_2))/(R_1*(R_1*\\epsilon**2*\\pmb{m}**2*exp(2*R_1*\\pmb{m}) - R_1*\\epsilon**2*\\pmb{m}**2*exp(2*R_1*(\\pmb{m} + m_{\\gamma'})) - R_1*\\epsilon**2*\\pmb{m}**2*exp(2*R_2*\\pmb{m}) + R_1*\\epsilon**2*\\pmb{m}**2*exp(2*R_1*m_{\\gamma'} + 2*R_2*\\pmb{m}) - R_1*\\epsilon**2*\\pmb{m}*m_{\\gamma'}*exp(2*R_1*\\pmb{m}) + R_1*\\epsilon**2*\\pmb{m}*m_{\\gamma'}*exp(2*R_1*(\\pmb{m} + m_{\\gamma'})) - R_1*\\epsilon**2*\\pmb{m}*m_{\\gamma'}*exp(2*R_2*\\pmb{m}) + R_1*\\epsilon**2*\\pmb{m}*m_{\\gamma'}*exp(2*R_1*m_{\\gamma'} + 2*R_2*\\pmb{m}) + R_1*\\pmb{m}**2*exp(2*R_1*\\pmb{m}) - R_1*\\pmb{m}**2*exp(2*R_1*(\\pmb{m} + m_{\\gamma'})) - R_1*\\pmb{m}**2*exp(2*R_2*\\pmb{m}) + R_1*\\pmb{m}**2*exp(2*R_1*m_{\\gamma'} + 2*R_2*\\pmb{m}) + 2*R_1*\\pmb{m}*m_{\\gamma'}*exp(2*R_1*(\\pmb{m} + m_{\\gamma'})) + 2*R_1*\\pmb{m}*m_{\\gamma'}*exp(2*R_1*m_{\\gamma'} + 2*R_2*\\pmb{m}) - R_1*m_{\\gamma'}**2*exp(2*R_1*\\pmb{m}) - R_1*m_{\\gamma'}**2*exp(2*R_1*(\\pmb{m} + m_{\\gamma'})) + R_1*m_{\\gamma'}**2*exp(2*R_2*\\pmb{m}) + R_1*m_{\\gamma'}**2*exp(2*R_1*m_{\\gamma'} + 2*R_2*\\pmb{m}) - \\epsilon**2*\\pmb{m}*exp(2*R_1*\\pmb{m}) + \\epsilon**2*\\pmb{m}*exp(2*R_1*(\\pmb{m} + m_{\\gamma'})) - \\epsilon**2*\\pmb{m}*exp(2*R_2*\\pmb{m}) + \\epsilon**2*\\pmb{m}*exp(2*R_1*m_{\\gamma'} + 2*R_2*\\pmb{m}) + \\epsilon**2*m_{\\gamma'}*exp(2*R_1*\\pmb{m}) - \\epsilon**2*m_{\\gamma'}*exp(2*R_1*(\\pmb{m} + m_{\\gamma'})) - \\epsilon**2*m_{\\gamma'}*exp(2*R_2*\\pmb{m}) + \\epsilon**2*m_{\\gamma'}*exp(2*R_1*m_{\\gamma'} + 2*R_2*\\pmb{m})))"
      ]
     },
     "execution_count": 49,
     "metadata": {},
     "output_type": "execute_result"
    }
   ],
   "source": [
    "s1_express = simplify(solve(equation3,s1)[0])\n",
    "s1_express"
   ]
  },
  {
   "cell_type": "markdown",
   "metadata": {},
   "source": [
    "As an important consistency check, we see that $\\sigma_1 \\propto \\epsilon^2 \\sigma_2$, which is small. Also, this formula for $\\sigma_1$ is the same as what we got if we kept $c_3$ and set it to 0 later."
   ]
  },
  {
   "cell_type": "markdown",
   "metadata": {},
   "source": [
    "We check that this discontinuity is ineeded satisfied. We do this by supposing we solved for $\\sigma_2$ instead, and see if the discontinuity gives us back $-\\sigma_1$."
   ]
  },
  {
   "cell_type": "code",
   "execution_count": 50,
   "metadata": {},
   "outputs": [
    {
     "data": {
      "text/latex": [
       "$\\displaystyle \\frac{R_{1} \\sigma_1 \\left(R_{1} \\epsilon^{2} \\pmb{m}^{2} e^{2 R_{1} \\pmb{m}} - R_{1} \\epsilon^{2} \\pmb{m}^{2} e^{2 R_{1} \\left(\\pmb{m} + m_{\\gamma'}\\right)} - R_{1} \\epsilon^{2} \\pmb{m}^{2} e^{2 R_{2} \\pmb{m}} + R_{1} \\epsilon^{2} \\pmb{m}^{2} e^{2 R_{1} m_{\\gamma'} + 2 R_{2} \\pmb{m}} - R_{1} \\epsilon^{2} \\pmb{m} m_{\\gamma'} e^{2 R_{1} \\pmb{m}} + R_{1} \\epsilon^{2} \\pmb{m} m_{\\gamma'} e^{2 R_{1} \\left(\\pmb{m} + m_{\\gamma'}\\right)} - R_{1} \\epsilon^{2} \\pmb{m} m_{\\gamma'} e^{2 R_{2} \\pmb{m}} + R_{1} \\epsilon^{2} \\pmb{m} m_{\\gamma'} e^{2 R_{1} m_{\\gamma'} + 2 R_{2} \\pmb{m}} + R_{1} \\pmb{m}^{2} e^{2 R_{1} \\pmb{m}} - R_{1} \\pmb{m}^{2} e^{2 R_{1} \\left(\\pmb{m} + m_{\\gamma'}\\right)} - R_{1} \\pmb{m}^{2} e^{2 R_{2} \\pmb{m}} + R_{1} \\pmb{m}^{2} e^{2 R_{1} m_{\\gamma'} + 2 R_{2} \\pmb{m}} + 2 R_{1} \\pmb{m} m_{\\gamma'} e^{2 R_{1} \\left(\\pmb{m} + m_{\\gamma'}\\right)} + 2 R_{1} \\pmb{m} m_{\\gamma'} e^{2 R_{1} m_{\\gamma'} + 2 R_{2} \\pmb{m}} - R_{1} m_{\\gamma'}^{2} e^{2 R_{1} \\pmb{m}} - R_{1} m_{\\gamma'}^{2} e^{2 R_{1} \\left(\\pmb{m} + m_{\\gamma'}\\right)} + R_{1} m_{\\gamma'}^{2} e^{2 R_{2} \\pmb{m}} + R_{1} m_{\\gamma'}^{2} e^{2 R_{1} m_{\\gamma'} + 2 R_{2} \\pmb{m}} - \\epsilon^{2} \\pmb{m} e^{2 R_{1} \\pmb{m}} + \\epsilon^{2} \\pmb{m} e^{2 R_{1} \\left(\\pmb{m} + m_{\\gamma'}\\right)} - \\epsilon^{2} \\pmb{m} e^{2 R_{2} \\pmb{m}} + \\epsilon^{2} \\pmb{m} e^{2 R_{1} m_{\\gamma'} + 2 R_{2} \\pmb{m}} + \\epsilon^{2} m_{\\gamma'} e^{2 R_{1} \\pmb{m}} - \\epsilon^{2} m_{\\gamma'} e^{2 R_{1} \\left(\\pmb{m} + m_{\\gamma'}\\right)} - \\epsilon^{2} m_{\\gamma'} e^{2 R_{2} \\pmb{m}} + \\epsilon^{2} m_{\\gamma'} e^{2 R_{1} m_{\\gamma'} + 2 R_{2} \\pmb{m}}\\right) e^{- \\pmb{m} \\left(R_{1} + R_{2}\\right)}}{2 R_{2} \\epsilon^{2} \\pmb{m} \\left(R_{1} m_{\\gamma'} e^{2 R_{1} m_{\\gamma'}} + R_{1} m_{\\gamma'} - e^{2 R_{1} m_{\\gamma'}} + 1\\right)}$"
      ],
      "text/plain": [
       "R_1*\\sigma_1*(R_1*\\epsilon**2*\\pmb{m}**2*exp(2*R_1*\\pmb{m}) - R_1*\\epsilon**2*\\pmb{m}**2*exp(2*R_1*(\\pmb{m} + m_{\\gamma'})) - R_1*\\epsilon**2*\\pmb{m}**2*exp(2*R_2*\\pmb{m}) + R_1*\\epsilon**2*\\pmb{m}**2*exp(2*R_1*m_{\\gamma'} + 2*R_2*\\pmb{m}) - R_1*\\epsilon**2*\\pmb{m}*m_{\\gamma'}*exp(2*R_1*\\pmb{m}) + R_1*\\epsilon**2*\\pmb{m}*m_{\\gamma'}*exp(2*R_1*(\\pmb{m} + m_{\\gamma'})) - R_1*\\epsilon**2*\\pmb{m}*m_{\\gamma'}*exp(2*R_2*\\pmb{m}) + R_1*\\epsilon**2*\\pmb{m}*m_{\\gamma'}*exp(2*R_1*m_{\\gamma'} + 2*R_2*\\pmb{m}) + R_1*\\pmb{m}**2*exp(2*R_1*\\pmb{m}) - R_1*\\pmb{m}**2*exp(2*R_1*(\\pmb{m} + m_{\\gamma'})) - R_1*\\pmb{m}**2*exp(2*R_2*\\pmb{m}) + R_1*\\pmb{m}**2*exp(2*R_1*m_{\\gamma'} + 2*R_2*\\pmb{m}) + 2*R_1*\\pmb{m}*m_{\\gamma'}*exp(2*R_1*(\\pmb{m} + m_{\\gamma'})) + 2*R_1*\\pmb{m}*m_{\\gamma'}*exp(2*R_1*m_{\\gamma'} + 2*R_2*\\pmb{m}) - R_1*m_{\\gamma'}**2*exp(2*R_1*\\pmb{m}) - R_1*m_{\\gamma'}**2*exp(2*R_1*(\\pmb{m} + m_{\\gamma'})) + R_1*m_{\\gamma'}**2*exp(2*R_2*\\pmb{m}) + R_1*m_{\\gamma'}**2*exp(2*R_1*m_{\\gamma'} + 2*R_2*\\pmb{m}) - \\epsilon**2*\\pmb{m}*exp(2*R_1*\\pmb{m}) + \\epsilon**2*\\pmb{m}*exp(2*R_1*(\\pmb{m} + m_{\\gamma'})) - \\epsilon**2*\\pmb{m}*exp(2*R_2*\\pmb{m}) + \\epsilon**2*\\pmb{m}*exp(2*R_1*m_{\\gamma'} + 2*R_2*\\pmb{m}) + \\epsilon**2*m_{\\gamma'}*exp(2*R_1*\\pmb{m}) - \\epsilon**2*m_{\\gamma'}*exp(2*R_1*(\\pmb{m} + m_{\\gamma'})) - \\epsilon**2*m_{\\gamma'}*exp(2*R_2*\\pmb{m}) + \\epsilon**2*m_{\\gamma'}*exp(2*R_1*m_{\\gamma'} + 2*R_2*\\pmb{m}))*exp(-\\pmb{m}*(R_1 + R_2))/(2*R_2*\\epsilon**2*\\pmb{m}*(R_1*m_{\\gamma'}*exp(2*R_1*m_{\\gamma'}) + R_1*m_{\\gamma'} - exp(2*R_1*m_{\\gamma'}) + 1))"
      ]
     },
     "execution_count": 50,
     "metadata": {},
     "output_type": "execute_result"
    }
   ],
   "source": [
    "s2_express = simplify(solve(equation3,s2)[0])\n",
    "s2_express"
   ]
  },
  {
   "cell_type": "code",
   "execution_count": 51,
   "metadata": {},
   "outputs": [
    {
     "data": {
      "text/latex": [
       "$\\displaystyle \\frac{\\sigma_1 \\left(- R_{1} \\epsilon^{2} \\pmb{m}^{2} m_{\\gamma'} e^{2 R_{1} \\pmb{m}} \\tanh{\\left(R_{1} m_{\\gamma'} \\right)} - R_{1} \\epsilon^{2} \\pmb{m}^{2} m_{\\gamma'} e^{2 R_{1} \\pmb{m}} - R_{1} \\epsilon^{2} \\pmb{m}^{2} m_{\\gamma'} e^{2 R_{1} \\left(\\pmb{m} + m_{\\gamma'}\\right)} \\tanh{\\left(R_{1} m_{\\gamma'} \\right)} + R_{1} \\epsilon^{2} \\pmb{m}^{2} m_{\\gamma'} e^{2 R_{1} \\left(\\pmb{m} + m_{\\gamma'}\\right)} + R_{1} \\epsilon^{2} \\pmb{m}^{2} m_{\\gamma'} e^{2 R_{2} \\pmb{m}} \\tanh{\\left(R_{1} m_{\\gamma'} \\right)} + R_{1} \\epsilon^{2} \\pmb{m}^{2} m_{\\gamma'} e^{2 R_{2} \\pmb{m}} + R_{1} \\epsilon^{2} \\pmb{m}^{2} m_{\\gamma'} e^{2 R_{1} m_{\\gamma'} + 2 R_{2} \\pmb{m}} \\tanh{\\left(R_{1} m_{\\gamma'} \\right)} - R_{1} \\epsilon^{2} \\pmb{m}^{2} m_{\\gamma'} e^{2 R_{1} m_{\\gamma'} + 2 R_{2} \\pmb{m}} + R_{1} \\epsilon^{2} \\pmb{m} m_{\\gamma'}^{2} e^{2 R_{1} \\pmb{m}} \\tanh{\\left(R_{1} m_{\\gamma'} \\right)} + R_{1} \\epsilon^{2} \\pmb{m} m_{\\gamma'}^{2} e^{2 R_{1} \\pmb{m}} + R_{1} \\epsilon^{2} \\pmb{m} m_{\\gamma'}^{2} e^{2 R_{1} \\left(\\pmb{m} + m_{\\gamma'}\\right)} \\tanh{\\left(R_{1} m_{\\gamma'} \\right)} - R_{1} \\epsilon^{2} \\pmb{m} m_{\\gamma'}^{2} e^{2 R_{1} \\left(\\pmb{m} + m_{\\gamma'}\\right)} + R_{1} \\epsilon^{2} \\pmb{m} m_{\\gamma'}^{2} e^{2 R_{2} \\pmb{m}} \\tanh{\\left(R_{1} m_{\\gamma'} \\right)} + R_{1} \\epsilon^{2} \\pmb{m} m_{\\gamma'}^{2} e^{2 R_{2} \\pmb{m}} + R_{1} \\epsilon^{2} \\pmb{m} m_{\\gamma'}^{2} e^{2 R_{1} m_{\\gamma'} + 2 R_{2} \\pmb{m}} \\tanh{\\left(R_{1} m_{\\gamma'} \\right)} - R_{1} \\epsilon^{2} \\pmb{m} m_{\\gamma'}^{2} e^{2 R_{1} m_{\\gamma'} + 2 R_{2} \\pmb{m}} - R_{1} \\pmb{m}^{2} m_{\\gamma'} e^{2 R_{1} \\pmb{m}} + R_{1} \\pmb{m}^{2} m_{\\gamma'} e^{2 R_{1} \\left(\\pmb{m} + m_{\\gamma'}\\right)} + R_{1} \\pmb{m}^{2} m_{\\gamma'} e^{2 R_{2} \\pmb{m}} - R_{1} \\pmb{m}^{2} m_{\\gamma'} e^{2 R_{1} m_{\\gamma'} + 2 R_{2} \\pmb{m}} - 2 R_{1} \\pmb{m} m_{\\gamma'}^{2} e^{2 R_{1} \\left(\\pmb{m} + m_{\\gamma'}\\right)} - 2 R_{1} \\pmb{m} m_{\\gamma'}^{2} e^{2 R_{1} m_{\\gamma'} + 2 R_{2} \\pmb{m}} + R_{1} m_{\\gamma'}^{3} e^{2 R_{1} \\pmb{m}} + R_{1} m_{\\gamma'}^{3} e^{2 R_{1} \\left(\\pmb{m} + m_{\\gamma'}\\right)} - R_{1} m_{\\gamma'}^{3} e^{2 R_{2} \\pmb{m}} - R_{1} m_{\\gamma'}^{3} e^{2 R_{1} m_{\\gamma'} + 2 R_{2} \\pmb{m}} + \\epsilon^{2} \\pmb{m} m_{\\gamma'} e^{2 R_{1} \\pmb{m}} \\tanh{\\left(R_{1} m_{\\gamma'} \\right)} + \\epsilon^{2} \\pmb{m} m_{\\gamma'} e^{2 R_{1} \\pmb{m}} + \\epsilon^{2} \\pmb{m} m_{\\gamma'} e^{2 R_{1} \\left(\\pmb{m} + m_{\\gamma'}\\right)} \\tanh{\\left(R_{1} m_{\\gamma'} \\right)} - \\epsilon^{2} \\pmb{m} m_{\\gamma'} e^{2 R_{1} \\left(\\pmb{m} + m_{\\gamma'}\\right)} + \\epsilon^{2} \\pmb{m} m_{\\gamma'} e^{2 R_{2} \\pmb{m}} \\tanh{\\left(R_{1} m_{\\gamma'} \\right)} + \\epsilon^{2} \\pmb{m} m_{\\gamma'} e^{2 R_{2} \\pmb{m}} + \\epsilon^{2} \\pmb{m} m_{\\gamma'} e^{2 R_{1} m_{\\gamma'} + 2 R_{2} \\pmb{m}} \\tanh{\\left(R_{1} m_{\\gamma'} \\right)} - \\epsilon^{2} \\pmb{m} m_{\\gamma'} e^{2 R_{1} m_{\\gamma'} + 2 R_{2} \\pmb{m}} - \\epsilon^{2} m_{\\gamma'}^{2} e^{2 R_{1} \\pmb{m}} \\tanh{\\left(R_{1} m_{\\gamma'} \\right)} - \\epsilon^{2} m_{\\gamma'}^{2} e^{2 R_{1} \\pmb{m}} - \\epsilon^{2} m_{\\gamma'}^{2} e^{2 R_{1} \\left(\\pmb{m} + m_{\\gamma'}\\right)} \\tanh{\\left(R_{1} m_{\\gamma'} \\right)} + \\epsilon^{2} m_{\\gamma'}^{2} e^{2 R_{1} \\left(\\pmb{m} + m_{\\gamma'}\\right)} + \\epsilon^{2} m_{\\gamma'}^{2} e^{2 R_{2} \\pmb{m}} \\tanh{\\left(R_{1} m_{\\gamma'} \\right)} + \\epsilon^{2} m_{\\gamma'}^{2} e^{2 R_{2} \\pmb{m}} + \\epsilon^{2} m_{\\gamma'}^{2} e^{2 R_{1} m_{\\gamma'} + 2 R_{2} \\pmb{m}} \\tanh{\\left(R_{1} m_{\\gamma'} \\right)} - \\epsilon^{2} m_{\\gamma'}^{2} e^{2 R_{1} m_{\\gamma'} + 2 R_{2} \\pmb{m}} + \\pmb{m}^{2} e^{2 R_{1} \\pmb{m}} \\tanh{\\left(R_{1} m_{\\gamma'} \\right)} - \\pmb{m}^{2} e^{2 R_{1} \\left(\\pmb{m} + m_{\\gamma'}\\right)} \\tanh{\\left(R_{1} m_{\\gamma'} \\right)} - \\pmb{m}^{2} e^{2 R_{2} \\pmb{m}} \\tanh{\\left(R_{1} m_{\\gamma'} \\right)} + \\pmb{m}^{2} e^{2 R_{1} m_{\\gamma'} + 2 R_{2} \\pmb{m}} \\tanh{\\left(R_{1} m_{\\gamma'} \\right)} + 2 \\pmb{m} m_{\\gamma'} e^{2 R_{1} \\left(\\pmb{m} + m_{\\gamma'}\\right)} \\tanh{\\left(R_{1} m_{\\gamma'} \\right)} + 2 \\pmb{m} m_{\\gamma'} e^{2 R_{1} m_{\\gamma'} + 2 R_{2} \\pmb{m}} \\tanh{\\left(R_{1} m_{\\gamma'} \\right)} - m_{\\gamma'}^{2} e^{2 R_{1} \\pmb{m}} \\tanh{\\left(R_{1} m_{\\gamma'} \\right)} - m_{\\gamma'}^{2} e^{2 R_{1} \\left(\\pmb{m} + m_{\\gamma'}\\right)} \\tanh{\\left(R_{1} m_{\\gamma'} \\right)} + m_{\\gamma'}^{2} e^{2 R_{2} \\pmb{m}} \\tanh{\\left(R_{1} m_{\\gamma'} \\right)} + m_{\\gamma'}^{2} e^{2 R_{1} m_{\\gamma'} + 2 R_{2} \\pmb{m}} \\tanh{\\left(R_{1} m_{\\gamma'} \\right)}\\right)}{- R_{1} \\pmb{m}^{2} m_{\\gamma'} e^{2 R_{1} \\pmb{m}} \\tanh{\\left(R_{1} m_{\\gamma'} \\right)} - R_{1} \\pmb{m}^{2} m_{\\gamma'} e^{2 R_{1} \\left(\\pmb{m} + m_{\\gamma'}\\right)} \\tanh{\\left(R_{1} m_{\\gamma'} \\right)} + R_{1} \\pmb{m}^{2} m_{\\gamma'} e^{2 R_{2} \\pmb{m}} \\tanh{\\left(R_{1} m_{\\gamma'} \\right)} + R_{1} \\pmb{m}^{2} m_{\\gamma'} e^{2 R_{1} m_{\\gamma'} + 2 R_{2} \\pmb{m}} \\tanh{\\left(R_{1} m_{\\gamma'} \\right)} + R_{1} \\pmb{m} m_{\\gamma'}^{2} e^{2 R_{1} \\pmb{m}} \\tanh{\\left(R_{1} m_{\\gamma'} \\right)} + R_{1} \\pmb{m} m_{\\gamma'}^{2} e^{2 R_{1} \\pmb{m}} + R_{1} \\pmb{m} m_{\\gamma'}^{2} e^{2 R_{1} \\left(\\pmb{m} + m_{\\gamma'}\\right)} \\tanh{\\left(R_{1} m_{\\gamma'} \\right)} + R_{1} \\pmb{m} m_{\\gamma'}^{2} e^{2 R_{1} \\left(\\pmb{m} + m_{\\gamma'}\\right)} + R_{1} \\pmb{m} m_{\\gamma'}^{2} e^{2 R_{2} \\pmb{m}} \\tanh{\\left(R_{1} m_{\\gamma'} \\right)} + R_{1} \\pmb{m} m_{\\gamma'}^{2} e^{2 R_{2} \\pmb{m}} + R_{1} \\pmb{m} m_{\\gamma'}^{2} e^{2 R_{1} m_{\\gamma'} + 2 R_{2} \\pmb{m}} \\tanh{\\left(R_{1} m_{\\gamma'} \\right)} + R_{1} \\pmb{m} m_{\\gamma'}^{2} e^{2 R_{1} m_{\\gamma'} + 2 R_{2} \\pmb{m}} - R_{1} m_{\\gamma'}^{3} e^{2 R_{1} \\pmb{m}} - R_{1} m_{\\gamma'}^{3} e^{2 R_{1} \\left(\\pmb{m} + m_{\\gamma'}\\right)} + R_{1} m_{\\gamma'}^{3} e^{2 R_{2} \\pmb{m}} + R_{1} m_{\\gamma'}^{3} e^{2 R_{1} m_{\\gamma'} + 2 R_{2} \\pmb{m}} - \\pmb{m}^{2} e^{2 R_{1} \\pmb{m}} \\tanh{\\left(R_{1} m_{\\gamma'} \\right)} + \\pmb{m}^{2} e^{2 R_{1} \\left(\\pmb{m} + m_{\\gamma'}\\right)} \\tanh{\\left(R_{1} m_{\\gamma'} \\right)} + \\pmb{m}^{2} e^{2 R_{2} \\pmb{m}} \\tanh{\\left(R_{1} m_{\\gamma'} \\right)} - \\pmb{m}^{2} e^{2 R_{1} m_{\\gamma'} + 2 R_{2} \\pmb{m}} \\tanh{\\left(R_{1} m_{\\gamma'} \\right)} + \\pmb{m} m_{\\gamma'} e^{2 R_{1} \\pmb{m}} \\tanh{\\left(R_{1} m_{\\gamma'} \\right)} + \\pmb{m} m_{\\gamma'} e^{2 R_{1} \\pmb{m}} - \\pmb{m} m_{\\gamma'} e^{2 R_{1} \\left(\\pmb{m} + m_{\\gamma'}\\right)} \\tanh{\\left(R_{1} m_{\\gamma'} \\right)} - \\pmb{m} m_{\\gamma'} e^{2 R_{1} \\left(\\pmb{m} + m_{\\gamma'}\\right)} + \\pmb{m} m_{\\gamma'} e^{2 R_{2} \\pmb{m}} \\tanh{\\left(R_{1} m_{\\gamma'} \\right)} + \\pmb{m} m_{\\gamma'} e^{2 R_{2} \\pmb{m}} - \\pmb{m} m_{\\gamma'} e^{2 R_{1} m_{\\gamma'} + 2 R_{2} \\pmb{m}} \\tanh{\\left(R_{1} m_{\\gamma'} \\right)} - \\pmb{m} m_{\\gamma'} e^{2 R_{1} m_{\\gamma'} + 2 R_{2} \\pmb{m}} - m_{\\gamma'}^{2} e^{2 R_{1} \\pmb{m}} + m_{\\gamma'}^{2} e^{2 R_{1} \\left(\\pmb{m} + m_{\\gamma'}\\right)} + m_{\\gamma'}^{2} e^{2 R_{2} \\pmb{m}} - m_{\\gamma'}^{2} e^{2 R_{1} m_{\\gamma'} + 2 R_{2} \\pmb{m}}}$"
      ],
      "text/plain": [
       "\\sigma_1*(-R_1*\\epsilon**2*\\pmb{m}**2*m_{\\gamma'}*exp(2*R_1*\\pmb{m})*tanh(R_1*m_{\\gamma'}) - R_1*\\epsilon**2*\\pmb{m}**2*m_{\\gamma'}*exp(2*R_1*\\pmb{m}) - R_1*\\epsilon**2*\\pmb{m}**2*m_{\\gamma'}*exp(2*R_1*(\\pmb{m} + m_{\\gamma'}))*tanh(R_1*m_{\\gamma'}) + R_1*\\epsilon**2*\\pmb{m}**2*m_{\\gamma'}*exp(2*R_1*(\\pmb{m} + m_{\\gamma'})) + R_1*\\epsilon**2*\\pmb{m}**2*m_{\\gamma'}*exp(2*R_2*\\pmb{m})*tanh(R_1*m_{\\gamma'}) + R_1*\\epsilon**2*\\pmb{m}**2*m_{\\gamma'}*exp(2*R_2*\\pmb{m}) + R_1*\\epsilon**2*\\pmb{m}**2*m_{\\gamma'}*exp(2*R_1*m_{\\gamma'} + 2*R_2*\\pmb{m})*tanh(R_1*m_{\\gamma'}) - R_1*\\epsilon**2*\\pmb{m}**2*m_{\\gamma'}*exp(2*R_1*m_{\\gamma'} + 2*R_2*\\pmb{m}) + R_1*\\epsilon**2*\\pmb{m}*m_{\\gamma'}**2*exp(2*R_1*\\pmb{m})*tanh(R_1*m_{\\gamma'}) + R_1*\\epsilon**2*\\pmb{m}*m_{\\gamma'}**2*exp(2*R_1*\\pmb{m}) + R_1*\\epsilon**2*\\pmb{m}*m_{\\gamma'}**2*exp(2*R_1*(\\pmb{m} + m_{\\gamma'}))*tanh(R_1*m_{\\gamma'}) - R_1*\\epsilon**2*\\pmb{m}*m_{\\gamma'}**2*exp(2*R_1*(\\pmb{m} + m_{\\gamma'})) + R_1*\\epsilon**2*\\pmb{m}*m_{\\gamma'}**2*exp(2*R_2*\\pmb{m})*tanh(R_1*m_{\\gamma'}) + R_1*\\epsilon**2*\\pmb{m}*m_{\\gamma'}**2*exp(2*R_2*\\pmb{m}) + R_1*\\epsilon**2*\\pmb{m}*m_{\\gamma'}**2*exp(2*R_1*m_{\\gamma'} + 2*R_2*\\pmb{m})*tanh(R_1*m_{\\gamma'}) - R_1*\\epsilon**2*\\pmb{m}*m_{\\gamma'}**2*exp(2*R_1*m_{\\gamma'} + 2*R_2*\\pmb{m}) - R_1*\\pmb{m}**2*m_{\\gamma'}*exp(2*R_1*\\pmb{m}) + R_1*\\pmb{m}**2*m_{\\gamma'}*exp(2*R_1*(\\pmb{m} + m_{\\gamma'})) + R_1*\\pmb{m}**2*m_{\\gamma'}*exp(2*R_2*\\pmb{m}) - R_1*\\pmb{m}**2*m_{\\gamma'}*exp(2*R_1*m_{\\gamma'} + 2*R_2*\\pmb{m}) - 2*R_1*\\pmb{m}*m_{\\gamma'}**2*exp(2*R_1*(\\pmb{m} + m_{\\gamma'})) - 2*R_1*\\pmb{m}*m_{\\gamma'}**2*exp(2*R_1*m_{\\gamma'} + 2*R_2*\\pmb{m}) + R_1*m_{\\gamma'}**3*exp(2*R_1*\\pmb{m}) + R_1*m_{\\gamma'}**3*exp(2*R_1*(\\pmb{m} + m_{\\gamma'})) - R_1*m_{\\gamma'}**3*exp(2*R_2*\\pmb{m}) - R_1*m_{\\gamma'}**3*exp(2*R_1*m_{\\gamma'} + 2*R_2*\\pmb{m}) + \\epsilon**2*\\pmb{m}*m_{\\gamma'}*exp(2*R_1*\\pmb{m})*tanh(R_1*m_{\\gamma'}) + \\epsilon**2*\\pmb{m}*m_{\\gamma'}*exp(2*R_1*\\pmb{m}) + \\epsilon**2*\\pmb{m}*m_{\\gamma'}*exp(2*R_1*(\\pmb{m} + m_{\\gamma'}))*tanh(R_1*m_{\\gamma'}) - \\epsilon**2*\\pmb{m}*m_{\\gamma'}*exp(2*R_1*(\\pmb{m} + m_{\\gamma'})) + \\epsilon**2*\\pmb{m}*m_{\\gamma'}*exp(2*R_2*\\pmb{m})*tanh(R_1*m_{\\gamma'}) + \\epsilon**2*\\pmb{m}*m_{\\gamma'}*exp(2*R_2*\\pmb{m}) + \\epsilon**2*\\pmb{m}*m_{\\gamma'}*exp(2*R_1*m_{\\gamma'} + 2*R_2*\\pmb{m})*tanh(R_1*m_{\\gamma'}) - \\epsilon**2*\\pmb{m}*m_{\\gamma'}*exp(2*R_1*m_{\\gamma'} + 2*R_2*\\pmb{m}) - \\epsilon**2*m_{\\gamma'}**2*exp(2*R_1*\\pmb{m})*tanh(R_1*m_{\\gamma'}) - \\epsilon**2*m_{\\gamma'}**2*exp(2*R_1*\\pmb{m}) - \\epsilon**2*m_{\\gamma'}**2*exp(2*R_1*(\\pmb{m} + m_{\\gamma'}))*tanh(R_1*m_{\\gamma'}) + \\epsilon**2*m_{\\gamma'}**2*exp(2*R_1*(\\pmb{m} + m_{\\gamma'})) + \\epsilon**2*m_{\\gamma'}**2*exp(2*R_2*\\pmb{m})*tanh(R_1*m_{\\gamma'}) + \\epsilon**2*m_{\\gamma'}**2*exp(2*R_2*\\pmb{m}) + \\epsilon**2*m_{\\gamma'}**2*exp(2*R_1*m_{\\gamma'} + 2*R_2*\\pmb{m})*tanh(R_1*m_{\\gamma'}) - \\epsilon**2*m_{\\gamma'}**2*exp(2*R_1*m_{\\gamma'} + 2*R_2*\\pmb{m}) + \\pmb{m}**2*exp(2*R_1*\\pmb{m})*tanh(R_1*m_{\\gamma'}) - \\pmb{m}**2*exp(2*R_1*(\\pmb{m} + m_{\\gamma'}))*tanh(R_1*m_{\\gamma'}) - \\pmb{m}**2*exp(2*R_2*\\pmb{m})*tanh(R_1*m_{\\gamma'}) + \\pmb{m}**2*exp(2*R_1*m_{\\gamma'} + 2*R_2*\\pmb{m})*tanh(R_1*m_{\\gamma'}) + 2*\\pmb{m}*m_{\\gamma'}*exp(2*R_1*(\\pmb{m} + m_{\\gamma'}))*tanh(R_1*m_{\\gamma'}) + 2*\\pmb{m}*m_{\\gamma'}*exp(2*R_1*m_{\\gamma'} + 2*R_2*\\pmb{m})*tanh(R_1*m_{\\gamma'}) - m_{\\gamma'}**2*exp(2*R_1*\\pmb{m})*tanh(R_1*m_{\\gamma'}) - m_{\\gamma'}**2*exp(2*R_1*(\\pmb{m} + m_{\\gamma'}))*tanh(R_1*m_{\\gamma'}) + m_{\\gamma'}**2*exp(2*R_2*\\pmb{m})*tanh(R_1*m_{\\gamma'}) + m_{\\gamma'}**2*exp(2*R_1*m_{\\gamma'} + 2*R_2*\\pmb{m})*tanh(R_1*m_{\\gamma'}))/(-R_1*\\pmb{m}**2*m_{\\gamma'}*exp(2*R_1*\\pmb{m})*tanh(R_1*m_{\\gamma'}) - R_1*\\pmb{m}**2*m_{\\gamma'}*exp(2*R_1*(\\pmb{m} + m_{\\gamma'}))*tanh(R_1*m_{\\gamma'}) + R_1*\\pmb{m}**2*m_{\\gamma'}*exp(2*R_2*\\pmb{m})*tanh(R_1*m_{\\gamma'}) + R_1*\\pmb{m}**2*m_{\\gamma'}*exp(2*R_1*m_{\\gamma'} + 2*R_2*\\pmb{m})*tanh(R_1*m_{\\gamma'}) + R_1*\\pmb{m}*m_{\\gamma'}**2*exp(2*R_1*\\pmb{m})*tanh(R_1*m_{\\gamma'}) + R_1*\\pmb{m}*m_{\\gamma'}**2*exp(2*R_1*\\pmb{m}) + R_1*\\pmb{m}*m_{\\gamma'}**2*exp(2*R_1*(\\pmb{m} + m_{\\gamma'}))*tanh(R_1*m_{\\gamma'}) + R_1*\\pmb{m}*m_{\\gamma'}**2*exp(2*R_1*(\\pmb{m} + m_{\\gamma'})) + R_1*\\pmb{m}*m_{\\gamma'}**2*exp(2*R_2*\\pmb{m})*tanh(R_1*m_{\\gamma'}) + R_1*\\pmb{m}*m_{\\gamma'}**2*exp(2*R_2*\\pmb{m}) + R_1*\\pmb{m}*m_{\\gamma'}**2*exp(2*R_1*m_{\\gamma'} + 2*R_2*\\pmb{m})*tanh(R_1*m_{\\gamma'}) + R_1*\\pmb{m}*m_{\\gamma'}**2*exp(2*R_1*m_{\\gamma'} + 2*R_2*\\pmb{m}) - R_1*m_{\\gamma'}**3*exp(2*R_1*\\pmb{m}) - R_1*m_{\\gamma'}**3*exp(2*R_1*(\\pmb{m} + m_{\\gamma'})) + R_1*m_{\\gamma'}**3*exp(2*R_2*\\pmb{m}) + R_1*m_{\\gamma'}**3*exp(2*R_1*m_{\\gamma'} + 2*R_2*\\pmb{m}) - \\pmb{m}**2*exp(2*R_1*\\pmb{m})*tanh(R_1*m_{\\gamma'}) + \\pmb{m}**2*exp(2*R_1*(\\pmb{m} + m_{\\gamma'}))*tanh(R_1*m_{\\gamma'}) + \\pmb{m}**2*exp(2*R_2*\\pmb{m})*tanh(R_1*m_{\\gamma'}) - \\pmb{m}**2*exp(2*R_1*m_{\\gamma'} + 2*R_2*\\pmb{m})*tanh(R_1*m_{\\gamma'}) + \\pmb{m}*m_{\\gamma'}*exp(2*R_1*\\pmb{m})*tanh(R_1*m_{\\gamma'}) + \\pmb{m}*m_{\\gamma'}*exp(2*R_1*\\pmb{m}) - \\pmb{m}*m_{\\gamma'}*exp(2*R_1*(\\pmb{m} + m_{\\gamma'}))*tanh(R_1*m_{\\gamma'}) - \\pmb{m}*m_{\\gamma'}*exp(2*R_1*(\\pmb{m} + m_{\\gamma'})) + \\pmb{m}*m_{\\gamma'}*exp(2*R_2*\\pmb{m})*tanh(R_1*m_{\\gamma'}) + \\pmb{m}*m_{\\gamma'}*exp(2*R_2*\\pmb{m}) - \\pmb{m}*m_{\\gamma'}*exp(2*R_1*m_{\\gamma'} + 2*R_2*\\pmb{m})*tanh(R_1*m_{\\gamma'}) - \\pmb{m}*m_{\\gamma'}*exp(2*R_1*m_{\\gamma'} + 2*R_2*\\pmb{m}) - m_{\\gamma'}**2*exp(2*R_1*\\pmb{m}) + m_{\\gamma'}**2*exp(2*R_1*(\\pmb{m} + m_{\\gamma'})) + m_{\\gamma'}**2*exp(2*R_2*\\pmb{m}) - m_{\\gamma'}**2*exp(2*R_1*m_{\\gamma'} + 2*R_2*\\pmb{m}))"
      ]
     },
     "execution_count": 51,
     "metadata": {},
     "output_type": "execute_result"
    }
   ],
   "source": [
    "test_result = simplify(DeltaDiff(V,Vin,R1).subs([(b3,b3_express),(b4,b4_express),(s2,s2_express)]))\n",
    "test_result"
   ]
  },
  {
   "cell_type": "markdown",
   "metadata": {},
   "source": [
    "Obviously, we want this to give us -$\\sigma_1$. But the algorithm is too studpid to realize this. Let's try putting in some number."
   ]
  },
  {
   "cell_type": "code",
   "execution_count": 52,
   "metadata": {},
   "outputs": [
    {
     "data": {
      "text/latex": [
       "$\\displaystyle - 1.0 \\sigma_1$"
      ],
      "text/plain": [
       "-1.0*\\sigma_1"
      ]
     },
     "execution_count": 52,
     "metadata": {},
     "output_type": "execute_result"
    }
   ],
   "source": [
    "test_result.subs([(mb,m/sqrt(1+epsilon**2)),(R1,1),(R2,2),(m,0.1),(epsilon,0.1)])"
   ]
  },
  {
   "cell_type": "markdown",
   "metadata": {},
   "source": [
    "## Solving for $c_4$ in terms of $b_3$ and $b_4$ using derivative discontinuity"
   ]
  },
  {
   "cell_type": "markdown",
   "metadata": {},
   "source": [
    "Using the \"cute\" argument, $\\Delta \\frac{dV}{dr} = \\frac{1}{\\epsilon} \\Delta \\frac{dV'}{dr}$,\n",
    "the following equation should be 0"
   ]
  },
  {
   "cell_type": "code",
   "execution_count": 53,
   "metadata": {},
   "outputs": [],
   "source": [
    "deltaVR2=simplify(DeltaDiff(Vout,V,R2))\n",
    "deltaVprimeR2 = simplify(DeltaDiff(Vprimeout,Vprime,R2).subs(b2,b2_express))"
   ]
  },
  {
   "cell_type": "code",
   "execution_count": 54,
   "metadata": {},
   "outputs": [
    {
     "data": {
      "text/latex": [
       "$\\displaystyle - \\frac{\\epsilon \\pmb{m} b_{4} e^{- R_{2} \\pmb{m}}}{R_{2}} + \\frac{\\epsilon b_{3} e^{R_{2} \\pmb{m}}}{R_{2}} - \\frac{c_{4}}{R_{2}} - \\frac{\\left(\\pmb{m}^{2} b_{4} - \\pmb{m} b_{3} e^{2 R_{2} \\pmb{m}} - \\pmb{m} b_{4} m_{\\gamma'} - b_{3} m_{\\gamma'} e^{2 R_{2} \\pmb{m}}\\right) e^{- R_{2} \\pmb{m}}}{R_{2} \\epsilon \\pmb{m}}$"
      ],
      "text/plain": [
       "-\\epsilon*\\pmb{m}*b_4*exp(-R_2*\\pmb{m})/R_2 + \\epsilon*b_3*exp(R_2*\\pmb{m})/R_2 - c_4/R_2 - (\\pmb{m}**2*b_4 - \\pmb{m}*b_3*exp(2*R_2*\\pmb{m}) - \\pmb{m}*b_4*m_{\\gamma'} - b_3*m_{\\gamma'}*exp(2*R_2*\\pmb{m}))*exp(-R_2*\\pmb{m})/(R_2*\\epsilon*\\pmb{m})"
      ]
     },
     "execution_count": 54,
     "metadata": {},
     "output_type": "execute_result"
    }
   ],
   "source": [
    "equation4 = deltaVR2 - deltaVprimeR2/epsilon\n",
    "equation4"
   ]
  },
  {
   "cell_type": "code",
   "execution_count": 55,
   "metadata": {},
   "outputs": [
    {
     "data": {
      "text/latex": [
       "$\\displaystyle \\frac{\\left(- \\epsilon^{2} \\pmb{m}^{2} b_{4} + \\epsilon^{2} \\pmb{m} b_{3} e^{2 R_{2} \\pmb{m}} + \\pmb{m} b_{3} e^{2 R_{2} \\pmb{m}} - \\pmb{m} b_{4} \\left(\\pmb{m} - m_{\\gamma'}\\right) + b_{3} m_{\\gamma'} e^{2 R_{2} \\pmb{m}}\\right) e^{- R_{2} \\pmb{m}}}{\\epsilon \\pmb{m}}$"
      ],
      "text/plain": [
       "(-\\epsilon**2*\\pmb{m}**2*b_4 + \\epsilon**2*\\pmb{m}*b_3*exp(2*R_2*\\pmb{m}) + \\pmb{m}*b_3*exp(2*R_2*\\pmb{m}) - \\pmb{m}*b_4*(\\pmb{m} - m_{\\gamma'}) + b_3*m_{\\gamma'}*exp(2*R_2*\\pmb{m}))*exp(-R_2*\\pmb{m})/(\\epsilon*\\pmb{m})"
      ]
     },
     "execution_count": 55,
     "metadata": {},
     "output_type": "execute_result"
    }
   ],
   "source": [
    "c4_express = simplify(solve(equation4,c4)[0])\n",
    "c4_express"
   ]
  },
  {
   "cell_type": "code",
   "execution_count": 56,
   "metadata": {},
   "outputs": [
    {
     "data": {
      "text/latex": [
       "$\\displaystyle \\frac{\\left(b_{3} \\left(\\epsilon^{2} \\pmb{m} e^{2 R_{2} \\pmb{m}} + \\pmb{m} e^{2 R_{2} \\pmb{m}} + m_{\\gamma'} e^{2 R_{2} \\pmb{m}}\\right) + b_{4} \\left(- \\epsilon^{2} \\pmb{m}^{2} - \\pmb{m}^{2} + \\pmb{m} m_{\\gamma'}\\right)\\right) e^{- R_{2} \\pmb{m}}}{\\epsilon \\pmb{m}}$"
      ],
      "text/plain": [
       "(b_3*(\\epsilon**2*\\pmb{m}*exp(2*R_2*\\pmb{m}) + \\pmb{m}*exp(2*R_2*\\pmb{m}) + m_{\\gamma'}*exp(2*R_2*\\pmb{m})) + b_4*(-\\epsilon**2*\\pmb{m}**2 - \\pmb{m}**2 + \\pmb{m}*m_{\\gamma'}))*exp(-R_2*\\pmb{m})/(\\epsilon*\\pmb{m})"
      ]
     },
     "execution_count": 56,
     "metadata": {},
     "output_type": "execute_result"
    }
   ],
   "source": [
    "c4_express.factor(b3,b4)"
   ]
  },
  {
   "cell_type": "markdown",
   "metadata": {},
   "source": [
    "We check that equation 4 (i.e. discontinuity of V at R2) is satisfied"
   ]
  },
  {
   "cell_type": "code",
   "execution_count": 57,
   "metadata": {},
   "outputs": [
    {
     "data": {
      "text/latex": [
       "$\\displaystyle 0$"
      ],
      "text/plain": [
       "0"
      ]
     },
     "execution_count": 57,
     "metadata": {},
     "output_type": "execute_result"
    }
   ],
   "source": [
    "simplify(equation4.subs(c4,c4_express))"
   ]
  },
  {
   "cell_type": "code",
   "execution_count": 58,
   "metadata": {},
   "outputs": [
    {
     "data": {
      "text/latex": [
       "$\\displaystyle - \\sigma_2$"
      ],
      "text/plain": [
       "-\\sigma_2"
      ]
     },
     "execution_count": 58,
     "metadata": {},
     "output_type": "execute_result"
    }
   ],
   "source": [
    "simplify(DeltaDiff(Vout,V,R2).subs([(c4,c4_express),(b3,b3_express),(b4,b4_express)]))"
   ]
  },
  {
   "cell_type": "markdown",
   "metadata": {},
   "source": [
    "Since we ultimately know what $b_3$ and $b_4$ are in terms of $\\sigma_1$ and $\\sigma_2$, and also $\\sigma_1$ in terms of $\\sigma_2$, we have solved $V$ and $V'$ in terms of only the input parameter $\\sigma_2$."
   ]
  },
  {
   "cell_type": "markdown",
   "metadata": {},
   "source": [
    "# 3. Converting to numpy function"
   ]
  },
  {
   "cell_type": "markdown",
   "metadata": {},
   "source": [
    "## Converting all constants to numpy function"
   ]
  },
  {
   "cell_type": "markdown",
   "metadata": {},
   "source": [
    "We need to replace the reduced mass with its expression in terms of original mass everywhere."
   ]
  },
  {
   "cell_type": "code",
   "execution_count": 59,
   "metadata": {},
   "outputs": [
    {
     "data": {
      "text/latex": [
       "$\\displaystyle \\frac{m_{\\gamma'}}{\\sqrt{\\epsilon^{2} + 1}}$"
      ],
      "text/plain": [
       "m_{\\gamma'}/sqrt(\\epsilon**2 + 1)"
      ]
     },
     "execution_count": 59,
     "metadata": {},
     "output_type": "execute_result"
    }
   ],
   "source": [
    "mb_express = m/sqrt(1+epsilon**2)\n",
    "mb_express"
   ]
  },
  {
   "cell_type": "markdown",
   "metadata": {},
   "source": [
    "We replace the reduced mass in sigma1 first"
   ]
  },
  {
   "cell_type": "code",
   "execution_count": 60,
   "metadata": {},
   "outputs": [
    {
     "data": {
      "text/latex": [
       "$\\displaystyle \\frac{2 R_{2} \\epsilon^{2} \\sigma_2 m_{\\gamma'} \\left(R_{1} m_{\\gamma'} e^{2 R_{1} m_{\\gamma'}} + R_{1} m_{\\gamma'} - e^{2 R_{1} m_{\\gamma'}} + 1\\right) e^{\\frac{m_{\\gamma'} \\left(R_{1} + R_{2}\\right)}{\\sqrt{\\epsilon^{2} + 1}}}}{R_{1} \\sqrt{\\epsilon^{2} + 1} \\left(- \\frac{R_{1} \\epsilon^{2} m_{\\gamma'}^{2} e^{2 R_{1} \\left(m_{\\gamma'} + \\frac{m_{\\gamma'}}{\\sqrt{\\epsilon^{2} + 1}}\\right)}}{\\epsilon^{2} + 1} + \\frac{R_{1} \\epsilon^{2} m_{\\gamma'}^{2} e^{\\frac{2 R_{1} m_{\\gamma'}}{\\sqrt{\\epsilon^{2} + 1}}}}{\\epsilon^{2} + 1} - \\frac{R_{1} \\epsilon^{2} m_{\\gamma'}^{2} e^{\\frac{2 R_{2} m_{\\gamma'}}{\\sqrt{\\epsilon^{2} + 1}}}}{\\epsilon^{2} + 1} + \\frac{R_{1} \\epsilon^{2} m_{\\gamma'}^{2} e^{2 R_{1} m_{\\gamma'} + \\frac{2 R_{2} m_{\\gamma'}}{\\sqrt{\\epsilon^{2} + 1}}}}{\\epsilon^{2} + 1} + \\frac{R_{1} \\epsilon^{2} m_{\\gamma'}^{2} e^{2 R_{1} \\left(m_{\\gamma'} + \\frac{m_{\\gamma'}}{\\sqrt{\\epsilon^{2} + 1}}\\right)}}{\\sqrt{\\epsilon^{2} + 1}} - \\frac{R_{1} \\epsilon^{2} m_{\\gamma'}^{2} e^{\\frac{2 R_{1} m_{\\gamma'}}{\\sqrt{\\epsilon^{2} + 1}}}}{\\sqrt{\\epsilon^{2} + 1}} - \\frac{R_{1} \\epsilon^{2} m_{\\gamma'}^{2} e^{\\frac{2 R_{2} m_{\\gamma'}}{\\sqrt{\\epsilon^{2} + 1}}}}{\\sqrt{\\epsilon^{2} + 1}} + \\frac{R_{1} \\epsilon^{2} m_{\\gamma'}^{2} e^{2 R_{1} m_{\\gamma'} + \\frac{2 R_{2} m_{\\gamma'}}{\\sqrt{\\epsilon^{2} + 1}}}}{\\sqrt{\\epsilon^{2} + 1}} - R_{1} m_{\\gamma'}^{2} e^{2 R_{1} \\left(m_{\\gamma'} + \\frac{m_{\\gamma'}}{\\sqrt{\\epsilon^{2} + 1}}\\right)} - R_{1} m_{\\gamma'}^{2} e^{\\frac{2 R_{1} m_{\\gamma'}}{\\sqrt{\\epsilon^{2} + 1}}} + R_{1} m_{\\gamma'}^{2} e^{\\frac{2 R_{2} m_{\\gamma'}}{\\sqrt{\\epsilon^{2} + 1}}} + R_{1} m_{\\gamma'}^{2} e^{2 R_{1} m_{\\gamma'} + \\frac{2 R_{2} m_{\\gamma'}}{\\sqrt{\\epsilon^{2} + 1}}} - \\frac{R_{1} m_{\\gamma'}^{2} e^{2 R_{1} \\left(m_{\\gamma'} + \\frac{m_{\\gamma'}}{\\sqrt{\\epsilon^{2} + 1}}\\right)}}{\\epsilon^{2} + 1} + \\frac{R_{1} m_{\\gamma'}^{2} e^{\\frac{2 R_{1} m_{\\gamma'}}{\\sqrt{\\epsilon^{2} + 1}}}}{\\epsilon^{2} + 1} - \\frac{R_{1} m_{\\gamma'}^{2} e^{\\frac{2 R_{2} m_{\\gamma'}}{\\sqrt{\\epsilon^{2} + 1}}}}{\\epsilon^{2} + 1} + \\frac{R_{1} m_{\\gamma'}^{2} e^{2 R_{1} m_{\\gamma'} + \\frac{2 R_{2} m_{\\gamma'}}{\\sqrt{\\epsilon^{2} + 1}}}}{\\epsilon^{2} + 1} + \\frac{2 R_{1} m_{\\gamma'}^{2} e^{2 R_{1} \\left(m_{\\gamma'} + \\frac{m_{\\gamma'}}{\\sqrt{\\epsilon^{2} + 1}}\\right)}}{\\sqrt{\\epsilon^{2} + 1}} + \\frac{2 R_{1} m_{\\gamma'}^{2} e^{2 R_{1} m_{\\gamma'} + \\frac{2 R_{2} m_{\\gamma'}}{\\sqrt{\\epsilon^{2} + 1}}}}{\\sqrt{\\epsilon^{2} + 1}} - \\epsilon^{2} m_{\\gamma'} e^{2 R_{1} \\left(m_{\\gamma'} + \\frac{m_{\\gamma'}}{\\sqrt{\\epsilon^{2} + 1}}\\right)} + \\epsilon^{2} m_{\\gamma'} e^{\\frac{2 R_{1} m_{\\gamma'}}{\\sqrt{\\epsilon^{2} + 1}}} - \\epsilon^{2} m_{\\gamma'} e^{\\frac{2 R_{2} m_{\\gamma'}}{\\sqrt{\\epsilon^{2} + 1}}} + \\epsilon^{2} m_{\\gamma'} e^{2 R_{1} m_{\\gamma'} + \\frac{2 R_{2} m_{\\gamma'}}{\\sqrt{\\epsilon^{2} + 1}}} + \\frac{\\epsilon^{2} m_{\\gamma'} e^{2 R_{1} \\left(m_{\\gamma'} + \\frac{m_{\\gamma'}}{\\sqrt{\\epsilon^{2} + 1}}\\right)}}{\\sqrt{\\epsilon^{2} + 1}} - \\frac{\\epsilon^{2} m_{\\gamma'} e^{\\frac{2 R_{1} m_{\\gamma'}}{\\sqrt{\\epsilon^{2} + 1}}}}{\\sqrt{\\epsilon^{2} + 1}} - \\frac{\\epsilon^{2} m_{\\gamma'} e^{\\frac{2 R_{2} m_{\\gamma'}}{\\sqrt{\\epsilon^{2} + 1}}}}{\\sqrt{\\epsilon^{2} + 1}} + \\frac{\\epsilon^{2} m_{\\gamma'} e^{2 R_{1} m_{\\gamma'} + \\frac{2 R_{2} m_{\\gamma'}}{\\sqrt{\\epsilon^{2} + 1}}}}{\\sqrt{\\epsilon^{2} + 1}}\\right)}$"
      ],
      "text/plain": [
       "2*R_2*\\epsilon**2*\\sigma_2*m_{\\gamma'}*(R_1*m_{\\gamma'}*exp(2*R_1*m_{\\gamma'}) + R_1*m_{\\gamma'} - exp(2*R_1*m_{\\gamma'}) + 1)*exp(m_{\\gamma'}*(R_1 + R_2)/sqrt(\\epsilon**2 + 1))/(R_1*sqrt(\\epsilon**2 + 1)*(-R_1*\\epsilon**2*m_{\\gamma'}**2*exp(2*R_1*(m_{\\gamma'} + m_{\\gamma'}/sqrt(\\epsilon**2 + 1)))/(\\epsilon**2 + 1) + R_1*\\epsilon**2*m_{\\gamma'}**2*exp(2*R_1*m_{\\gamma'}/sqrt(\\epsilon**2 + 1))/(\\epsilon**2 + 1) - R_1*\\epsilon**2*m_{\\gamma'}**2*exp(2*R_2*m_{\\gamma'}/sqrt(\\epsilon**2 + 1))/(\\epsilon**2 + 1) + R_1*\\epsilon**2*m_{\\gamma'}**2*exp(2*R_1*m_{\\gamma'} + 2*R_2*m_{\\gamma'}/sqrt(\\epsilon**2 + 1))/(\\epsilon**2 + 1) + R_1*\\epsilon**2*m_{\\gamma'}**2*exp(2*R_1*(m_{\\gamma'} + m_{\\gamma'}/sqrt(\\epsilon**2 + 1)))/sqrt(\\epsilon**2 + 1) - R_1*\\epsilon**2*m_{\\gamma'}**2*exp(2*R_1*m_{\\gamma'}/sqrt(\\epsilon**2 + 1))/sqrt(\\epsilon**2 + 1) - R_1*\\epsilon**2*m_{\\gamma'}**2*exp(2*R_2*m_{\\gamma'}/sqrt(\\epsilon**2 + 1))/sqrt(\\epsilon**2 + 1) + R_1*\\epsilon**2*m_{\\gamma'}**2*exp(2*R_1*m_{\\gamma'} + 2*R_2*m_{\\gamma'}/sqrt(\\epsilon**2 + 1))/sqrt(\\epsilon**2 + 1) - R_1*m_{\\gamma'}**2*exp(2*R_1*(m_{\\gamma'} + m_{\\gamma'}/sqrt(\\epsilon**2 + 1))) - R_1*m_{\\gamma'}**2*exp(2*R_1*m_{\\gamma'}/sqrt(\\epsilon**2 + 1)) + R_1*m_{\\gamma'}**2*exp(2*R_2*m_{\\gamma'}/sqrt(\\epsilon**2 + 1)) + R_1*m_{\\gamma'}**2*exp(2*R_1*m_{\\gamma'} + 2*R_2*m_{\\gamma'}/sqrt(\\epsilon**2 + 1)) - R_1*m_{\\gamma'}**2*exp(2*R_1*(m_{\\gamma'} + m_{\\gamma'}/sqrt(\\epsilon**2 + 1)))/(\\epsilon**2 + 1) + R_1*m_{\\gamma'}**2*exp(2*R_1*m_{\\gamma'}/sqrt(\\epsilon**2 + 1))/(\\epsilon**2 + 1) - R_1*m_{\\gamma'}**2*exp(2*R_2*m_{\\gamma'}/sqrt(\\epsilon**2 + 1))/(\\epsilon**2 + 1) + R_1*m_{\\gamma'}**2*exp(2*R_1*m_{\\gamma'} + 2*R_2*m_{\\gamma'}/sqrt(\\epsilon**2 + 1))/(\\epsilon**2 + 1) + 2*R_1*m_{\\gamma'}**2*exp(2*R_1*(m_{\\gamma'} + m_{\\gamma'}/sqrt(\\epsilon**2 + 1)))/sqrt(\\epsilon**2 + 1) + 2*R_1*m_{\\gamma'}**2*exp(2*R_1*m_{\\gamma'} + 2*R_2*m_{\\gamma'}/sqrt(\\epsilon**2 + 1))/sqrt(\\epsilon**2 + 1) - \\epsilon**2*m_{\\gamma'}*exp(2*R_1*(m_{\\gamma'} + m_{\\gamma'}/sqrt(\\epsilon**2 + 1))) + \\epsilon**2*m_{\\gamma'}*exp(2*R_1*m_{\\gamma'}/sqrt(\\epsilon**2 + 1)) - \\epsilon**2*m_{\\gamma'}*exp(2*R_2*m_{\\gamma'}/sqrt(\\epsilon**2 + 1)) + \\epsilon**2*m_{\\gamma'}*exp(2*R_1*m_{\\gamma'} + 2*R_2*m_{\\gamma'}/sqrt(\\epsilon**2 + 1)) + \\epsilon**2*m_{\\gamma'}*exp(2*R_1*(m_{\\gamma'} + m_{\\gamma'}/sqrt(\\epsilon**2 + 1)))/sqrt(\\epsilon**2 + 1) - \\epsilon**2*m_{\\gamma'}*exp(2*R_1*m_{\\gamma'}/sqrt(\\epsilon**2 + 1))/sqrt(\\epsilon**2 + 1) - \\epsilon**2*m_{\\gamma'}*exp(2*R_2*m_{\\gamma'}/sqrt(\\epsilon**2 + 1))/sqrt(\\epsilon**2 + 1) + \\epsilon**2*m_{\\gamma'}*exp(2*R_1*m_{\\gamma'} + 2*R_2*m_{\\gamma'}/sqrt(\\epsilon**2 + 1))/sqrt(\\epsilon**2 + 1)))"
      ]
     },
     "execution_count": 60,
     "metadata": {},
     "output_type": "execute_result"
    }
   ],
   "source": [
    "s1_express = s1_express.subs(mb,mb_express)\n",
    "s1_express"
   ]
  },
  {
   "cell_type": "markdown",
   "metadata": {},
   "source": [
    "We substitute sigma1 and reduced mass into b4 and convert it into a function in terms of fundamental variables."
   ]
  },
  {
   "cell_type": "code",
   "execution_count": 61,
   "metadata": {},
   "outputs": [
    {
     "data": {
      "text/latex": [
       "$\\displaystyle \\frac{\\epsilon \\left(R_{1} \\sigma_1 \\left(\\pmb{m} + m_{\\gamma'}\\right) e^{R_{2} \\pmb{m}} \\tanh{\\left(R_{1} m_{\\gamma'} \\right)} + R_{2} \\sigma_2 \\left(\\pmb{m} \\tanh{\\left(R_{1} m_{\\gamma'} \\right)} - m_{\\gamma'}\\right) e^{R_{1} \\pmb{m}}\\right) e^{\\pmb{m} \\left(R_{1} + R_{2}\\right)}}{- \\pmb{m}^{2} e^{2 R_{1} \\pmb{m}} \\tanh{\\left(R_{1} m_{\\gamma'} \\right)} + \\pmb{m}^{2} e^{2 R_{2} \\pmb{m}} \\tanh{\\left(R_{1} m_{\\gamma'} \\right)} + \\pmb{m} m_{\\gamma'} e^{2 R_{1} \\pmb{m}} \\tanh{\\left(R_{1} m_{\\gamma'} \\right)} + \\pmb{m} m_{\\gamma'} e^{2 R_{1} \\pmb{m}} + \\pmb{m} m_{\\gamma'} e^{2 R_{2} \\pmb{m}} \\tanh{\\left(R_{1} m_{\\gamma'} \\right)} + \\pmb{m} m_{\\gamma'} e^{2 R_{2} \\pmb{m}} - m_{\\gamma'}^{2} e^{2 R_{1} \\pmb{m}} + m_{\\gamma'}^{2} e^{2 R_{2} \\pmb{m}}}$"
      ],
      "text/plain": [
       "\\epsilon*(R_1*\\sigma_1*(\\pmb{m} + m_{\\gamma'})*exp(R_2*\\pmb{m})*tanh(R_1*m_{\\gamma'}) + R_2*\\sigma_2*(\\pmb{m}*tanh(R_1*m_{\\gamma'}) - m_{\\gamma'})*exp(R_1*\\pmb{m}))*exp(\\pmb{m}*(R_1 + R_2))/(-\\pmb{m}**2*exp(2*R_1*\\pmb{m})*tanh(R_1*m_{\\gamma'}) + \\pmb{m}**2*exp(2*R_2*\\pmb{m})*tanh(R_1*m_{\\gamma'}) + \\pmb{m}*m_{\\gamma'}*exp(2*R_1*\\pmb{m})*tanh(R_1*m_{\\gamma'}) + \\pmb{m}*m_{\\gamma'}*exp(2*R_1*\\pmb{m}) + \\pmb{m}*m_{\\gamma'}*exp(2*R_2*\\pmb{m})*tanh(R_1*m_{\\gamma'}) + \\pmb{m}*m_{\\gamma'}*exp(2*R_2*\\pmb{m}) - m_{\\gamma'}**2*exp(2*R_1*\\pmb{m}) + m_{\\gamma'}**2*exp(2*R_2*\\pmb{m}))"
      ]
     },
     "execution_count": 61,
     "metadata": {},
     "output_type": "execute_result"
    }
   ],
   "source": [
    "b4_express"
   ]
  },
  {
   "cell_type": "code",
   "execution_count": 62,
   "metadata": {},
   "outputs": [],
   "source": [
    "b4_express = b4_express.subs([(mb,mb_express),(s1,s1_express)])\n",
    "b4_func = lambdify((epsilon,m,R1,R2,s2),b4_express)"
   ]
  },
  {
   "cell_type": "code",
   "execution_count": 63,
   "metadata": {},
   "outputs": [
    {
     "data": {
      "text/plain": [
       "-0.8229574589665556"
      ]
     },
     "execution_count": 63,
     "metadata": {},
     "output_type": "execute_result"
    }
   ],
   "source": [
    "b4_func(0.1,0.1,1,2,1) #test"
   ]
  },
  {
   "cell_type": "markdown",
   "metadata": {},
   "source": [
    "we repeat the same thing to lambdify b3"
   ]
  },
  {
   "cell_type": "code",
   "execution_count": 64,
   "metadata": {},
   "outputs": [
    {
     "data": {
      "text/latex": [
       "$\\displaystyle \\frac{\\epsilon \\pmb{m} \\left(R_{1} \\sigma_1 \\left(\\pmb{m} - m_{\\gamma'}\\right) e^{R_{1} \\pmb{m}} \\tanh{\\left(R_{1} m_{\\gamma'} \\right)} + R_{2} \\sigma_2 \\left(\\pmb{m} \\tanh{\\left(R_{1} m_{\\gamma'} \\right)} + m_{\\gamma'}\\right) e^{R_{2} \\pmb{m}}\\right)}{- \\pmb{m}^{2} e^{2 R_{1} \\pmb{m}} \\tanh{\\left(R_{1} m_{\\gamma'} \\right)} + \\pmb{m}^{2} e^{2 R_{2} \\pmb{m}} \\tanh{\\left(R_{1} m_{\\gamma'} \\right)} + \\pmb{m} m_{\\gamma'} e^{2 R_{1} \\pmb{m}} \\tanh{\\left(R_{1} m_{\\gamma'} \\right)} + \\pmb{m} m_{\\gamma'} e^{2 R_{1} \\pmb{m}} + \\pmb{m} m_{\\gamma'} e^{2 R_{2} \\pmb{m}} \\tanh{\\left(R_{1} m_{\\gamma'} \\right)} + \\pmb{m} m_{\\gamma'} e^{2 R_{2} \\pmb{m}} - m_{\\gamma'}^{2} e^{2 R_{1} \\pmb{m}} + m_{\\gamma'}^{2} e^{2 R_{2} \\pmb{m}}}$"
      ],
      "text/plain": [
       "\\epsilon*\\pmb{m}*(R_1*\\sigma_1*(\\pmb{m} - m_{\\gamma'})*exp(R_1*\\pmb{m})*tanh(R_1*m_{\\gamma'}) + R_2*\\sigma_2*(\\pmb{m}*tanh(R_1*m_{\\gamma'}) + m_{\\gamma'})*exp(R_2*\\pmb{m}))/(-\\pmb{m}**2*exp(2*R_1*\\pmb{m})*tanh(R_1*m_{\\gamma'}) + \\pmb{m}**2*exp(2*R_2*\\pmb{m})*tanh(R_1*m_{\\gamma'}) + \\pmb{m}*m_{\\gamma'}*exp(2*R_1*\\pmb{m})*tanh(R_1*m_{\\gamma'}) + \\pmb{m}*m_{\\gamma'}*exp(2*R_1*\\pmb{m}) + \\pmb{m}*m_{\\gamma'}*exp(2*R_2*\\pmb{m})*tanh(R_1*m_{\\gamma'}) + \\pmb{m}*m_{\\gamma'}*exp(2*R_2*\\pmb{m}) - m_{\\gamma'}**2*exp(2*R_1*\\pmb{m}) + m_{\\gamma'}**2*exp(2*R_2*\\pmb{m}))"
      ]
     },
     "execution_count": 64,
     "metadata": {},
     "output_type": "execute_result"
    }
   ],
   "source": [
    "b3_express"
   ]
  },
  {
   "cell_type": "code",
   "execution_count": 65,
   "metadata": {},
   "outputs": [],
   "source": [
    "b3_express = b3_express.subs([(mb,mb_express),(s1,s1_express)])\n",
    "b3_func = lambdify((epsilon,m,R1,R2,s2), b3_express)"
   ]
  },
  {
   "cell_type": "code",
   "execution_count": 66,
   "metadata": {},
   "outputs": [
    {
     "data": {
      "text/plain": [
       "0.08188732811874447"
      ]
     },
     "execution_count": 66,
     "metadata": {},
     "output_type": "execute_result"
    }
   ],
   "source": [
    "b3_func(0.1,0.1,1,2,1)"
   ]
  },
  {
   "cell_type": "markdown",
   "metadata": {},
   "source": [
    "we next lambidfy b2"
   ]
  },
  {
   "cell_type": "code",
   "execution_count": 67,
   "metadata": {},
   "outputs": [
    {
     "data": {
      "text/latex": [
       "$\\displaystyle m_{\\gamma'} \\left(b_{4} e^{- R_{2} \\pmb{m}} + \\frac{b_{3} e^{R_{2} \\pmb{m}}}{\\pmb{m}}\\right) e^{R_{2} m_{\\gamma'}}$"
      ],
      "text/plain": [
       "m_{\\gamma'}*(b_4*exp(-R_2*\\pmb{m}) + b_3*exp(R_2*\\pmb{m})/\\pmb{m})*exp(R_2*m_{\\gamma'})"
      ]
     },
     "execution_count": 67,
     "metadata": {},
     "output_type": "execute_result"
    }
   ],
   "source": [
    "b2_express"
   ]
  },
  {
   "cell_type": "code",
   "execution_count": 68,
   "metadata": {},
   "outputs": [],
   "source": [
    "b2_express = b2_express.subs([(mb,mb_express),(b3,b3_express),(b4,b4_express)])\n",
    "b2_func = lambdify((epsilon,m,R1,R2,s2), b2_express)"
   ]
  },
  {
   "cell_type": "code",
   "execution_count": 69,
   "metadata": {},
   "outputs": [
    {
     "data": {
      "text/plain": [
       "0.04027155950107219"
      ]
     },
     "execution_count": 69,
     "metadata": {},
     "output_type": "execute_result"
    }
   ],
   "source": [
    "b2_func(0.1,0.1,1,2,1)"
   ]
  },
  {
   "cell_type": "markdown",
   "metadata": {},
   "source": [
    "next, lambdify b1"
   ]
  },
  {
   "cell_type": "code",
   "execution_count": 70,
   "metadata": {},
   "outputs": [
    {
     "data": {
      "text/latex": [
       "$\\displaystyle \\frac{m_{\\gamma'} \\left(b_{4} e^{- R_{1} \\pmb{m}} + \\frac{b_{3} e^{R_{1} \\pmb{m}}}{\\pmb{m}}\\right)}{2 \\sinh{\\left(R_{1} m_{\\gamma'} \\right)}}$"
      ],
      "text/plain": [
       "m_{\\gamma'}*(b_4*exp(-R_1*\\pmb{m}) + b_3*exp(R_1*\\pmb{m})/\\pmb{m})/(2*sinh(R_1*m_{\\gamma'}))"
      ]
     },
     "execution_count": 70,
     "metadata": {},
     "output_type": "execute_result"
    }
   ],
   "source": [
    "b1_express"
   ]
  },
  {
   "cell_type": "code",
   "execution_count": 71,
   "metadata": {},
   "outputs": [],
   "source": [
    "b1_express = b1_express.subs([(mb,mb_express),(b3,b3_express),(b4,b4_express)])\n",
    "b1_func = lambdify((epsilon,m,R1,R2,s2), b1_express)"
   ]
  },
  {
   "cell_type": "code",
   "execution_count": 72,
   "metadata": {},
   "outputs": [
    {
     "data": {
      "text/plain": [
       "0.08188597936386484"
      ]
     },
     "execution_count": 72,
     "metadata": {},
     "output_type": "execute_result"
    }
   ],
   "source": [
    "b1_func(0.1,0.1,1,2,1)"
   ]
  },
  {
   "cell_type": "markdown",
   "metadata": {},
   "source": [
    "we next lambify c4"
   ]
  },
  {
   "cell_type": "code",
   "execution_count": 73,
   "metadata": {},
   "outputs": [
    {
     "data": {
      "text/latex": [
       "$\\displaystyle \\frac{\\left(- \\epsilon^{2} \\pmb{m}^{2} b_{4} + \\epsilon^{2} \\pmb{m} b_{3} e^{2 R_{2} \\pmb{m}} + \\pmb{m} b_{3} e^{2 R_{2} \\pmb{m}} - \\pmb{m} b_{4} \\left(\\pmb{m} - m_{\\gamma'}\\right) + b_{3} m_{\\gamma'} e^{2 R_{2} \\pmb{m}}\\right) e^{- R_{2} \\pmb{m}}}{\\epsilon \\pmb{m}}$"
      ],
      "text/plain": [
       "(-\\epsilon**2*\\pmb{m}**2*b_4 + \\epsilon**2*\\pmb{m}*b_3*exp(2*R_2*\\pmb{m}) + \\pmb{m}*b_3*exp(2*R_2*\\pmb{m}) - \\pmb{m}*b_4*(\\pmb{m} - m_{\\gamma'}) + b_3*m_{\\gamma'}*exp(2*R_2*\\pmb{m}))*exp(-R_2*\\pmb{m})/(\\epsilon*\\pmb{m})"
      ]
     },
     "execution_count": 73,
     "metadata": {},
     "output_type": "execute_result"
    }
   ],
   "source": [
    "c4_express"
   ]
  },
  {
   "cell_type": "code",
   "execution_count": 74,
   "metadata": {},
   "outputs": [],
   "source": [
    "c4_express = c4_express.subs([(mb,mb_express),(b3,b3_express),(b4,b4_express)])\n",
    "c4_func = lambdify((epsilon,m,R1,R2,s2), c4_express)"
   ]
  },
  {
   "cell_type": "code",
   "execution_count": 75,
   "metadata": {},
   "outputs": [
    {
     "data": {
      "text/latex": [
       "$\\displaystyle \\frac{2 R_{2} \\epsilon^{2} \\sigma_2 m_{\\gamma'} \\left(R_{1} m_{\\gamma'} e^{2 R_{1} m_{\\gamma'}} + R_{1} m_{\\gamma'} - e^{2 R_{1} m_{\\gamma'}} + 1\\right) e^{\\frac{m_{\\gamma'} \\left(R_{1} + R_{2}\\right)}{\\sqrt{\\epsilon^{2} + 1}}}}{R_{1} \\sqrt{\\epsilon^{2} + 1} \\left(- \\frac{R_{1} \\epsilon^{2} m_{\\gamma'}^{2} e^{2 R_{1} \\left(m_{\\gamma'} + \\frac{m_{\\gamma'}}{\\sqrt{\\epsilon^{2} + 1}}\\right)}}{\\epsilon^{2} + 1} + \\frac{R_{1} \\epsilon^{2} m_{\\gamma'}^{2} e^{\\frac{2 R_{1} m_{\\gamma'}}{\\sqrt{\\epsilon^{2} + 1}}}}{\\epsilon^{2} + 1} - \\frac{R_{1} \\epsilon^{2} m_{\\gamma'}^{2} e^{\\frac{2 R_{2} m_{\\gamma'}}{\\sqrt{\\epsilon^{2} + 1}}}}{\\epsilon^{2} + 1} + \\frac{R_{1} \\epsilon^{2} m_{\\gamma'}^{2} e^{2 R_{1} m_{\\gamma'} + \\frac{2 R_{2} m_{\\gamma'}}{\\sqrt{\\epsilon^{2} + 1}}}}{\\epsilon^{2} + 1} + \\frac{R_{1} \\epsilon^{2} m_{\\gamma'}^{2} e^{2 R_{1} \\left(m_{\\gamma'} + \\frac{m_{\\gamma'}}{\\sqrt{\\epsilon^{2} + 1}}\\right)}}{\\sqrt{\\epsilon^{2} + 1}} - \\frac{R_{1} \\epsilon^{2} m_{\\gamma'}^{2} e^{\\frac{2 R_{1} m_{\\gamma'}}{\\sqrt{\\epsilon^{2} + 1}}}}{\\sqrt{\\epsilon^{2} + 1}} - \\frac{R_{1} \\epsilon^{2} m_{\\gamma'}^{2} e^{\\frac{2 R_{2} m_{\\gamma'}}{\\sqrt{\\epsilon^{2} + 1}}}}{\\sqrt{\\epsilon^{2} + 1}} + \\frac{R_{1} \\epsilon^{2} m_{\\gamma'}^{2} e^{2 R_{1} m_{\\gamma'} + \\frac{2 R_{2} m_{\\gamma'}}{\\sqrt{\\epsilon^{2} + 1}}}}{\\sqrt{\\epsilon^{2} + 1}} - R_{1} m_{\\gamma'}^{2} e^{2 R_{1} \\left(m_{\\gamma'} + \\frac{m_{\\gamma'}}{\\sqrt{\\epsilon^{2} + 1}}\\right)} - R_{1} m_{\\gamma'}^{2} e^{\\frac{2 R_{1} m_{\\gamma'}}{\\sqrt{\\epsilon^{2} + 1}}} + R_{1} m_{\\gamma'}^{2} e^{\\frac{2 R_{2} m_{\\gamma'}}{\\sqrt{\\epsilon^{2} + 1}}} + R_{1} m_{\\gamma'}^{2} e^{2 R_{1} m_{\\gamma'} + \\frac{2 R_{2} m_{\\gamma'}}{\\sqrt{\\epsilon^{2} + 1}}} - \\frac{R_{1} m_{\\gamma'}^{2} e^{2 R_{1} \\left(m_{\\gamma'} + \\frac{m_{\\gamma'}}{\\sqrt{\\epsilon^{2} + 1}}\\right)}}{\\epsilon^{2} + 1} + \\frac{R_{1} m_{\\gamma'}^{2} e^{\\frac{2 R_{1} m_{\\gamma'}}{\\sqrt{\\epsilon^{2} + 1}}}}{\\epsilon^{2} + 1} - \\frac{R_{1} m_{\\gamma'}^{2} e^{\\frac{2 R_{2} m_{\\gamma'}}{\\sqrt{\\epsilon^{2} + 1}}}}{\\epsilon^{2} + 1} + \\frac{R_{1} m_{\\gamma'}^{2} e^{2 R_{1} m_{\\gamma'} + \\frac{2 R_{2} m_{\\gamma'}}{\\sqrt{\\epsilon^{2} + 1}}}}{\\epsilon^{2} + 1} + \\frac{2 R_{1} m_{\\gamma'}^{2} e^{2 R_{1} \\left(m_{\\gamma'} + \\frac{m_{\\gamma'}}{\\sqrt{\\epsilon^{2} + 1}}\\right)}}{\\sqrt{\\epsilon^{2} + 1}} + \\frac{2 R_{1} m_{\\gamma'}^{2} e^{2 R_{1} m_{\\gamma'} + \\frac{2 R_{2} m_{\\gamma'}}{\\sqrt{\\epsilon^{2} + 1}}}}{\\sqrt{\\epsilon^{2} + 1}} - \\epsilon^{2} m_{\\gamma'} e^{2 R_{1} \\left(m_{\\gamma'} + \\frac{m_{\\gamma'}}{\\sqrt{\\epsilon^{2} + 1}}\\right)} + \\epsilon^{2} m_{\\gamma'} e^{\\frac{2 R_{1} m_{\\gamma'}}{\\sqrt{\\epsilon^{2} + 1}}} - \\epsilon^{2} m_{\\gamma'} e^{\\frac{2 R_{2} m_{\\gamma'}}{\\sqrt{\\epsilon^{2} + 1}}} + \\epsilon^{2} m_{\\gamma'} e^{2 R_{1} m_{\\gamma'} + \\frac{2 R_{2} m_{\\gamma'}}{\\sqrt{\\epsilon^{2} + 1}}} + \\frac{\\epsilon^{2} m_{\\gamma'} e^{2 R_{1} \\left(m_{\\gamma'} + \\frac{m_{\\gamma'}}{\\sqrt{\\epsilon^{2} + 1}}\\right)}}{\\sqrt{\\epsilon^{2} + 1}} - \\frac{\\epsilon^{2} m_{\\gamma'} e^{\\frac{2 R_{1} m_{\\gamma'}}{\\sqrt{\\epsilon^{2} + 1}}}}{\\sqrt{\\epsilon^{2} + 1}} - \\frac{\\epsilon^{2} m_{\\gamma'} e^{\\frac{2 R_{2} m_{\\gamma'}}{\\sqrt{\\epsilon^{2} + 1}}}}{\\sqrt{\\epsilon^{2} + 1}} + \\frac{\\epsilon^{2} m_{\\gamma'} e^{2 R_{1} m_{\\gamma'} + \\frac{2 R_{2} m_{\\gamma'}}{\\sqrt{\\epsilon^{2} + 1}}}}{\\sqrt{\\epsilon^{2} + 1}}\\right)}$"
      ],
      "text/plain": [
       "2*R_2*\\epsilon**2*\\sigma_2*m_{\\gamma'}*(R_1*m_{\\gamma'}*exp(2*R_1*m_{\\gamma'}) + R_1*m_{\\gamma'} - exp(2*R_1*m_{\\gamma'}) + 1)*exp(m_{\\gamma'}*(R_1 + R_2)/sqrt(\\epsilon**2 + 1))/(R_1*sqrt(\\epsilon**2 + 1)*(-R_1*\\epsilon**2*m_{\\gamma'}**2*exp(2*R_1*(m_{\\gamma'} + m_{\\gamma'}/sqrt(\\epsilon**2 + 1)))/(\\epsilon**2 + 1) + R_1*\\epsilon**2*m_{\\gamma'}**2*exp(2*R_1*m_{\\gamma'}/sqrt(\\epsilon**2 + 1))/(\\epsilon**2 + 1) - R_1*\\epsilon**2*m_{\\gamma'}**2*exp(2*R_2*m_{\\gamma'}/sqrt(\\epsilon**2 + 1))/(\\epsilon**2 + 1) + R_1*\\epsilon**2*m_{\\gamma'}**2*exp(2*R_1*m_{\\gamma'} + 2*R_2*m_{\\gamma'}/sqrt(\\epsilon**2 + 1))/(\\epsilon**2 + 1) + R_1*\\epsilon**2*m_{\\gamma'}**2*exp(2*R_1*(m_{\\gamma'} + m_{\\gamma'}/sqrt(\\epsilon**2 + 1)))/sqrt(\\epsilon**2 + 1) - R_1*\\epsilon**2*m_{\\gamma'}**2*exp(2*R_1*m_{\\gamma'}/sqrt(\\epsilon**2 + 1))/sqrt(\\epsilon**2 + 1) - R_1*\\epsilon**2*m_{\\gamma'}**2*exp(2*R_2*m_{\\gamma'}/sqrt(\\epsilon**2 + 1))/sqrt(\\epsilon**2 + 1) + R_1*\\epsilon**2*m_{\\gamma'}**2*exp(2*R_1*m_{\\gamma'} + 2*R_2*m_{\\gamma'}/sqrt(\\epsilon**2 + 1))/sqrt(\\epsilon**2 + 1) - R_1*m_{\\gamma'}**2*exp(2*R_1*(m_{\\gamma'} + m_{\\gamma'}/sqrt(\\epsilon**2 + 1))) - R_1*m_{\\gamma'}**2*exp(2*R_1*m_{\\gamma'}/sqrt(\\epsilon**2 + 1)) + R_1*m_{\\gamma'}**2*exp(2*R_2*m_{\\gamma'}/sqrt(\\epsilon**2 + 1)) + R_1*m_{\\gamma'}**2*exp(2*R_1*m_{\\gamma'} + 2*R_2*m_{\\gamma'}/sqrt(\\epsilon**2 + 1)) - R_1*m_{\\gamma'}**2*exp(2*R_1*(m_{\\gamma'} + m_{\\gamma'}/sqrt(\\epsilon**2 + 1)))/(\\epsilon**2 + 1) + R_1*m_{\\gamma'}**2*exp(2*R_1*m_{\\gamma'}/sqrt(\\epsilon**2 + 1))/(\\epsilon**2 + 1) - R_1*m_{\\gamma'}**2*exp(2*R_2*m_{\\gamma'}/sqrt(\\epsilon**2 + 1))/(\\epsilon**2 + 1) + R_1*m_{\\gamma'}**2*exp(2*R_1*m_{\\gamma'} + 2*R_2*m_{\\gamma'}/sqrt(\\epsilon**2 + 1))/(\\epsilon**2 + 1) + 2*R_1*m_{\\gamma'}**2*exp(2*R_1*(m_{\\gamma'} + m_{\\gamma'}/sqrt(\\epsilon**2 + 1)))/sqrt(\\epsilon**2 + 1) + 2*R_1*m_{\\gamma'}**2*exp(2*R_1*m_{\\gamma'} + 2*R_2*m_{\\gamma'}/sqrt(\\epsilon**2 + 1))/sqrt(\\epsilon**2 + 1) - \\epsilon**2*m_{\\gamma'}*exp(2*R_1*(m_{\\gamma'} + m_{\\gamma'}/sqrt(\\epsilon**2 + 1))) + \\epsilon**2*m_{\\gamma'}*exp(2*R_1*m_{\\gamma'}/sqrt(\\epsilon**2 + 1)) - \\epsilon**2*m_{\\gamma'}*exp(2*R_2*m_{\\gamma'}/sqrt(\\epsilon**2 + 1)) + \\epsilon**2*m_{\\gamma'}*exp(2*R_1*m_{\\gamma'} + 2*R_2*m_{\\gamma'}/sqrt(\\epsilon**2 + 1)) + \\epsilon**2*m_{\\gamma'}*exp(2*R_1*(m_{\\gamma'} + m_{\\gamma'}/sqrt(\\epsilon**2 + 1)))/sqrt(\\epsilon**2 + 1) - \\epsilon**2*m_{\\gamma'}*exp(2*R_1*m_{\\gamma'}/sqrt(\\epsilon**2 + 1))/sqrt(\\epsilon**2 + 1) - \\epsilon**2*m_{\\gamma'}*exp(2*R_2*m_{\\gamma'}/sqrt(\\epsilon**2 + 1))/sqrt(\\epsilon**2 + 1) + \\epsilon**2*m_{\\gamma'}*exp(2*R_1*m_{\\gamma'} + 2*R_2*m_{\\gamma'}/sqrt(\\epsilon**2 + 1))/sqrt(\\epsilon**2 + 1)))"
      ]
     },
     "execution_count": 75,
     "metadata": {},
     "output_type": "execute_result"
    }
   ],
   "source": [
    "s1_express"
   ]
  },
  {
   "cell_type": "code",
   "execution_count": 76,
   "metadata": {},
   "outputs": [],
   "source": [
    "s1_func = lambdify((epsilon,m,R1,R2,s2), s1_express)"
   ]
  },
  {
   "cell_type": "markdown",
   "metadata": {},
   "source": [
    "check that $\\sigma_1 << \\sigma_2$ when $\\sigma_2=1$"
   ]
  },
  {
   "cell_type": "code",
   "execution_count": 77,
   "metadata": {},
   "outputs": [
    {
     "data": {
      "text/plain": [
       "5.4104220853888206e-05"
      ]
     },
     "execution_count": 77,
     "metadata": {},
     "output_type": "execute_result"
    }
   ],
   "source": [
    "s1_func(0.1,0.1,1,2,1)"
   ]
  },
  {
   "cell_type": "markdown",
   "metadata": {},
   "source": [
    "## Converting V' to function"
   ]
  },
  {
   "cell_type": "markdown",
   "metadata": {},
   "source": [
    "we now start lambdifying various pieces of V'"
   ]
  },
  {
   "cell_type": "code",
   "execution_count": 78,
   "metadata": {},
   "outputs": [
    {
     "data": {
      "text/latex": [
       "$\\displaystyle \\frac{2 b_{1} \\sinh{\\left(m_{\\gamma'} r \\right)}}{m_{\\gamma'} r}$"
      ],
      "text/plain": [
       "2*b_1*sinh(m_{\\gamma'}*r)/(m_{\\gamma'}*r)"
      ]
     },
     "execution_count": 78,
     "metadata": {},
     "output_type": "execute_result"
    }
   ],
   "source": [
    "Vprimein"
   ]
  },
  {
   "cell_type": "code",
   "execution_count": 79,
   "metadata": {},
   "outputs": [],
   "source": [
    "Vprimein = Vprimein.subs(b1,b1_express)\n",
    "Vprimein_func = lambdify((r,epsilon,m,R1,R2,s2),Vprimein)"
   ]
  },
  {
   "cell_type": "code",
   "execution_count": 80,
   "metadata": {},
   "outputs": [
    {
     "data": {
      "text/plain": [
       "0.16384020557416348"
      ]
     },
     "execution_count": 80,
     "metadata": {},
     "output_type": "execute_result"
    }
   ],
   "source": [
    "Vprimein_func(0.5,0.1,0.1,1,2,1)"
   ]
  },
  {
   "cell_type": "code",
   "execution_count": 81,
   "metadata": {},
   "outputs": [
    {
     "data": {
      "text/latex": [
       "$\\displaystyle \\frac{b_{4} e^{- \\pmb{m} r}}{r} + \\frac{b_{3} e^{\\pmb{m} r}}{\\pmb{m} r}$"
      ],
      "text/plain": [
       "b_4*exp(-\\pmb{m}*r)/r + b_3*exp(\\pmb{m}*r)/(\\pmb{m}*r)"
      ]
     },
     "execution_count": 81,
     "metadata": {},
     "output_type": "execute_result"
    }
   ],
   "source": [
    "Vprime"
   ]
  },
  {
   "cell_type": "code",
   "execution_count": 82,
   "metadata": {},
   "outputs": [],
   "source": [
    "Vprime=Vprime.subs([(b3,b3_express),(b4,b4_express),(mb,mb_express)])\n",
    "Vprime_func = lambdify((r,epsilon,m,R1,R2,s2),Vprime)"
   ]
  },
  {
   "cell_type": "code",
   "execution_count": 83,
   "metadata": {},
   "outputs": [
    {
     "data": {
      "text/plain": [
       "0.16384223520059682"
      ]
     },
     "execution_count": 83,
     "metadata": {},
     "output_type": "execute_result"
    }
   ],
   "source": [
    "Vprime_func(0.5,0.1,0.1,1,2,1)"
   ]
  },
  {
   "cell_type": "code",
   "execution_count": 84,
   "metadata": {},
   "outputs": [
    {
     "data": {
      "text/latex": [
       "$\\displaystyle \\frac{b_{2} e^{- m_{\\gamma'} r}}{m_{\\gamma'} r}$"
      ],
      "text/plain": [
       "b_2*exp(-m_{\\gamma'}*r)/(m_{\\gamma'}*r)"
      ]
     },
     "execution_count": 84,
     "metadata": {},
     "output_type": "execute_result"
    }
   ],
   "source": [
    "Vprimeout"
   ]
  },
  {
   "cell_type": "code",
   "execution_count": 85,
   "metadata": {},
   "outputs": [],
   "source": [
    "Vprimeout=Vprimeout.subs([(b2,b2_express),(mb,mb_express)])\n",
    "Vprimeout_func = lambdify((r,epsilon,m,R1,R2,s2),Vprimeout)"
   ]
  },
  {
   "cell_type": "code",
   "execution_count": 86,
   "metadata": {},
   "outputs": [
    {
     "data": {
      "text/plain": [
       "0.16485782118968795"
      ]
     },
     "execution_count": 86,
     "metadata": {},
     "output_type": "execute_result"
    }
   ],
   "source": [
    "Vprimeout_func(2,0.1,0.1,1,2,1)"
   ]
  },
  {
   "cell_type": "code",
   "execution_count": 87,
   "metadata": {},
   "outputs": [
    {
     "data": {
      "text/plain": [
       "0.16485782118968795"
      ]
     },
     "execution_count": 87,
     "metadata": {},
     "output_type": "execute_result"
    }
   ],
   "source": [
    "Vprime_func(2,0.1,0.1,1,2,1)"
   ]
  },
  {
   "cell_type": "code",
   "execution_count": 88,
   "metadata": {},
   "outputs": [
    {
     "data": {
      "text/plain": [
       "0.0994463501788741"
      ]
     },
     "execution_count": 88,
     "metadata": {},
     "output_type": "execute_result"
    }
   ],
   "source": [
    "Vprimeout_func(3,0.1,0.1,1,2,1)"
   ]
  },
  {
   "cell_type": "code",
   "execution_count": 89,
   "metadata": {},
   "outputs": [],
   "source": [
    "def Vprime_combine_func(r,epsilon,m,R1,R2,s2):\n",
    "    if r<R1:\n",
    "        return Vprimein_func(r,epsilon,m,R1,R2,s2)\n",
    "    elif R1<=r<=R2:\n",
    "        return Vprime_func(r,epsilon,m,R1,R2,s2)\n",
    "    else:\n",
    "        return Vprimeout_func(r,epsilon,m,R1,R2,s2)"
   ]
  },
  {
   "cell_type": "markdown",
   "metadata": {},
   "source": [
    "I wrote the comparison of r and R1 to be pointwise. Need to vectorize this function later."
   ]
  },
  {
   "cell_type": "markdown",
   "metadata": {},
   "source": [
    "check that the combined function reproduces the various pieces."
   ]
  },
  {
   "cell_type": "code",
   "execution_count": 90,
   "metadata": {},
   "outputs": [
    {
     "data": {
      "text/plain": [
       "0.0"
      ]
     },
     "execution_count": 90,
     "metadata": {},
     "output_type": "execute_result"
    }
   ],
   "source": [
    "Vprime_combine_func(3,0.1,0.1,1,2,1) - Vprimeout_func(3,0.1,0.1,1,2,1)"
   ]
  },
  {
   "cell_type": "code",
   "execution_count": 91,
   "metadata": {},
   "outputs": [
    {
     "data": {
      "text/plain": [
       "0.0"
      ]
     },
     "execution_count": 91,
     "metadata": {},
     "output_type": "execute_result"
    }
   ],
   "source": [
    "Vprime_combine_func(0.5,0.1,0.1,1,2,1) - Vprimein_func(0.5,0.1,0.1,1,2,1)"
   ]
  },
  {
   "cell_type": "code",
   "execution_count": 92,
   "metadata": {},
   "outputs": [
    {
     "data": {
      "text/plain": [
       "0.0"
      ]
     },
     "execution_count": 92,
     "metadata": {},
     "output_type": "execute_result"
    }
   ],
   "source": [
    "Vprime_combine_func(1.5,0.1,0.1,1,2,1) - Vprime_func(1.5,0.1,0.1,1,2,1)"
   ]
  },
  {
   "cell_type": "markdown",
   "metadata": {},
   "source": [
    "## Converting V to function"
   ]
  },
  {
   "cell_type": "code",
   "execution_count": 93,
   "metadata": {},
   "outputs": [
    {
     "data": {
      "text/latex": [
       "$\\displaystyle c_{4} - \\frac{\\epsilon b_{4} e^{- R_{1} \\pmb{m}}}{R_{1}} - \\frac{\\epsilon b_{3} e^{R_{1} \\pmb{m}}}{R_{1} \\pmb{m}}$"
      ],
      "text/plain": [
       "c_4 - \\epsilon*b_4*exp(-R_1*\\pmb{m})/R_1 - \\epsilon*b_3*exp(R_1*\\pmb{m})/(R_1*\\pmb{m})"
      ]
     },
     "execution_count": 93,
     "metadata": {},
     "output_type": "execute_result"
    }
   ],
   "source": [
    "Vin"
   ]
  },
  {
   "cell_type": "code",
   "execution_count": 94,
   "metadata": {},
   "outputs": [],
   "source": [
    "Vin=Vin.subs([(c4,c4_express),(b3,b3_express),(b4,b4_express),(mb,mb_express)])\n",
    "Vin_func = lambdify((r,epsilon,m,R1,R2,s2),Vin)"
   ]
  },
  {
   "cell_type": "code",
   "execution_count": 95,
   "metadata": {},
   "outputs": [
    {
     "data": {
      "text/plain": [
       "2.000298338726065"
      ]
     },
     "execution_count": 95,
     "metadata": {},
     "output_type": "execute_result"
    }
   ],
   "source": [
    "Vin_func(0.5,0.1,0.1,1,2,1)"
   ]
  },
  {
   "cell_type": "code",
   "execution_count": 96,
   "metadata": {},
   "outputs": [
    {
     "data": {
      "text/latex": [
       "$\\displaystyle - \\frac{\\epsilon b_{4} e^{- \\pmb{m} r}}{r} - \\frac{\\epsilon b_{3} e^{\\pmb{m} r}}{\\pmb{m} r} + c_{4}$"
      ],
      "text/plain": [
       "-\\epsilon*b_4*exp(-\\pmb{m}*r)/r - \\epsilon*b_3*exp(\\pmb{m}*r)/(\\pmb{m}*r) + c_4"
      ]
     },
     "execution_count": 96,
     "metadata": {},
     "output_type": "execute_result"
    }
   ],
   "source": [
    "V"
   ]
  },
  {
   "cell_type": "code",
   "execution_count": 97,
   "metadata": {},
   "outputs": [],
   "source": [
    "V=V.subs([(c4,c4_express),(b3,b3_express),(b4,b4_express),(mb,mb_express)])\n",
    "V_func = lambdify((r,epsilon,m,R1,R2,s2),V)"
   ]
  },
  {
   "cell_type": "code",
   "execution_count": 98,
   "metadata": {},
   "outputs": [
    {
     "data": {
      "text/plain": [
       "2.0002645025584527"
      ]
     },
     "execution_count": 98,
     "metadata": {},
     "output_type": "execute_result"
    }
   ],
   "source": [
    "V_func(1.5,0.1,0.1,1,2,1)"
   ]
  },
  {
   "cell_type": "code",
   "execution_count": 99,
   "metadata": {},
   "outputs": [
    {
     "data": {
      "text/latex": [
       "$\\displaystyle \\frac{R_{2} c_{4} - \\epsilon b_{4} e^{- R_{2} \\pmb{m}} - \\frac{\\epsilon b_{3} e^{R_{2} \\pmb{m}}}{\\pmb{m}}}{r}$"
      ],
      "text/plain": [
       "(R_2*c_4 - \\epsilon*b_4*exp(-R_2*\\pmb{m}) - \\epsilon*b_3*exp(R_2*\\pmb{m})/\\pmb{m})/r"
      ]
     },
     "execution_count": 99,
     "metadata": {},
     "output_type": "execute_result"
    }
   ],
   "source": [
    "Vout"
   ]
  },
  {
   "cell_type": "code",
   "execution_count": 100,
   "metadata": {},
   "outputs": [],
   "source": [
    "Vout=Vout.subs([(c4,c4_express),(b3,b3_express),(b4,b4_express),(mb,mb_express)])\n",
    "Vout_func = lambdify((r,epsilon,m,R1,R2,s2),Vout)"
   ]
  },
  {
   "cell_type": "code",
   "execution_count": 101,
   "metadata": {},
   "outputs": [
    {
     "data": {
      "text/plain": [
       "2.0002170614572368"
      ]
     },
     "execution_count": 101,
     "metadata": {},
     "output_type": "execute_result"
    }
   ],
   "source": [
    "Vout_func(2,0.1,0.1,1,2,1)"
   ]
  },
  {
   "cell_type": "code",
   "execution_count": 102,
   "metadata": {},
   "outputs": [
    {
     "data": {
      "text/plain": [
       "2.0002170614572368"
      ]
     },
     "execution_count": 102,
     "metadata": {},
     "output_type": "execute_result"
    }
   ],
   "source": [
    "V_func(2,0.1,0.1,1,2,1)"
   ]
  },
  {
   "cell_type": "code",
   "execution_count": 103,
   "metadata": {},
   "outputs": [
    {
     "data": {
      "text/plain": [
       "1.3334780409714913"
      ]
     },
     "execution_count": 103,
     "metadata": {},
     "output_type": "execute_result"
    }
   ],
   "source": [
    "Vout_func(3,0.1,0.1,1,2,1)"
   ]
  },
  {
   "cell_type": "code",
   "execution_count": 104,
   "metadata": {},
   "outputs": [],
   "source": [
    "def V_combine_func(r,epsilon,m,R1,R2,s2):\n",
    "    if r<R1:\n",
    "        return Vin_func(r,epsilon,m,R1,R2,s2)\n",
    "    elif R1<=r<=R2:\n",
    "        return V_func(r,epsilon,m,R1,R2,s2)\n",
    "    else:\n",
    "        return Vout_func(r,epsilon,m,R1,R2,s2)"
   ]
  },
  {
   "cell_type": "markdown",
   "metadata": {},
   "source": [
    "# 4. Create Thick Shell Class"
   ]
  },
  {
   "cell_type": "code",
   "execution_count": 105,
   "metadata": {},
   "outputs": [],
   "source": [
    "import numpy as np"
   ]
  },
  {
   "cell_type": "code",
   "execution_count": 106,
   "metadata": {},
   "outputs": [],
   "source": [
    "class Dark_Photon_Thick_Shell():\n",
    "    def __init__(self,epsilon,m,R1,R2,s2):\n",
    "        #free parameters\n",
    "        self.epsilon = epsilon\n",
    "        self.m = m\n",
    "        self.R1 = R1\n",
    "        self.R2 = R2\n",
    "        self.s2 = s2\n",
    "        #derived parameters\n",
    "        self.s1 = s1_func(epsilon,m,R1,R2,s2)\n",
    "        self.m_reduced = m/np.sqrt(1+epsilon**2)\n",
    "        self.mb = self.m_reduced #alias\n",
    "        self.b1 = b1_func(epsilon,m,R1,R2,s2)\n",
    "        self.b2 = b2_func(epsilon,m,R1,R2,s2)\n",
    "        self.b3 = b3_func(epsilon,m,R1,R2,s2)\n",
    "        self.b4 = b4_func(epsilon,m,R1,R2,s2)\n",
    "        self.Q = self.get_charge()\n",
    "        #vectorized functions\n",
    "        self.V = np.vectorize(self.V_unvectorize)\n",
    "        self.Vprime = np.vectorize(self.Vprime_unvectorize)\n",
    "        self.rho_bulk = np.vectorize(self.rho_bulk_unvectorize)\n",
    "        self.delta = np.vectorize(self.delta_unvectorize,excluded=['r0','dr'])\n",
    "        \n",
    "    def get_charge(self):\n",
    "        b3_coeff = np.exp(self.mb*self.R2) * (self.mb*self.R2 - 1) - np.exp(self.mb*self.R1) * (self.mb*self.R1 - 1)\n",
    "        b4_coeff = np.exp(-self.mb*self.R2) * (self.mb*self.R2 + 1) - np.exp(-self.mb*self.R1) * (self.mb*self.R1 + 1)\n",
    "        bracket = (self.b3 / (self.mb**3)) * b3_coeff - (self.b4 / (self.mb**2)) * b4_coeff\n",
    "        Q_nocoeff = self.epsilon * (self.mb**2) * bracket + self.s1 * (R1**2) + self.s2 * (R2**2)\n",
    "        return 4*np.pi*Q_nocoeff\n",
    "    \n",
    "    def V_unvectorize(self,r):\n",
    "        return V_combine_func(r,self.epsilon,self.m,self.R1,self.R2,self.s2)\n",
    "        \n",
    "    def Vprime_unvectorize(self,r):\n",
    "        return Vprime_combine_func(r,self.epsilon,self.m,self.R1,self.R2,self.s2)\n",
    "    \n",
    "    def rho_bulk_unvectorize(self,r):\n",
    "        if self.R1 < r < self.R2:\n",
    "            return self.epsilon * (self.mb**2) * self.Vprime_unvectorize(r)\n",
    "        else:\n",
    "            return 0\n",
    "        \n",
    "    def delta_unvectorize(self,r,r0,dr):\n",
    "        if  r0 - dr/2 <= r <= r0 + dr/2:\n",
    "            return 1/dr\n",
    "        else:\n",
    "            return 0\n",
    "    \n",
    "    def rho_EM(self,r,dr):\n",
    "        return self.rho_bulk(r) + self.s1*self.delta(r,self.R1,dr) + self.s2*self.delta(r,self.R2,dr)"
   ]
  },
  {
   "cell_type": "markdown",
   "metadata": {},
   "source": [
    "# 5. Test Numpy Thick Shell Implementation"
   ]
  },
  {
   "cell_type": "code",
   "execution_count": 107,
   "metadata": {},
   "outputs": [],
   "source": [
    "epsilon=10\n",
    "m=20\n",
    "R1=1\n",
    "R2=2\n",
    "s2=10\n",
    "DPTS = Dark_Photon_Thick_Shell(epsilon,m,R1,R2,s2)"
   ]
  },
  {
   "cell_type": "code",
   "execution_count": 108,
   "metadata": {},
   "outputs": [],
   "source": [
    "r_linspace=np.linspace(0,3,10000)\n",
    "dr = r_linspace[1] - r_linspace[0]"
   ]
  },
  {
   "cell_type": "code",
   "execution_count": 109,
   "metadata": {},
   "outputs": [
    {
     "name": "stdout",
     "output_type": "stream",
     "text": [
      "Populating the interactive namespace from numpy and matplotlib\n"
     ]
    },
    {
     "name": "stderr",
     "output_type": "stream",
     "text": [
      "C:\\Users\\samue\\anaconda3\\lib\\site-packages\\IPython\\core\\magics\\pylab.py:160: UserWarning: pylab import has clobbered these variables: ['sinh', 'solve', 'exp', 'diff', 'sqrt']\n",
      "`%matplotlib` prevents importing * from pylab and numpy\n",
      "  \"\\n`%matplotlib` prevents importing * from pylab and numpy\"\n"
     ]
    }
   ],
   "source": [
    "%pylab inline"
   ]
  },
  {
   "cell_type": "code",
   "execution_count": 110,
   "metadata": {},
   "outputs": [
    {
     "data": {
      "text/plain": [
       "[<matplotlib.lines.Line2D at 0x19e6c086fc8>]"
      ]
     },
     "execution_count": 110,
     "metadata": {},
     "output_type": "execute_result"
    },
    {
     "data": {
      "image/png": "[encoded data removed]",
      "text/plain": [
       "<Figure size 432x288 with 1 Axes>"
      ]
     },
     "metadata": {
      "needs_background": "light"
     },
     "output_type": "display_data"
    }
   ],
   "source": [
    "plt.plot(r_linspace,DPTS.V(r_linspace))"
   ]
  },
  {
   "cell_type": "code",
   "execution_count": 111,
   "metadata": {},
   "outputs": [
    {
     "name": "stderr",
     "output_type": "stream",
     "text": [
      "<string>:2: RuntimeWarning: invalid value encountered in double_scalars\n"
     ]
    },
    {
     "data": {
      "text/plain": [
       "[<matplotlib.lines.Line2D at 0x19e6c832308>]"
      ]
     },
     "execution_count": 111,
     "metadata": {},
     "output_type": "execute_result"
    },
    {
     "data": {
      "image/png": "[encoded data removed]",
      "text/plain": [
       "<Figure size 432x288 with 1 Axes>"
      ]
     },
     "metadata": {
      "needs_background": "light"
     },
     "output_type": "display_data"
    }
   ],
   "source": [
    "plt.plot(r_linspace,DPTS.Vprime(r_linspace))"
   ]
  },
  {
   "cell_type": "code",
   "execution_count": 112,
   "metadata": {},
   "outputs": [
    {
     "data": {
      "text/plain": [
       "2.9174447237881607"
      ]
     },
     "execution_count": 112,
     "metadata": {},
     "output_type": "execute_result"
    }
   ],
   "source": [
    "DPTS.s1"
   ]
  },
  {
   "cell_type": "code",
   "execution_count": 113,
   "metadata": {},
   "outputs": [
    {
     "data": {
      "text/plain": [
       "3868.8755785413205"
      ]
     },
     "execution_count": 113,
     "metadata": {},
     "output_type": "execute_result"
    }
   ],
   "source": [
    "DPTS.Q"
   ]
  },
  {
   "cell_type": "markdown",
   "metadata": {},
   "source": [
    "## Numerically Test Conductor Equation"
   ]
  },
  {
   "cell_type": "markdown",
   "metadata": {},
   "source": [
    "We want to test numerically that in the bulk, the conductor equation is satisfied. Here, we want to see that the sum of the derivative is 0 between R=1 and R=2. i.e. $\\nabla V + \\epsilon \\nabla V' = 0$"
   ]
  },
  {
   "cell_type": "code",
   "execution_count": 114,
   "metadata": {},
   "outputs": [
    {
     "name": "stderr",
     "output_type": "stream",
     "text": [
      "<string>:2: RuntimeWarning: invalid value encountered in double_scalars\n"
     ]
    }
   ],
   "source": [
    "gradV = np.gradient(DPTS.V(r_linspace),dr)\n",
    "gradVprime = np.gradient(DPTS.Vprime(r_linspace),dr)"
   ]
  },
  {
   "cell_type": "code",
   "execution_count": 115,
   "metadata": {},
   "outputs": [
    {
     "data": {
      "text/plain": [
       "[<matplotlib.lines.Line2D at 0x19e6c7fcc88>]"
      ]
     },
     "execution_count": 115,
     "metadata": {},
     "output_type": "execute_result"
    },
    {
     "data": {
      "image/png": "[encoded data removed]",
      "text/plain": [
       "<Figure size 432x288 with 1 Axes>"
      ]
     },
     "metadata": {
      "needs_background": "light"
     },
     "output_type": "display_data"
    }
   ],
   "source": [
    "plt.plot(r_linspace,gradV + epsilon*gradVprime)"
   ]
  },
  {
   "cell_type": "markdown",
   "metadata": {},
   "source": [
    "## Numerically Test Equation of Motion"
   ]
  },
  {
   "cell_type": "markdown",
   "metadata": {},
   "source": [
    "We want to check $\\nabla^2 V = - \\rho_{EM}$."
   ]
  },
  {
   "cell_type": "code",
   "execution_count": 116,
   "metadata": {},
   "outputs": [
    {
     "name": "stderr",
     "output_type": "stream",
     "text": [
      "C:\\Users\\samue\\anaconda3\\lib\\site-packages\\ipykernel_launcher.py:1: RuntimeWarning: divide by zero encountered in true_divide\n",
      "  \"\"\"Entry point for launching an IPython kernel.\n",
      "C:\\Users\\samue\\anaconda3\\lib\\site-packages\\ipykernel_launcher.py:1: RuntimeWarning: invalid value encountered in multiply\n",
      "  \"\"\"Entry point for launching an IPython kernel.\n"
     ]
    }
   ],
   "source": [
    "lapV = np.gradient(gradV,dr) + (2/r_linspace)*gradV\n",
    "lapV[0] = 0"
   ]
  },
  {
   "cell_type": "code",
   "execution_count": 117,
   "metadata": {},
   "outputs": [
    {
     "data": {
      "text/plain": [
       "[<matplotlib.lines.Line2D at 0x19e6c86b8c8>]"
      ]
     },
     "execution_count": 117,
     "metadata": {},
     "output_type": "execute_result"
    },
    {
     "data": {
      "image/png": "[encoded data removed]",
      "text/plain": [
       "<Figure size 432x288 with 1 Axes>"
      ]
     },
     "metadata": {
      "needs_background": "light"
     },
     "output_type": "display_data"
    }
   ],
   "source": [
    "plt.plot(r_linspace,lapV+DPTS.rho_EM(r_linspace,dr))"
   ]
  },
  {
   "cell_type": "markdown",
   "metadata": {},
   "source": [
    "We want to check $(\\nabla^2 - m_{\\gamma'}^2) V' = - \\epsilon \\rho_{EM}$."
   ]
  },
  {
   "cell_type": "code",
   "execution_count": 118,
   "metadata": {},
   "outputs": [
    {
     "name": "stderr",
     "output_type": "stream",
     "text": [
      "C:\\Users\\samue\\anaconda3\\lib\\site-packages\\ipykernel_launcher.py:1: RuntimeWarning: divide by zero encountered in true_divide\n",
      "  \"\"\"Entry point for launching an IPython kernel.\n"
     ]
    }
   ],
   "source": [
    "lapVprime = np.gradient(gradVprime,dr) + (2/r_linspace)*gradVprime"
   ]
  },
  {
   "cell_type": "code",
   "execution_count": 119,
   "metadata": {},
   "outputs": [
    {
     "name": "stderr",
     "output_type": "stream",
     "text": [
      "<string>:2: RuntimeWarning: invalid value encountered in double_scalars\n"
     ]
    },
    {
     "data": {
      "text/plain": [
       "[<matplotlib.lines.Line2D at 0x19e6c972d08>]"
      ]
     },
     "execution_count": 119,
     "metadata": {},
     "output_type": "execute_result"
    },
    {
     "data": {
      "image/png": "[encoded data removed]",
      "text/plain": [
       "<Figure size 432x288 with 1 Axes>"
      ]
     },
     "metadata": {
      "needs_background": "light"
     },
     "output_type": "display_data"
    }
   ],
   "source": [
    "plt.plot(r_linspace,lapVprime - m**2 * DPTS.Vprime(r_linspace) + epsilon * DPTS.rho_EM(r_linspace,dr))"
   ]
  },
  {
   "cell_type": "code",
   "execution_count": 120,
   "metadata": {},
   "outputs": [
    {
     "data": {
      "text/plain": [
       "Text(0.5, 1.0, '$\\\\rho_{EM}$')"
      ]
     },
     "execution_count": 120,
     "metadata": {},
     "output_type": "execute_result"
    },
    {
     "data": {
      "image/png": "[encoded data removed]",
      "text/plain": [
       "<Figure size 432x288 with 1 Axes>"
      ]
     },
     "metadata": {
      "needs_background": "light"
     },
     "output_type": "display_data"
    }
   ],
   "source": [
    "plt.plot(r_linspace,DPTS.rho_EM(r_linspace,dr))\n",
    "plt.title(r\"$\\rho_{EM}$\")"
   ]
  },
  {
   "cell_type": "markdown",
   "metadata": {},
   "source": [
    "Everything works so far except for the surface charge. A direct test would be the cancellation, but unfortuantely this is not happening due to numerics. Let's try an indirect test by checking \n",
    "$$ \\Delta \\frac{dV}{dr} = -\\sigma $$\n",
    "$$ \\Delta \\frac{dV'}{dr} = -\\epsilon \\sigma $$"
   ]
  },
  {
   "cell_type": "code",
   "execution_count": 141,
   "metadata": {},
   "outputs": [
    {
     "name": "stdout",
     "output_type": "stream",
     "text": [
      "29.298393958603537\n",
      "14.837355422280556\n",
      "0.2934116268938334\n",
      "0.29507807957887255\n"
     ]
    }
   ],
   "source": [
    "for i in range(3332,3336):\n",
    "    print(gradVprime[i])"
   ]
  },
  {
   "cell_type": "code",
   "execution_count": 142,
   "metadata": {},
   "outputs": [
    {
     "data": {
      "text/plain": [
       "-29.0046"
      ]
     },
     "execution_count": 142,
     "metadata": {},
     "output_type": "execute_result"
    }
   ],
   "source": [
    "0.2934-29.298"
   ]
  },
  {
   "cell_type": "code",
   "execution_count": 144,
   "metadata": {},
   "outputs": [
    {
     "data": {
      "text/plain": [
       "-29.17444723788161"
      ]
     },
     "execution_count": 144,
     "metadata": {},
     "output_type": "execute_result"
    }
   ],
   "source": [
    "-DPTS.epsilon*DPTS.s1"
   ]
  },
  {
   "cell_type": "markdown",
   "metadata": {},
   "source": [
    "$\\Delta \\frac{dV'}{dr}$ and $-\\epsilon \\sigma_1$ match."
   ]
  },
  {
   "cell_type": "code",
   "execution_count": 143,
   "metadata": {},
   "outputs": [
    {
     "name": "stdout",
     "output_type": "stream",
     "text": [
      "6.690089331584573\n",
      "6.693485674099283\n",
      "-43.16070714888306\n",
      "-92.73125378322985\n"
     ]
    }
   ],
   "source": [
    "for i in range(6664,6668):\n",
    "    print(gradVprime[i])"
   ]
  },
  {
   "cell_type": "code",
   "execution_count": 146,
   "metadata": {},
   "outputs": [
    {
     "data": {
      "text/plain": [
       "-99.42099999999999"
      ]
     },
     "execution_count": 146,
     "metadata": {},
     "output_type": "execute_result"
    }
   ],
   "source": [
    "-92.731-6.69"
   ]
  },
  {
   "cell_type": "code",
   "execution_count": 148,
   "metadata": {},
   "outputs": [
    {
     "data": {
      "text/plain": [
       "-100"
      ]
     },
     "execution_count": 148,
     "metadata": {},
     "output_type": "execute_result"
    }
   ],
   "source": [
    "-DPTS.epsilon*DPTS.s2"
   ]
  },
  {
   "cell_type": "code",
   "execution_count": 134,
   "metadata": {},
   "outputs": [
    {
     "name": "stdout",
     "output_type": "stream",
     "text": [
      "0.0\n",
      "0.0\n",
      "-1.4628909506660503\n",
      "-2.9341162689516547\n",
      "-2.9507807957828045\n"
     ]
    }
   ],
   "source": [
    "for i in range(3331,3336):\n",
    "    print(gradV[i])"
   ]
  },
  {
   "cell_type": "code",
   "execution_count": 150,
   "metadata": {},
   "outputs": [
    {
     "data": {
      "text/plain": [
       "-2.934"
      ]
     },
     "execution_count": 150,
     "metadata": {},
     "output_type": "execute_result"
    }
   ],
   "source": [
    "-2.934-0"
   ]
  },
  {
   "cell_type": "code",
   "execution_count": 147,
   "metadata": {},
   "outputs": [
    {
     "data": {
      "text/plain": [
       "-2.9174447237881607"
      ]
     },
     "execution_count": 147,
     "metadata": {},
     "output_type": "execute_result"
    }
   ],
   "source": [
    "-DPTS.s1"
   ]
  },
  {
   "cell_type": "code",
   "execution_count": 136,
   "metadata": {},
   "outputs": [
    {
     "name": "stdout",
     "output_type": "stream",
     "text": [
      "-66.90089331584574\n",
      "-66.93485674100468\n",
      "-71.95456597084004\n",
      "-76.94574803351773\n"
     ]
    }
   ],
   "source": [
    "for i in range(6664,6668):\n",
    "    print(gradV[i])"
   ]
  },
  {
   "cell_type": "code",
   "execution_count": 139,
   "metadata": {},
   "outputs": [
    {
     "data": {
      "text/plain": [
       "-10.010843300000005"
      ]
     },
     "execution_count": 139,
     "metadata": {},
     "output_type": "execute_result"
    }
   ],
   "source": [
    "-76.9457-(-66.9348567)"
   ]
  },
  {
   "cell_type": "code",
   "execution_count": 149,
   "metadata": {},
   "outputs": [
    {
     "data": {
      "text/plain": [
       "-10"
      ]
     },
     "execution_count": 149,
     "metadata": {},
     "output_type": "execute_result"
    }
   ],
   "source": [
    "-DPTS.s2"
   ]
  },
  {
   "cell_type": "markdown",
   "metadata": {},
   "source": [
    "So we conclude that the discontinuity actually do match the theoretical surface charge, but somehow the numerical derivative have the jump spreaded through 2 points, so it doesn't cancel the delta function pointwise in the graph."
   ]
  },
  {
   "cell_type": "markdown",
   "metadata": {},
   "source": [
    "## Test Formula for Charge"
   ]
  },
  {
   "cell_type": "code",
   "execution_count": 152,
   "metadata": {},
   "outputs": [],
   "source": [
    "from scipy.integrate import trapz"
   ]
  },
  {
   "cell_type": "code",
   "execution_count": 167,
   "metadata": {},
   "outputs": [
    {
     "data": {
      "text/plain": [
       "3852.58862409793"
      ]
     },
     "execution_count": 167,
     "metadata": {},
     "output_type": "execute_result"
    }
   ],
   "source": [
    "trapz(y=(r_linspace**2)*DPTS.rho_EM(r_linspace,dr),dx=dr)*4*np.pi"
   ]
  },
  {
   "cell_type": "code",
   "execution_count": 164,
   "metadata": {},
   "outputs": [
    {
     "data": {
      "text/plain": [
       "3868.8755785413205"
      ]
     },
     "execution_count": 164,
     "metadata": {},
     "output_type": "execute_result"
    }
   ],
   "source": [
    "DPTS.Q"
   ]
  },
  {
   "cell_type": "code",
   "execution_count": null,
   "metadata": {},
   "outputs": [],
   "source": []
  }
 ],
 "metadata": {
  "kernelspec": {
   "display_name": "Python 3",
   "language": "python",
   "name": "python3"
  },
  "language_info": {
   "codemirror_mode": {
    "name": "ipython",
    "version": 3
   },
   "file_extension": ".py",
   "mimetype": "text/x-python",
   "name": "python",
   "nbconvert_exporter": "python",
   "pygments_lexer": "ipython3",
   "version": "3.7.6"
  }
 },
 "nbformat": 4,
 "nbformat_minor": 4
}
