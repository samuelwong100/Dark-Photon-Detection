{
 "cells": [
  {
   "cell_type": "code",
   "execution_count": 1,
   "metadata": {},
   "outputs": [],
   "source": [
    "from Thick_Shell_Class import Dark_Photon_Thick_Shell\n",
    "from Thick_Shell_Class import s2app_func"
   ]
  },
  {
   "cell_type": "code",
   "execution_count": 2,
   "metadata": {},
   "outputs": [
    {
     "name": "stdout",
     "output_type": "stream",
     "text": [
      "Populating the interactive namespace from numpy and matplotlib\n"
     ]
    }
   ],
   "source": [
    "import numpy as np\n",
    "%pylab inline"
   ]
  },
  {
   "cell_type": "code",
   "execution_count": 3,
   "metadata": {},
   "outputs": [],
   "source": [
    "ft_to_ev_inverse = 1544855.50049\n",
    "v_sense = 10**(-8)\n",
    "Vapp = 30000\n",
    "R0 = 2 * ft_to_ev_inverse\n",
    "R1 = 2.5 * ft_to_ev_inverse\n",
    "thickness_in_cm = 1 #I am guessing the thickness\n",
    "R2 = (2.5 + thickness_in_cm * 0.0328084) * ft_to_ev_inverse "
   ]
  },
  {
   "cell_type": "code",
   "execution_count": 4,
   "metadata": {},
   "outputs": [],
   "source": [
    "def Delta_V(epsilon,m):\n",
    "    s2app = s2app_func(epsilon,m,R1,R2,Vapp)\n",
    "    DPTS = Dark_Photon_Thick_Shell(epsilon,m,R1,R2,s2app,fast=True)\n",
    "    return Vapp - DPTS.Vpp(R0)"
   ]
  },
  {
   "cell_type": "code",
   "execution_count": 5,
   "metadata": {},
   "outputs": [],
   "source": [
    "number_of_epsilon = 300\n",
    "number_of_m = 300"
   ]
  },
  {
   "cell_type": "code",
   "execution_count": 6,
   "metadata": {},
   "outputs": [],
   "source": [
    "epsilon_list = np.logspace(-10,0,number_of_epsilon) #this is the base 10 exponent range"
   ]
  },
  {
   "cell_type": "code",
   "execution_count": 7,
   "metadata": {},
   "outputs": [],
   "source": [
    "m_list = np.logspace(-18,-4.5,number_of_m)"
   ]
  },
  {
   "cell_type": "code",
   "execution_count": 8,
   "metadata": {},
   "outputs": [],
   "source": [
    "Delta_V_evaluated = np.zeros(shape=(number_of_epsilon,number_of_m))\n",
    "for (i,m) in enumerate(m_list):\n",
    "    for (j,epsilon) in enumerate(epsilon_list):\n",
    "        Delta_V_evaluated[i][j] = Delta_V(epsilon,m)"
   ]
  },
  {
   "cell_type": "code",
   "execution_count": 9,
   "metadata": {},
   "outputs": [],
   "source": [
    "#check whether the potential difference is larger than v_sensitivity. If so, already eliminated by experiment\n",
    "#if still smaller, then it's still possible\n",
    "Delta_V_possible = Delta_V_evaluated<v_sense"
   ]
  },
  {
   "cell_type": "code",
   "execution_count": 10,
   "metadata": {},
   "outputs": [
    {
     "data": {
      "image/png": "[encoded data removed]",
      "text/plain": [
       "<Figure size 432x288 with 1 Axes>"
      ]
     },
     "metadata": {
      "needs_background": "light"
     },
     "output_type": "display_data"
    }
   ],
   "source": [
    "plt.pcolormesh(m_list,epsilon_list,Delta_V_possible.T,cmap=\"gray\") #always plot the transpose with colormesh\n",
    "plt.xscale(\"log\")\n",
    "plt.yscale(\"log\")\n",
    "plt.ylabel('$\\epsilon$')\n",
    "plt.xlabel('m (eV)')\n",
    "plt.title(\"Plimpton & Lawton ({} cm)\".format(str(thickness_in_cm)))\n",
    "plt.savefig(\"Plimpton & Lawton Thick Shell ({} cm) with new proposed paramters.png\".format(str(thickness_in_cm)),dpi=300)"
   ]
  },
  {
   "cell_type": "code",
   "execution_count": null,
   "metadata": {},
   "outputs": [],
   "source": []
  }
 ],
 "metadata": {
  "kernelspec": {
   "display_name": "Python 3",
   "language": "python",
   "name": "python3"
  },
  "language_info": {
   "codemirror_mode": {
    "name": "ipython",
    "version": 3
   },
   "file_extension": ".py",
   "mimetype": "text/x-python",
   "name": "python",
   "nbconvert_exporter": "python",
   "pygments_lexer": "ipython3",
   "version": "3.7.6"
  }
 },
 "nbformat": 4,
 "nbformat_minor": 4
}
